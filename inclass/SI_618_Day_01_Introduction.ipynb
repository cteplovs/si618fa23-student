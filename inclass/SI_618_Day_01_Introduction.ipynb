{
 "cells": [
  {
   "attachments": {},
   "cell_type": "markdown",
   "metadata": {},
   "source": [
    "<H1>SI 618 Day 01 - Introduction</H1>\n",
    "Dr. Chris Teplovs, University of Michigan School of Information\n",
    "<p>\n",
    "<small><a rel=\"license\" href=\"http://creativecommons.org/licenses/by-nc-sa/4.0/\"><img alt=\"Creative Commons License\" style=\"border-width:0\" src=\"https://i.creativecommons.org/l/by-nc-sa/4.0/88x31.png\" /></a><br/> This work is licensed under a <a rel=\"license\" href=\"http://creativecommons.org/licenses/by-nc-sa/4.0/\">Creative Commons Attribution-NonCommercial-ShareAlike 4.0 International License</a>.\n",
    "</small>\n",
    "</p>\n",
    "\n",
    "Notebook version 3.2"
   ]
  },
  {
   "attachments": {},
   "cell_type": "markdown",
   "metadata": {},
   "source": [
    "## Learning Objectives\n",
    "By the end of this class, you should:\n",
    "* confirm that you have a working Jupyter environment using Visual Studio Code (VS Code)\n",
    "* be able to open and edit a Jupyter notebook\n",
    "* be able to run a Jupyter notebook\n",
    "* have written your first code in this class\n",
    "* have successfully submitted an assignment to Canvas"
   ]
  },
  {
   "attachments": {},
   "cell_type": "markdown",
   "metadata": {},
   "source": [
    "You will be working in this notebook. When we are done, you will submit this notebook in two formats: HTML and IPYNB"
   ]
  },
  {
   "attachments": {},
   "cell_type": "markdown",
   "metadata": {},
   "source": [
    "Jupyter notebooks consist of two main types of \"cells\" or \"blocks\" (I use those terms interchangeably): code and markdown.  There are other types, but we won't be using them in this course.  Code blocks contain (python) code, whereas markdown blocks contain text.  Use markdown blocks to create richer narratives around your code.\n",
    "\n",
    "For more information about what constitutes a good Jupyter notebook, please read Adam Rule, et al. [Ten simple rules for writing and sharing computational analyses in Jupyter Notebooks](https://journals.plos.org/ploscompbiol/article?id=10.1371/journal.pcbi.1007007).\n",
    "\n",
    "In this course, we also expect you to conform to the PEP-8 style guidelines:  [PEP 8 Style Guide for Python Code](https://pep8.org/). Adapted from the original Python Enhancement Proposal,  [PEP 8](https://peps.python.org/pep-0008/). You will earn fewer points for your assignments if you do not follow this style guide.\n",
    "\n",
    "One of the first things we want to do in our notebooks is our `import`s.  We'll import two packages (or libraries, or modules) that we'll use a bit later in the notebook:\n"
   ]
  },
  {
   "cell_type": "code",
   "execution_count": null,
   "metadata": {},
   "outputs": [],
   "source": [
    "import csv\n",
    "import pandas as pd"
   ]
  },
  {
   "attachments": {},
   "cell_type": "markdown",
   "metadata": {},
   "source": [
    "### Challenge: Write code that prints out \"Hello, world!\" (don't overthink this one)"
   ]
  },
  {
   "cell_type": "code",
   "execution_count": null,
   "metadata": {},
   "outputs": [],
   "source": [
    "# replace this with your code"
   ]
  },
  {
   "attachments": {},
   "cell_type": "markdown",
   "metadata": {},
   "source": [
    "### Challenge: Write code that calculates the sum of squares of the following values: 1,3,5,7,9 \n",
    "Hint: the answer is 165"
   ]
  },
  {
   "cell_type": "code",
   "execution_count": null,
   "metadata": {},
   "outputs": [],
   "source": [
    "# replace this with your code"
   ]
  },
  {
   "attachments": {},
   "cell_type": "markdown",
   "metadata": {},
   "source": [
    "### Challenge: Write code to find the mode of any list of integers.  \n",
    "The mode is the most frequently occurring value.  In the case where multiple modes, you only need to print one of them.  Test your code with the following values: 1, 2, 3, 3, 4, 5, 5, 5, 6, 6, 7, 8, 9, 9, 9.\n",
    "\n",
    "Try to do this on your own without resorting to Googling for a solution."
   ]
  },
  {
   "cell_type": "code",
   "execution_count": null,
   "metadata": {},
   "outputs": [],
   "source": [
    "# replace this with your code"
   ]
  },
  {
   "attachments": {},
   "cell_type": "markdown",
   "metadata": {},
   "source": [
    "### Challenge: Calculate the mean temperature for the data in aranet4.csv\n",
    "The datafile can be found at ../data/aranet4.csv (assuming you downloaded a zip file or cloned the GitHub repo).  Your output should consist of the following:\n",
    "\n",
    "```Mean temperature: X.XX```\n",
    "\n",
    "where `X.XX` is the mean temperature rounded to two decimal places.  For example: 27.23 or 4.32 or -1.20.\n",
    "\n",
    "You should use only base python and the functions provided by the `csv` module.\n",
    "\n",
    "We have started your cell for you, so all you need to do is write code to do the implementation.  In case you manage to delete the starter code, here it is in Markdown:\n",
    "```\n",
    "filename = '../data/aranet4.csv'\n",
    "import csv\n",
    "```"
   ]
  },
  {
   "cell_type": "code",
   "execution_count": null,
   "metadata": {},
   "outputs": [],
   "source": [
    "filename = '../data/aranet4.csv'\n",
    "\n",
    "# replace this with your code"
   ]
  },
  {
   "attachments": {},
   "cell_type": "markdown",
   "metadata": {},
   "source": [
    "Just for fun, here's how to do the above challenge using pandas:"
   ]
  },
  {
   "cell_type": "code",
   "execution_count": null,
   "metadata": {},
   "outputs": [],
   "source": [
    "aranet_df = pd.read_csv(filename)\n",
    "print(f\"Mean temperature: {aranet_df['Temperature(°C)'].mean():.2f}\")"
   ]
  },
  {
   "attachments": {},
   "cell_type": "markdown",
   "metadata": {},
   "source": [
    "## END OF NOTEBOOK\n",
    "Remember to submit this notebook to Canvas in both HTML and IPYNB formats."
   ]
  },
  {
   "cell_type": "markdown",
   "metadata": {},
   "source": []
  }
 ],
 "metadata": {
  "kernelspec": {
   "display_name": ".venv",
   "language": "python",
   "name": "python3"
  },
  "language_info": {
   "codemirror_mode": {
    "name": "ipython",
    "version": 3
   },
   "file_extension": ".py",
   "mimetype": "text/x-python",
   "name": "python",
   "nbconvert_exporter": "python",
   "pygments_lexer": "ipython3",
   "version": "3.9.13"
  },
  "orig_nbformat": 4,
  "vscode": {
   "interpreter": {
    "hash": "90fd63f6819c340b438e5c293ddfb31e39be622c688d56bb62c76ae0c0566a54"
   }
  }
 },
 "nbformat": 4,
 "nbformat_minor": 2
}
