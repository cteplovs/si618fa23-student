{
 "cells": [
  {
   "cell_type": "markdown",
   "metadata": {
    "slideshow": {
     "slide_type": "slide"
    }
   },
   "source": [
    "<H1>Pandas Overview</H1>\n",
    "<br/>\n",
    "Dr. Chris Teplovs<br/>\n",
    "University of Michigan<br/>\n",
    "School of Information<br/>\n",
    "<p>\n",
    "<small><a rel=\"license\" href=\"http://creativecommons.org/licenses/by-nc-sa/4.0/\"><img alt=\"Creative Commons License\" style=\"border-width:0\" src=\"https://i.creativecommons.org/l/by-nc-sa/4.0/88x31.png\" /></a> This work is licensed under a <a rel=\"license\" href=\"http://creativecommons.org/licenses/by-nc-sa/4.0/\">Creative Commons Attribution-NonCommercial-ShareAlike 4.0 International License</a>.\n",
    "</small>\n",
    "</p>"
   ]
  },
  {
   "cell_type": "markdown",
   "metadata": {
    "_cell_guid": "da21b90d-98fc-483f-bf58-bd1dacf7027c",
    "_kg_hide-input": true,
    "_uuid": "90fb4599b093efccc95cacb6db2da95bcd695545",
    "jp-MarkdownHeadingCollapsed": true,
    "slideshow": {
     "slide_type": "skip"
    },
    "tags": []
   },
   "source": [
    "This is a short introduction to pandas, geared mainly for new users.\n",
    "\n",
    "This guide comes directly from the [10 Minute Guide to Pandas](https://pandas.pydata.org/pandas-docs/stable/user_guide/10min.html) on the Pandas official website. It was ported to a Jupyter notebook by [Binh](https://www.kaggle.com/code/btphan/10-minutes-to-pandas/notebook) to make the code more accessible.  We have edited Binh's work to bring it up to date with the current version of pandas, as well as fixing some minor stylistic issues.\n",
    "\n",
    "You can see more complex recipes in the [Cookbook](https://pandas.pydata.org/pandas-docs/stable/user_guide/cookbook.html)\n",
    "\n",
    "For this class, we're going to going to go through this notebook quickly.  We'll then spend the next few classes covering the topics introduced in this notebook in more detail."
   ]
  },
  {
   "cell_type": "code",
   "execution_count": 1,
   "metadata": {
    "_cell_guid": "f26dff57-ef68-4cbf-86f1-b027cc75d6c1",
    "_uuid": "e0a227d03ea6a2d1995268f8cea078357eb596d4",
    "slideshow": {
     "slide_type": "slide"
    }
   },
   "outputs": [],
   "source": [
    "import pandas as pd\n",
    "import numpy as np\n",
    "import matplotlib.pyplot as plt"
   ]
  },
  {
   "cell_type": "markdown",
   "metadata": {
    "_cell_guid": "0c4de500-e940-428a-a624-d72cf69055ae",
    "_uuid": "666bd202e06457942b464ff348f49256eb40cb10",
    "slideshow": {
     "slide_type": "slide"
    }
   },
   "source": [
    "# Object Creation\n",
    "See the [Data Structure Intro section](https://pandas.pydata.org/pandas-docs/stable/user_guide/dsintro.html). Creating a Series by passing a list of values, letting pandas create a default integer index:"
   ]
  },
  {
   "cell_type": "code",
   "execution_count": null,
   "metadata": {
    "_cell_guid": "684d2ff9-f491-4384-b51d-d89a545f40a6",
    "_uuid": "3d527ebba36697ffcf0b5d46ef717172edcb0539",
    "slideshow": {
     "slide_type": "subslide"
    }
   },
   "outputs": [],
   "source": [
    "s = pd.Series([1, 3, 5, np.nan, 6, 8])\n",
    "s"
   ]
  },
  {
   "cell_type": "markdown",
   "metadata": {
    "_cell_guid": "a34354da-ed7a-4b6c-b29a-371b98778256",
    "_uuid": "762a9ec540f47f1aeba21b5a7deb1cf51a0994eb",
    "slideshow": {
     "slide_type": "subslide"
    }
   },
   "source": [
    "Creating a [DataFrame](https://pandas.pydata.org/pandas-docs/stable/generated/pandas.DataFrame.html#pandas.DataFrame) by passing a numpy array, with a datetime index and labeled columns:"
   ]
  },
  {
   "cell_type": "code",
   "execution_count": null,
   "metadata": {
    "_cell_guid": "1f57494c-5ec2-49a4-adb4-4843d5c39c62",
    "_uuid": "50b786a38ed5b11ec29c308d29599623c26f0f23"
   },
   "outputs": [],
   "source": [
    "dates = pd.date_range('20130101', periods=6)\n",
    "dates"
   ]
  },
  {
   "cell_type": "code",
   "execution_count": null,
   "metadata": {
    "_cell_guid": "e29399aa-3818-4dd8-bc3b-634aa5c3fe78",
    "_uuid": "b21c8f9e3992c18eb839851aaa6ad057654e9082",
    "slideshow": {
     "slide_type": "subslide"
    }
   },
   "outputs": [],
   "source": [
    "df = pd.DataFrame(np.random.randn(6, 4), index=dates,\n",
    "                  columns=['A', 'B', 'C', 'D'])\n",
    "# alternatively, columns=list(\"ABCD\")\n",
    "df"
   ]
  },
  {
   "cell_type": "markdown",
   "metadata": {
    "_cell_guid": "6622566b-e889-4589-88db-9e6ac53bda43",
    "_uuid": "886f7623a8e6ef893a83174796656aa7417c72be",
    "slideshow": {
     "slide_type": "subslide"
    }
   },
   "source": [
    "Creating a DataFrame by passing a dict of objects that can be converted to series-like."
   ]
  },
  {
   "cell_type": "code",
   "execution_count": null,
   "metadata": {
    "_cell_guid": "a36d23bb-aa78-4964-984f-1c0fef73c85b",
    "_uuid": "91c969a5e0dede5ed222df08fda0a19e7ecb6ba9"
   },
   "outputs": [],
   "source": [
    "df2 = pd.DataFrame({'A': 1.,\n",
    "                    'B': pd.Timestamp('20130102'),\n",
    "                    'C': pd.Series(1, index=list(range(4)), dtype='float32'),\n",
    "                    'D': np.array([3] * 4, dtype='int32'),\n",
    "                    'E': pd.Categorical([\"test\", \"train\", \"test\", \"train\"]),\n",
    "                    'F': 'foo'})\n",
    "df2"
   ]
  },
  {
   "cell_type": "markdown",
   "metadata": {
    "_cell_guid": "10d03951-7cbd-4ee0-9302-1a77697a74f2",
    "_uuid": "05e30726935db33f49e624f496fc8c953be46383",
    "slideshow": {
     "slide_type": "subslide"
    }
   },
   "source": [
    "Having specific [dtypes](https://pandas.pydata.org/pandas-docs/stable/user_guide/basics.html):"
   ]
  },
  {
   "cell_type": "code",
   "execution_count": null,
   "metadata": {
    "_cell_guid": "e862ec95-5893-4f46-ac7d-4d8a638ffc1f",
    "_uuid": "9e7f0e3693cf1f63718fce13feed81c93ed22d58"
   },
   "outputs": [],
   "source": [
    "df2.dtypes"
   ]
  },
  {
   "cell_type": "markdown",
   "metadata": {
    "slideshow": {
     "slide_type": "slide"
    }
   },
   "source": []
  },
  {
   "cell_type": "markdown",
   "metadata": {
    "_cell_guid": "860dc5f5-ce12-47b0-b0b1-09cc4aba5f73",
    "_uuid": "886b98db6af991c2ec742c18085b0b8a7b88d31f",
    "slideshow": {
     "slide_type": "slide"
    }
   },
   "source": [
    "\n",
    "# Viewing Data\n",
    "See the [Basics section](https://pandas.pydata.org/pandas-docs/stable/user_guide/basics.html)\n",
    "\n",
    "See the top & bottom rows of the frame"
   ]
  },
  {
   "cell_type": "code",
   "execution_count": null,
   "metadata": {
    "_cell_guid": "b1b5ca0e-4b43-4ec9-80ee-65b807d234d2",
    "_uuid": "c1d9e77ee2cfdc5b81af10b29565a9166ca01994",
    "slideshow": {
     "slide_type": "subslide"
    }
   },
   "outputs": [],
   "source": [
    "df.head()"
   ]
  },
  {
   "cell_type": "code",
   "execution_count": null,
   "metadata": {
    "_cell_guid": "3428b24c-520e-4d23-b439-9c9e2b8d353d",
    "_uuid": "74c7c24d7adc0382cdc6055a88643ea7cbe2c111",
    "slideshow": {
     "slide_type": "subslide"
    }
   },
   "outputs": [],
   "source": [
    "df.tail(3)"
   ]
  },
  {
   "cell_type": "markdown",
   "metadata": {
    "_cell_guid": "efec648c-6c39-4b09-a87e-cf3dc723ff0b",
    "_uuid": "5c4372dac3fba6ebf7fc16e222ab135529dfb3fe",
    "slideshow": {
     "slide_type": "subslide"
    }
   },
   "source": [
    "Display the index, columns, and the underlying numpy data"
   ]
  },
  {
   "cell_type": "code",
   "execution_count": null,
   "metadata": {
    "_cell_guid": "53a240a3-ecb2-4f38-8862-da1d00aedf7c",
    "_uuid": "056ab69a40592e47b9e07cb2514784eb50d81ade"
   },
   "outputs": [],
   "source": [
    "df.index"
   ]
  },
  {
   "cell_type": "code",
   "execution_count": null,
   "metadata": {
    "_cell_guid": "a9cae030-681e-4b3d-993f-0e2cbaaa10a9",
    "_uuid": "b86456edbcc2249100502525c1fd38dd4235d0f3"
   },
   "outputs": [],
   "source": [
    "df.columns"
   ]
  },
  {
   "cell_type": "code",
   "execution_count": null,
   "metadata": {
    "_cell_guid": "0d442ada-0d41-4fe4-a843-48592068306d",
    "_uuid": "842fe1b27b0714ee2155a657e3eec4f3719a40b0",
    "slideshow": {
     "slide_type": "subslide"
    }
   },
   "outputs": [],
   "source": [
    "df.values"
   ]
  },
  {
   "cell_type": "markdown",
   "metadata": {
    "slideshow": {
     "slide_type": "subslide"
    }
   },
   "source": [
    "DataFrame.to_numpy() gives a NumPy representation of the underlying data."
   ]
  },
  {
   "cell_type": "markdown",
   "metadata": {
    "slideshow": {
     "slide_type": "-"
    }
   },
   "source": [
    "For df, our DataFrame of all floating-point values, DataFrame.to_numpy() is fast and doesn’t require copying data:"
   ]
  },
  {
   "cell_type": "code",
   "execution_count": null,
   "metadata": {},
   "outputs": [],
   "source": [
    "df.to_numpy()"
   ]
  },
  {
   "cell_type": "markdown",
   "metadata": {
    "slideshow": {
     "slide_type": "subslide"
    }
   },
   "source": [
    "For df2, the DataFrame with multiple dtypes, DataFrame.to_numpy() is relatively expensive:"
   ]
  },
  {
   "cell_type": "code",
   "execution_count": null,
   "metadata": {},
   "outputs": [],
   "source": [
    "df2.to_numpy()"
   ]
  },
  {
   "cell_type": "markdown",
   "metadata": {
    "_cell_guid": "ab9e7b9e-f32b-4c0f-9df6-32d4464a4cb2",
    "_uuid": "7ef425f14c048accd98f18f3a5e0974fa9fe8a78",
    "slideshow": {
     "slide_type": "subslide"
    }
   },
   "source": [
    "Describe shows a quick statistic summary of your data"
   ]
  },
  {
   "cell_type": "code",
   "execution_count": null,
   "metadata": {
    "_cell_guid": "43393dfd-989c-43a6-834e-550c8d3ccbd4",
    "_uuid": "1f1dbb5dd09ffa4c2ee0c3c289328de4c070ad2b"
   },
   "outputs": [],
   "source": [
    "df.describe()"
   ]
  },
  {
   "cell_type": "markdown",
   "metadata": {
    "_cell_guid": "21ba544f-8736-4382-8462-20f02c353328",
    "_uuid": "e5fb874c26019da50f1b68fbea8bcf0e7940809f",
    "slideshow": {
     "slide_type": "subslide"
    }
   },
   "source": [
    "Transposing your data"
   ]
  },
  {
   "cell_type": "code",
   "execution_count": null,
   "metadata": {
    "_cell_guid": "13e0e285-eac4-48fc-8a82-23491e8ebaf0",
    "_uuid": "ee5d4078cd8d5a545be55483208e73b9c9e939f4"
   },
   "outputs": [],
   "source": [
    "df.T"
   ]
  },
  {
   "cell_type": "markdown",
   "metadata": {
    "_cell_guid": "d92b9eac-9dc6-446e-b87e-d50ef52630a8",
    "_uuid": "b526362d5e5f451a460ca3add042b633538055dc",
    "slideshow": {
     "slide_type": "subslide"
    }
   },
   "source": [
    "Sorting by an axis (In this case, sorting the columns in reverse alphabetical order):"
   ]
  },
  {
   "cell_type": "code",
   "execution_count": null,
   "metadata": {
    "_cell_guid": "1dfd42f4-5231-4508-900f-1ddc37cdd250",
    "_uuid": "397ac00b05aa5867ba188f537ae7ac814275352c"
   },
   "outputs": [],
   "source": [
    "df.sort_index(axis=1, ascending=False)"
   ]
  },
  {
   "cell_type": "markdown",
   "metadata": {
    "_cell_guid": "9898c02b-57bd-48d6-884f-3fe8eb53b34a",
    "_uuid": "e3c6b93d9352a0660f989b63e09f03e05c9e1feb",
    "slideshow": {
     "slide_type": "subslide"
    }
   },
   "source": [
    "Sorting by values"
   ]
  },
  {
   "cell_type": "code",
   "execution_count": null,
   "metadata": {
    "_cell_guid": "389c1344-4f60-4628-b6c1-de736d429d3a",
    "_uuid": "df1ac4e8bc643bbcc49f0769c52778ca19761a9e"
   },
   "outputs": [],
   "source": [
    "df.sort_values(by='B')"
   ]
  },
  {
   "cell_type": "markdown",
   "metadata": {
    "slideshow": {
     "slide_type": "slide"
    }
   },
   "source": []
  },
  {
   "cell_type": "markdown",
   "metadata": {
    "_cell_guid": "6e80dc85-7f33-4803-928c-8f327da5c15a",
    "_uuid": "5202ddc8b46f9ce7333977c7dc4c919304fbfd4b",
    "slideshow": {
     "slide_type": "slide"
    }
   },
   "source": [
    "# Selection"
   ]
  },
  {
   "cell_type": "markdown",
   "metadata": {
    "_cell_guid": "cbf1a871-cf24-46ae-8384-72d99f6b3c9a",
    "_uuid": "dd007c4689288bd481c99133d13cb05e204ca1a8"
   },
   "source": [
    "Note While standard Python / Numpy expressions for selecting and setting are intuitive and come in handy for interactive work, for production code, we recommend the optimized pandas data access methods, .at, .iat, .loc, .iloc and .ix.\n",
    "See the indexing documentation [Indexing and Selecting Data](https://pandas.pydata.org/pandas-docs/stable/user_guide/indexing.html) and [MultiIndex / Advanced Indexing](https://pandas.pydata.org/pandas-docs/stable/user_guide/advanced.html)"
   ]
  },
  {
   "cell_type": "markdown",
   "metadata": {
    "_cell_guid": "002668d8-3da6-4f78-bb84-0c1d3d42c81c",
    "_uuid": "446149fabdb526d11b6d42aa58a7219043a63210",
    "slideshow": {
     "slide_type": "subslide"
    }
   },
   "source": [
    "## Getting"
   ]
  },
  {
   "cell_type": "markdown",
   "metadata": {
    "_cell_guid": "04f82f76-6390-4f0e-9a64-67619cc85e42",
    "_uuid": "8f34cc17657fc7f8b77f35c5beefdca76343994e",
    "slideshow": {
     "slide_type": "subslide"
    }
   },
   "source": [
    "Selecting a single column, which yields a Series, equivalent to df.one"
   ]
  },
  {
   "cell_type": "code",
   "execution_count": null,
   "metadata": {
    "_cell_guid": "4be8e75e-64f3-453e-b3e5-b788b1c967a5",
    "_uuid": "9bd8927534a077d8d9c3d74747ea6ab3f5070d68"
   },
   "outputs": [],
   "source": [
    "df['A']"
   ]
  },
  {
   "cell_type": "code",
   "execution_count": null,
   "metadata": {
    "_cell_guid": "c0092d95-8fd7-4059-8938-580a05c70f6b",
    "_uuid": "9678ff7f4faaffc358ad10bb176d96c7d45ac236"
   },
   "outputs": [],
   "source": [
    "df.A"
   ]
  },
  {
   "cell_type": "markdown",
   "metadata": {
    "_cell_guid": "a9160b5a-2a8d-42f7-a1a0-cf59481bbbe5",
    "_uuid": "724ce079707e2d58e3e6ec122a128fb280f85010",
    "slideshow": {
     "slide_type": "subslide"
    }
   },
   "source": [
    "Selecting via [], which slices the rows."
   ]
  },
  {
   "cell_type": "code",
   "execution_count": null,
   "metadata": {
    "_cell_guid": "f5909120-c5ee-498a-8ed1-b4316b51226e",
    "_uuid": "dbcd1c56866336f25d10ebfb1dbd457b1c5c415e"
   },
   "outputs": [],
   "source": [
    "df[0:3]"
   ]
  },
  {
   "cell_type": "code",
   "execution_count": null,
   "metadata": {
    "_cell_guid": "0b5c50db-08a3-487e-8f9b-3fac98f0c336",
    "_uuid": "1bc96862bd0c4fde57487e71bce38dc272763a36"
   },
   "outputs": [],
   "source": [
    "df['20130102':'20130104']"
   ]
  },
  {
   "cell_type": "markdown",
   "metadata": {
    "_cell_guid": "47120656-c870-4ccb-87d6-cdf0cb10628b",
    "_uuid": "50e9f44238b630e0f854dffa849f4a26f2b7abfd",
    "slideshow": {
     "slide_type": "slide"
    }
   },
   "source": [
    "## Selecting by Label"
   ]
  },
  {
   "cell_type": "markdown",
   "metadata": {
    "_cell_guid": "5eb8a10b-100c-4949-bf57-fc1b0b709023",
    "_uuid": "6c5b006e3dabd7dc506fb4c840b003667cdcb019",
    "slideshow": {
     "slide_type": "subslide"
    }
   },
   "source": [
    "See more in[ Selection by Label](https://pandas.pydata.org/pandas-docs/stable/indexing.html#indexing-label)\n",
    "\n",
    "For getting a cross section using a label"
   ]
  },
  {
   "cell_type": "code",
   "execution_count": null,
   "metadata": {
    "_cell_guid": "07d52142-94b9-42fb-a649-63f2f56bd3af",
    "_uuid": "34c5205092732b67a2de0667418af4f3e73fa18f"
   },
   "outputs": [],
   "source": [
    "df.loc[dates[0]]"
   ]
  },
  {
   "cell_type": "markdown",
   "metadata": {
    "_cell_guid": "6a647eb5-c61b-4a01-a9a9-cc9de6284338",
    "_uuid": "847a4c224d66434bc572cdd3106c99bce8925607",
    "slideshow": {
     "slide_type": "subslide"
    }
   },
   "source": [
    "Selecting on a multi-axis by label"
   ]
  },
  {
   "cell_type": "code",
   "execution_count": null,
   "metadata": {
    "_cell_guid": "7001a024-168a-4c7f-bf36-d813fb798bfb",
    "_uuid": "f46aa94ce3199632c14f66aea3f9155fc57c8d3e"
   },
   "outputs": [],
   "source": [
    "df.loc[:, ['A', 'B']]"
   ]
  },
  {
   "cell_type": "markdown",
   "metadata": {
    "_cell_guid": "e28a81bd-14eb-4931-a839-98d0ecaecd3c",
    "_uuid": "9a6ae941b46b104db1cd8def0545981d4733bfe9",
    "slideshow": {
     "slide_type": "subslide"
    }
   },
   "source": [
    "Showing label slicing, both endpoints are included"
   ]
  },
  {
   "cell_type": "code",
   "execution_count": null,
   "metadata": {
    "_cell_guid": "96ab0649-01d3-48f2-b519-dd78c2186336",
    "_uuid": "e02bd76d6a3169255570d96c2cb84d1d19baafe9"
   },
   "outputs": [],
   "source": [
    "df.loc['20130102':'20130104', ['A', 'B']]"
   ]
  },
  {
   "cell_type": "markdown",
   "metadata": {
    "_cell_guid": "1da0f850-8b42-4221-ae51-223924b40266",
    "_uuid": "74e06e2a77ac27d580b88b90068a795052f00e8e",
    "slideshow": {
     "slide_type": "subslide"
    }
   },
   "source": [
    "Reduction in the dimensions of the returned object"
   ]
  },
  {
   "cell_type": "code",
   "execution_count": null,
   "metadata": {
    "_cell_guid": "e7b0cb7d-70cc-41f6-8b55-32824b804241",
    "_uuid": "6477a1db5cf42f8260bc8c2cee54c2745fb255a1"
   },
   "outputs": [],
   "source": [
    "df.loc['20130102', ['A', 'B']] # type: ignore"
   ]
  },
  {
   "cell_type": "markdown",
   "metadata": {
    "_cell_guid": "3d623580-97fc-456e-924f-5bab3121d87d",
    "_uuid": "9f4dd3322a60f1b105d9a21783287edb27c8ea0c",
    "slideshow": {
     "slide_type": "subslide"
    }
   },
   "source": [
    "For getting a scalar value"
   ]
  },
  {
   "cell_type": "code",
   "execution_count": null,
   "metadata": {
    "_cell_guid": "5097b9ad-5170-41d8-857f-97142be556f5",
    "_uuid": "9f1d7120553ca8bb9a6b658c2f04e3bfe67f97a6"
   },
   "outputs": [],
   "source": [
    "df.loc[dates[0], 'A'] # type: ignore"
   ]
  },
  {
   "cell_type": "markdown",
   "metadata": {
    "_cell_guid": "68f229fd-5117-4207-856e-5c6e4b58c135",
    "_uuid": "3586bfb5875d760a36ecf78e62dd0ca38a67b54b",
    "slideshow": {
     "slide_type": "subslide"
    }
   },
   "source": [
    "For getting fast access to a scalar (equiv to the prior method)"
   ]
  },
  {
   "cell_type": "code",
   "execution_count": null,
   "metadata": {
    "_cell_guid": "39271947-9c6d-456a-aaf3-307e55d24442",
    "_uuid": "c30b411195fff3849b54bcdc3b658fbcc96cecbb"
   },
   "outputs": [],
   "source": [
    "df.at[dates[0], 'A']"
   ]
  },
  {
   "cell_type": "markdown",
   "metadata": {
    "_cell_guid": "7dd7fef8-149a-420f-a45b-af912c3f2369",
    "_uuid": "16f6dc5101bf7f1cef79a016c9b557ee910930ad",
    "slideshow": {
     "slide_type": "slide"
    }
   },
   "source": [
    "## Selection by Position"
   ]
  },
  {
   "cell_type": "code",
   "execution_count": null,
   "metadata": {
    "_cell_guid": "fe438107-8d37-4714-8da7-d1c5b3afc846",
    "_uuid": "62558a81897d581168ee6c2b41f76267b9c91124",
    "slideshow": {
     "slide_type": "-"
    }
   },
   "outputs": [],
   "source": [
    "df.iloc[3]"
   ]
  },
  {
   "cell_type": "markdown",
   "metadata": {
    "_cell_guid": "cd04525c-ada2-4260-b5f7-747d4e5df884",
    "_uuid": "4709ff3e512e7d238ed456980113d4934499b5d6",
    "slideshow": {
     "slide_type": "subslide"
    }
   },
   "source": [
    "By integer slices, acting similar to numpy/python"
   ]
  },
  {
   "cell_type": "code",
   "execution_count": null,
   "metadata": {},
   "outputs": [],
   "source": [
    "df.iloc[3:5, 0:2]"
   ]
  },
  {
   "cell_type": "markdown",
   "metadata": {
    "_cell_guid": "728cc20e-ba9d-413d-9ee5-e76eb2735c8a",
    "_uuid": "602b716b2b8d28bede8043ce95f3247233d3b94c",
    "slideshow": {
     "slide_type": "subslide"
    }
   },
   "source": [
    "By lists of integer position locations, similar to the numpy/python style"
   ]
  },
  {
   "cell_type": "code",
   "execution_count": null,
   "metadata": {
    "_cell_guid": "0af7f46d-7da7-4b36-bcfd-02a9fdb8dbe5",
    "_uuid": "83f0a59d8beabd0bb6192467ebe9b287a3216776"
   },
   "outputs": [],
   "source": [
    "df.iloc[[1, 2, 4], [0, 2]]"
   ]
  },
  {
   "cell_type": "markdown",
   "metadata": {
    "_cell_guid": "e9f6b749-ad67-4d89-aaed-4024b8530936",
    "_uuid": "61639e9a7523b05fb1a03d464ffa1f1eb1688efb",
    "slideshow": {
     "slide_type": "subslide"
    }
   },
   "source": [
    "For slicing rows explicitly"
   ]
  },
  {
   "cell_type": "code",
   "execution_count": null,
   "metadata": {
    "_cell_guid": "467719ff-d23e-45c2-9657-0b7bcaff6655",
    "_uuid": "8d69d0090825b1644d037ecb051afdb9633628d3"
   },
   "outputs": [],
   "source": [
    "df.iloc[1:3, :]"
   ]
  },
  {
   "cell_type": "markdown",
   "metadata": {
    "_cell_guid": "38c01dfe-f13a-4cef-bfed-b49e77eef480",
    "_uuid": "aa3ccb6ed055424381bdb3e41b97ea2f881d19db",
    "slideshow": {
     "slide_type": "subslide"
    }
   },
   "source": [
    "For slicing columns explicitly"
   ]
  },
  {
   "cell_type": "code",
   "execution_count": null,
   "metadata": {
    "_cell_guid": "7a0bdd04-6670-4821-8328-3090827a13ed",
    "_uuid": "c14695bf9699073d68e0aeb63973a58bee51c57c"
   },
   "outputs": [],
   "source": [
    "df.iloc[:, 1:3]"
   ]
  },
  {
   "cell_type": "markdown",
   "metadata": {
    "_cell_guid": "c7526fcd-5d0f-41c0-946f-726fadd3d8cf",
    "_uuid": "728d45f365a6e58c4fe60caaec27170c956b47e5",
    "slideshow": {
     "slide_type": "subslide"
    }
   },
   "source": [
    "For getting a value explicitly"
   ]
  },
  {
   "cell_type": "code",
   "execution_count": null,
   "metadata": {
    "_cell_guid": "32c6bb98-903a-45b1-b430-08d1b898e813",
    "_uuid": "8c824f1f3d44d8ed41b7b1328354863861ee9ef2"
   },
   "outputs": [],
   "source": [
    "df.iloc[1, 1]"
   ]
  },
  {
   "cell_type": "markdown",
   "metadata": {
    "_cell_guid": "24a9bd7b-8362-4722-8aa2-0c2484163586",
    "_uuid": "9cc662005289530c6cf43b87dabd314a313ffde1",
    "slideshow": {
     "slide_type": "subslide"
    }
   },
   "source": [
    "For getting fast access to a scalar (equiv to the prior method)"
   ]
  },
  {
   "cell_type": "code",
   "execution_count": null,
   "metadata": {
    "_cell_guid": "2080b00d-b540-4bba-b8bc-682b80356290",
    "_uuid": "dfedfb75ff53703c78c0558f2822b01a0b8af49e"
   },
   "outputs": [],
   "source": [
    "df.iat[1, 1]"
   ]
  },
  {
   "cell_type": "markdown",
   "metadata": {
    "_cell_guid": "4205069b-9b81-4015-8113-80e5997ed02a",
    "_uuid": "1f65376861105ccf80d8230b7518ec631e869383",
    "slideshow": {
     "slide_type": "slide"
    }
   },
   "source": [
    "## Boolean Indexing\n",
    "Using a single column’s values to select data."
   ]
  },
  {
   "cell_type": "code",
   "execution_count": null,
   "metadata": {
    "_cell_guid": "b7d6f231-8fca-4b94-b4da-7e1077bfc1c6",
    "_uuid": "0897ab764824072dc3d6d45bc03c70f1f29c6833",
    "slideshow": {
     "slide_type": "subslide"
    }
   },
   "outputs": [],
   "source": [
    "df[df[\"A\"] > 0]"
   ]
  },
  {
   "cell_type": "markdown",
   "metadata": {
    "_cell_guid": "001075c2-f7be-4218-9683-ffa1f5d9240e",
    "_uuid": "4b70f057a80db995d082b8d30c54ba603fe2cb62",
    "slideshow": {
     "slide_type": "subslide"
    }
   },
   "source": [
    "Selecting values from a DataFrame where a boolean condition is met."
   ]
  },
  {
   "cell_type": "code",
   "execution_count": null,
   "metadata": {
    "_cell_guid": "01955ea3-17c6-4b0d-8d2e-cc5d654bb6cf",
    "_uuid": "8a6a6d699089df278c1436c28b9ff50c18e424ec"
   },
   "outputs": [],
   "source": [
    "df[df > 0]"
   ]
  },
  {
   "cell_type": "markdown",
   "metadata": {
    "_cell_guid": "0d9b0104-071e-4b67-a28c-af0a3b5298c5",
    "_uuid": "152e38c5f8c9b1623f719b3d733d4a7dd83d37bd",
    "slideshow": {
     "slide_type": "subslide"
    }
   },
   "source": [
    "Using the isin method for filtering:"
   ]
  },
  {
   "cell_type": "code",
   "execution_count": null,
   "metadata": {
    "_cell_guid": "81efdb26-8d6d-4d30-8095-0212e2068bd7",
    "_uuid": "ac6deb8efac6fea270befc2c5a444825de86a270"
   },
   "outputs": [],
   "source": [
    "df2 = df.copy()\n",
    "df2[\"E\"] = [\"one\", \"one\", \"two\", \"three\", \"four\", \"three\"]\n",
    "df2"
   ]
  },
  {
   "cell_type": "code",
   "execution_count": null,
   "metadata": {
    "_cell_guid": "b8a6507a-ab97-4884-ad6b-86ce08b562b1",
    "_uuid": "1057b0c34eae282d8b234583497a6e9d53a254f5",
    "slideshow": {
     "slide_type": "subslide"
    }
   },
   "outputs": [],
   "source": [
    "df2[df2['E'].isin(['two', 'four'])]"
   ]
  },
  {
   "cell_type": "markdown",
   "metadata": {
    "_cell_guid": "b6eff184-f774-4668-a5fa-2eb792a8ee19",
    "_uuid": "36dc62173e385467dca8e0b12398ce00cd3bc7c9",
    "slideshow": {
     "slide_type": "slide"
    }
   },
   "source": [
    "## Setting\n",
    "Setting a new column automatically aligns the data by the indexes"
   ]
  },
  {
   "cell_type": "code",
   "execution_count": null,
   "metadata": {
    "_cell_guid": "4d61f140-af66-4b4c-9296-17e243bf4991",
    "_uuid": "c0f9338b687ee3fb7b535f772955de1cb232e10e",
    "slideshow": {
     "slide_type": "subslide"
    }
   },
   "outputs": [],
   "source": [
    "s1 = pd.Series([1, 2, 3, 4, 5, 6], index=pd.date_range(\"20130102\", periods=6))\n",
    "s1"
   ]
  },
  {
   "cell_type": "code",
   "execution_count": null,
   "metadata": {
    "_cell_guid": "ef2e599f-68db-48c8-b750-e8f5143fe407",
    "_uuid": "6f01ca50121e0d9289c675ea6de02a716ae66dfb",
    "slideshow": {
     "slide_type": "subslide"
    }
   },
   "outputs": [],
   "source": [
    "df['F'] = s1\n",
    "df"
   ]
  },
  {
   "cell_type": "markdown",
   "metadata": {
    "_cell_guid": "360096be-309b-4cc7-8ecb-d23721cb14a2",
    "_uuid": "ae8946ddaffc0e88adab4a082e2ffd2252700078",
    "slideshow": {
     "slide_type": "subslide"
    }
   },
   "source": [
    "Setting values by label:"
   ]
  },
  {
   "cell_type": "code",
   "execution_count": null,
   "metadata": {
    "_cell_guid": "a3acd34a-8443-4d9a-83e7-8b98dc75ba63",
    "_uuid": "190aff49aae8c1396239b406e9909e62de82c0b3"
   },
   "outputs": [],
   "source": [
    "df.at[dates[0], \"A\"] = 0\n",
    "df"
   ]
  },
  {
   "cell_type": "markdown",
   "metadata": {
    "_cell_guid": "0da27b58-8d50-424c-85a5-a13606a93e8a",
    "_uuid": "2b4a495f12e347c3d5b6db4951766e7390dc516f",
    "slideshow": {
     "slide_type": "subslide"
    }
   },
   "source": [
    "Setting values by position:"
   ]
  },
  {
   "cell_type": "code",
   "execution_count": null,
   "metadata": {
    "_cell_guid": "a6891c06-b41e-440a-a15e-8e80bedef5fe",
    "_uuid": "1500650883a2caeaf0d0cb3c1895bb305fa58eb7"
   },
   "outputs": [],
   "source": [
    "df.iat[0, 1] = 0\n",
    "df"
   ]
  },
  {
   "cell_type": "code",
   "execution_count": null,
   "metadata": {
    "_cell_guid": "1e8225cf-4459-4cb4-98ef-a32d09c382e2",
    "_uuid": "6993b6c151f135cc7a965730c4c572775cbd8a01",
    "slideshow": {
     "slide_type": "subslide"
    }
   },
   "outputs": [],
   "source": [
    "df.loc[:, \"D\"] = np.array([5] * len(df))\n",
    "df"
   ]
  },
  {
   "cell_type": "markdown",
   "metadata": {
    "_cell_guid": "5ac1ed59-30d2-41c3-883c-bb96634f4830",
    "_uuid": "1f0389c283d54453415ca78a3eafc8d127ba2893",
    "slideshow": {
     "slide_type": "subslide"
    }
   },
   "source": [
    "A where operation with setting."
   ]
  },
  {
   "cell_type": "code",
   "execution_count": null,
   "metadata": {
    "_cell_guid": "7108c375-08f9-4402-9f39-7e68f3ac929f",
    "_uuid": "783d37539e38075c324ebd1c29689211afb66a03"
   },
   "outputs": [],
   "source": [
    "df2 = df.copy()\n",
    "df2[df2 > 0] = -df2\n",
    "df2"
   ]
  },
  {
   "cell_type": "markdown",
   "metadata": {
    "slideshow": {
     "slide_type": "slide"
    }
   },
   "source": []
  },
  {
   "cell_type": "markdown",
   "metadata": {
    "_cell_guid": "4bab0a44-3ea1-4817-ae0e-233d159e74e5",
    "_uuid": "5481ab3311350209e065b43c612af4b85bee6a1d",
    "slideshow": {
     "slide_type": "slide"
    }
   },
   "source": [
    "## Missing Data\n",
    "pandas primarily uses the value np.nan to represent missing data. It is by default not included in computations. See the [Missing Data section](https://pandas.pydata.org/pandas-docs/stable/user_guide/missing_data.html)\n",
    "\n",
    "Reindexing allows you to change/add/delete the index on a specified axis. This returns a copy of the data."
   ]
  },
  {
   "cell_type": "code",
   "execution_count": null,
   "metadata": {
    "_cell_guid": "8ea992cf-a44c-48ba-8c29-772a76a62e25",
    "_uuid": "b34287e42a0e574b9ada0dd0660e7610bde2a4a2",
    "slideshow": {
     "slide_type": "subslide"
    }
   },
   "outputs": [],
   "source": [
    "df1 = df.reindex(index=dates[0:4], columns=list(df.columns) + [\"E\"])\n",
    "df1.loc[dates[0] : dates[1], \"E\"] = 1\n",
    "df1"
   ]
  },
  {
   "cell_type": "markdown",
   "metadata": {
    "_cell_guid": "7e0319e8-fc11-4556-a0e6-4bc520b2179f",
    "_uuid": "46eaf209fd3122be95d2ef0804dc8bd665794205",
    "slideshow": {
     "slide_type": "subslide"
    }
   },
   "source": [
    "To drop any rows that have missing data:"
   ]
  },
  {
   "cell_type": "code",
   "execution_count": null,
   "metadata": {
    "_cell_guid": "9c118c95-34b0-4a03-9ae6-4a4e2fb3ab52",
    "_uuid": "be778687edde438a54f9378d59f532c9fe9d87da"
   },
   "outputs": [],
   "source": [
    "df1.dropna(how='any')"
   ]
  },
  {
   "cell_type": "markdown",
   "metadata": {
    "_cell_guid": "b833f8bd-684d-42d6-babb-6a2d02257757",
    "_uuid": "8a107a35dfb6b1f888a3760b1ddc1a2fc8ef1eae",
    "slideshow": {
     "slide_type": "subslide"
    }
   },
   "source": [
    "Filling missing data:"
   ]
  },
  {
   "cell_type": "code",
   "execution_count": null,
   "metadata": {
    "_cell_guid": "f2521f7e-c916-4de2-abb5-c9c5ebebc600",
    "_uuid": "a5089cfe6c94a390800d4ebc997f143f5c000e8e"
   },
   "outputs": [],
   "source": [
    "df1.fillna(value=5)"
   ]
  },
  {
   "cell_type": "markdown",
   "metadata": {
    "slideshow": {
     "slide_type": "subslide"
    }
   },
   "source": [
    "To get the boolean mask where values are nan:"
   ]
  },
  {
   "cell_type": "code",
   "execution_count": null,
   "metadata": {},
   "outputs": [],
   "source": [
    "pd.isna(df1)"
   ]
  },
  {
   "cell_type": "markdown",
   "metadata": {
    "slideshow": {
     "slide_type": "slide"
    }
   },
   "source": []
  },
  {
   "cell_type": "markdown",
   "metadata": {
    "_cell_guid": "a599044b-97a5-4ff1-ac07-d2205c9bd275",
    "_uuid": "7dd84063efa95105e26e900a85b3b593c5f79406",
    "slideshow": {
     "slide_type": "slide"
    }
   },
   "source": [
    "### Stats\n",
    "Operations in general *exclude* missing data.\n",
    "\n",
    "Performing a descriptive statistic:"
   ]
  },
  {
   "cell_type": "code",
   "execution_count": null,
   "metadata": {
    "_cell_guid": "873b0539-d75a-4d8f-81e2-42c1ee70f945",
    "_uuid": "18a53af2b3fcb793e6c52ddfabc3bf4b01edc3ae"
   },
   "outputs": [],
   "source": [
    "df.mean()"
   ]
  },
  {
   "cell_type": "markdown",
   "metadata": {
    "_cell_guid": "20530588-c864-428f-aad0-4ad48a3df1e5",
    "_uuid": "f066371c33bd242c801bb35fb61caed24cff26f6",
    "slideshow": {
     "slide_type": "subslide"
    }
   },
   "source": [
    "Same operation on the other axis:"
   ]
  },
  {
   "cell_type": "code",
   "execution_count": null,
   "metadata": {
    "_cell_guid": "88cdbfa8-728c-4803-a400-5b348828e03e",
    "_uuid": "25a698388c134cb27fc648f76ecef27c12471fce"
   },
   "outputs": [],
   "source": [
    "df.mean(axis='columns')"
   ]
  },
  {
   "cell_type": "markdown",
   "metadata": {
    "_cell_guid": "1fffe4d6-a49d-42e5-8b89-e44724ad03db",
    "_uuid": "a10e0ecc601023ea17c043b422ae7774a718e97e",
    "slideshow": {
     "slide_type": "slide"
    }
   },
   "source": [
    "Operating with objects that have different dimensionality and need alignment. In addition, pandas automatically broadcasts along the specified dimension. The following code also shifts the data vertically, leaving NaN values in the unoccupied spaces"
   ]
  },
  {
   "cell_type": "code",
   "execution_count": null,
   "metadata": {
    "_cell_guid": "e461e77a-cc2d-4186-9a6f-00f7b898328d",
    "_uuid": "7eda48639b578d0a9fb2e6e3a3f4ba76fbde780c"
   },
   "outputs": [],
   "source": [
    "s = pd.Series([1, 3, 5, np.nan, 6, 8], index=dates).shift(2)\n",
    "s"
   ]
  },
  {
   "cell_type": "code",
   "execution_count": null,
   "metadata": {
    "_cell_guid": "950ca30f-af5b-4184-9556-f98187afe6d5",
    "_uuid": "b88c2ac00262f1176bc919dc4bfa9e37bafa3d07"
   },
   "outputs": [],
   "source": [
    "df.sub(s, axis='index')"
   ]
  },
  {
   "cell_type": "markdown",
   "metadata": {
    "_cell_guid": "8a609a42-405f-4145-a258-2b2a1a836fa6",
    "_uuid": "a82c28ab38951a030fc5aaffc9229091af226cf8",
    "slideshow": {
     "slide_type": "slide"
    }
   },
   "source": [
    "### Apply\n",
    "Applying functions to the data"
   ]
  },
  {
   "cell_type": "code",
   "execution_count": null,
   "metadata": {
    "_cell_guid": "ed25e76b-00c8-4f75-b8f2-a6b2669e264f",
    "_uuid": "0fdf92e9b753e997301f3d7c9e88941f87e086b1"
   },
   "outputs": [],
   "source": [
    "df.apply(np.cumsum)"
   ]
  },
  {
   "cell_type": "markdown",
   "metadata": {
    "_cell_guid": "c29ce7af-9539-4857-9f41-0453d788992f",
    "_uuid": "f016b295830e32f680784dbe2f41b568215d9efb",
    "slideshow": {
     "slide_type": "slide"
    }
   },
   "source": [
    "### Histogramming \n",
    "See more at [Histogramming and Discretization](https://pandas.pydata.org/pandas-docs/stable/basics.html#basics-discretization)"
   ]
  },
  {
   "cell_type": "code",
   "execution_count": null,
   "metadata": {
    "_cell_guid": "765ec7fe-83b0-4180-acdc-540a28422a85",
    "_uuid": "8cc61eeda690d11eefecf2116e28136020ca0003"
   },
   "outputs": [],
   "source": [
    "s = pd.Series(np.random.randint(0, 7, size=10))\n",
    "s"
   ]
  },
  {
   "cell_type": "code",
   "execution_count": null,
   "metadata": {
    "_cell_guid": "cd3bda59-12a7-434c-9195-23c4dcba5b8b",
    "_uuid": "77963d7b3d63b8e939652cc2c114a0731baa359e"
   },
   "outputs": [],
   "source": [
    "s.value_counts()"
   ]
  },
  {
   "cell_type": "markdown",
   "metadata": {
    "_cell_guid": "cb8c8038-acc7-4b09-8e70-3354521439e6",
    "_uuid": "e74ee3f403a6358e6658dcfae2f2909128d64130",
    "slideshow": {
     "slide_type": "slide"
    }
   },
   "source": [
    "### String Methods\n",
    "Series is equipped with a set of string processing methods in the str attribute that make it easy to operate on each element of the array, as in the code snippet below. Note that pattern-matching in str generally uses [regular expressions](https://docs.python.org/3/library/re.html) by default (and in some cases always uses them). See more at [Vectorized String Methods](https://pandas.pydata.org/pandas-docs/stable/user_guide/text.html)."
   ]
  },
  {
   "cell_type": "code",
   "execution_count": null,
   "metadata": {
    "_cell_guid": "d6eb8ddf-f32a-406d-8d9e-bd0c0a76bdc9",
    "_uuid": "b74596be6dc4925c11bbc9552f52e0ab8a401b19"
   },
   "outputs": [],
   "source": [
    "s = pd.Series(['A', 'B', 'C', 'Aaba', 'Baca', np.nan, 'CABA', 'dog', 'cat'])"
   ]
  },
  {
   "cell_type": "code",
   "execution_count": null,
   "metadata": {
    "_cell_guid": "ea018f68-1d1e-487a-9d8d-e985f2c1d08f",
    "_uuid": "fb5a35db50d449608f76c79aaacf3c27f79ac398"
   },
   "outputs": [],
   "source": [
    "s.str.lower()"
   ]
  },
  {
   "cell_type": "markdown",
   "metadata": {
    "slideshow": {
     "slide_type": "slide"
    }
   },
   "source": []
  },
  {
   "cell_type": "markdown",
   "metadata": {
    "_cell_guid": "bbeb9a06-d07c-4d38-96f6-fd96f8109a36",
    "_uuid": "9ecce4d43cdb73c250c231bd1f6ced47238ee848",
    "slideshow": {
     "slide_type": "slide"
    }
   },
   "source": [
    "# Merge\n",
    "### Concat\n",
    "pandas provides various facilities for easily combining together Series, DataFrame, and Panel objects with various kinds of set logic for the indexes and relational algebra functionality in the case of join / merge-type operations.\n",
    "\n",
    "See the [Merging section](https://pandas.pydata.org/pandas-docs/stable/user_guide/merging.html)\n",
    "\n",
    "Concatenating pandas objects together with [concat()](https://pandas.pydata.org/pandas-docs/stable/reference/api/pandas.concat.html):"
   ]
  },
  {
   "cell_type": "code",
   "execution_count": null,
   "metadata": {
    "_cell_guid": "35b5371c-d03f-4014-b43e-0ea171cc2af5",
    "_uuid": "0e198af891bd5bd91c825d3e3f825211106140a6",
    "slideshow": {
     "slide_type": "subslide"
    }
   },
   "outputs": [],
   "source": [
    "df = pd.DataFrame(np.random.randn(10, 4))\n",
    "df"
   ]
  },
  {
   "cell_type": "code",
   "execution_count": null,
   "metadata": {
    "_cell_guid": "295ac685-5727-4a04-b910-34810572e984",
    "_uuid": "e1b0e0b7a541f0347586622dbd355ca42b7778cd",
    "slideshow": {
     "slide_type": "subslide"
    }
   },
   "outputs": [],
   "source": [
    "#break it into pieces:\n",
    "pieces = [df[:3], df[3:7], df[7:]]\n",
    "pieces"
   ]
  },
  {
   "cell_type": "code",
   "execution_count": null,
   "metadata": {
    "_cell_guid": "aa28f68e-a314-4bbe-a71b-568238c3be23",
    "_uuid": "ec51477795c9b3f0bd0366d130175b226cc9232b",
    "slideshow": {
     "slide_type": "subslide"
    }
   },
   "outputs": [],
   "source": [
    "pd.concat(pieces)"
   ]
  },
  {
   "cell_type": "markdown",
   "metadata": {
    "_cell_guid": "62030eae-f3ff-4d73-816b-a7c9b16d557d",
    "_uuid": "bd71a71d0715857037ccb116bec2084ac65f0a17",
    "slideshow": {
     "slide_type": "slide"
    }
   },
   "source": [
    "### Join"
   ]
  },
  {
   "cell_type": "markdown",
   "metadata": {
    "_cell_guid": "1fc997a6-5359-4fcd-bd1a-b0348f71b819",
    "_uuid": "2e5ea2b06b8349ad6e39af887988652edb8fbb73"
   },
   "source": [
    "SQL style merges. See the [Database style joining](https://pandas.pydata.org/pandas-docs/stable/user_guide/merging.html)"
   ]
  },
  {
   "cell_type": "code",
   "execution_count": null,
   "metadata": {
    "_cell_guid": "e4564981-808b-4154-8e35-6e94c2883821",
    "_uuid": "ae963f9acd041abc13954a8b57425a162550106f",
    "slideshow": {
     "slide_type": "subslide"
    }
   },
   "outputs": [],
   "source": [
    "left = pd.DataFrame({'key': ['foo', 'foo'], 'lval': [1, 2]})\n",
    "left"
   ]
  },
  {
   "cell_type": "code",
   "execution_count": null,
   "metadata": {
    "_cell_guid": "4fc7aac1-cf73-4026-9f1a-765b5a8177b3",
    "_uuid": "4c66f190e7c6b22d22629bba2da2b253ebc0258d",
    "slideshow": {
     "slide_type": "subslide"
    }
   },
   "outputs": [],
   "source": [
    "right = pd.DataFrame({'key': ['foo', 'foo'], 'rval': [4, 5]})\n",
    "right"
   ]
  },
  {
   "cell_type": "code",
   "execution_count": null,
   "metadata": {
    "_cell_guid": "d5208a6c-f5d4-4e03-9ae0-bbfb8c119e36",
    "_uuid": "72654ecbb57e52b793ee3be15f82cade614c6158",
    "slideshow": {
     "slide_type": "subslide"
    }
   },
   "outputs": [],
   "source": [
    "pd.merge(left, right, on='key')"
   ]
  },
  {
   "cell_type": "markdown",
   "metadata": {
    "_cell_guid": "1bac3a7a-793c-4af0-a6a4-7a52ee72058d",
    "_uuid": "c1d886d9d9ebee002af9f789a1b7acf9ede81959",
    "slideshow": {
     "slide_type": "subslide"
    }
   },
   "source": [
    "Another example that can be given is:"
   ]
  },
  {
   "cell_type": "code",
   "execution_count": null,
   "metadata": {
    "_cell_guid": "ec2e4826-c7f0-44e1-90aa-cd981d8deb4f",
    "_uuid": "bc2f4621a6c78f60b886b35ec9a6aceaf4f7f1a6"
   },
   "outputs": [],
   "source": [
    "left = pd.DataFrame({'key': ['foo', 'bar'], 'lval': [1, 2]})\n",
    "left"
   ]
  },
  {
   "cell_type": "code",
   "execution_count": null,
   "metadata": {
    "_cell_guid": "e5c24cf6-23e1-4949-9fee-bdedd1ad4130",
    "_uuid": "337fd14edbbaeedb42b598f0a185e235f71d673a",
    "slideshow": {
     "slide_type": "-"
    }
   },
   "outputs": [],
   "source": [
    "right = pd.DataFrame({'key': ['foo', 'bar'], 'rval': [4, 5]})\n",
    "right"
   ]
  },
  {
   "cell_type": "code",
   "execution_count": null,
   "metadata": {
    "_cell_guid": "475c1acd-7405-4994-a861-28c7a8416b54",
    "_uuid": "acdb46712ef690150987d134784361bbc32eb90b",
    "slideshow": {
     "slide_type": "subslide"
    }
   },
   "outputs": [],
   "source": [
    "pd.merge(left, right, on='key')"
   ]
  },
  {
   "cell_type": "markdown",
   "metadata": {
    "slideshow": {
     "slide_type": "slide"
    }
   },
   "source": []
  },
  {
   "cell_type": "markdown",
   "metadata": {
    "_cell_guid": "dbf8666d-7af7-4fd0-b40a-5dd3a93cc0cb",
    "_uuid": "9f29392de68aceec0cadc01ccdfc2c124e6821f2",
    "slideshow": {
     "slide_type": "slide"
    }
   },
   "source": [
    "# Grouping\n",
    "By “group by” we are referring to a process involving one or more of the following steps\n",
    "\n",
    "Splitting the data into groups based on some criteria\n",
    "Applying a function to each group independently\n",
    "Combining the results into a data structure\n",
    "\n",
    "See the [Grouping section](https://pandas.pydata.org/pandas-docs/stable/user_guide/groupby.html)"
   ]
  },
  {
   "cell_type": "code",
   "execution_count": null,
   "metadata": {
    "_cell_guid": "23331b94-daca-4454-9f8c-f442169e5062",
    "_uuid": "4934d8285f1ed9fc748cb571d8bf212d6f4880ed",
    "slideshow": {
     "slide_type": "subslide"
    }
   },
   "outputs": [],
   "source": [
    "df = pd.DataFrame({'A': ['foo', 'bar', 'foo', 'bar', 'foo', 'bar', 'foo', 'foo'],\n",
    "                   'B': ['one', 'one', 'two', 'three', 'two', 'two', 'one', 'three'],\n",
    "                   'C': np.random.randn(8),\n",
    "                   'D': np.random.randn(8)})\n",
    "df"
   ]
  },
  {
   "cell_type": "markdown",
   "metadata": {
    "_cell_guid": "6ba9b996-c9dc-4ea0-901b-32ee9251529c",
    "_uuid": "c58620f714db8772c05d14a5945c69db2e2f8e62",
    "slideshow": {
     "slide_type": "subslide"
    }
   },
   "source": [
    "Grouping and then applying a function sum to the resulting groups."
   ]
  },
  {
   "cell_type": "code",
   "execution_count": null,
   "metadata": {
    "_cell_guid": "ea8abe75-1945-402c-9a22-7d19393853ba",
    "_uuid": "98178d2cec0567107285d68e1dcb9aa411b74ad4"
   },
   "outputs": [],
   "source": [
    "df.groupby('A').sum()"
   ]
  },
  {
   "cell_type": "markdown",
   "metadata": {
    "_cell_guid": "8d5181e7-9196-4575-979a-5167e1347f99",
    "_uuid": "4e11d0fa50d0c5f4ba267e7f13af361eb78715fa",
    "slideshow": {
     "slide_type": "subslide"
    }
   },
   "source": [
    "Grouping by multiple columns forms a hierarchical index, which we then apply the function."
   ]
  },
  {
   "cell_type": "code",
   "execution_count": null,
   "metadata": {
    "_cell_guid": "d4fd100b-cd69-4f81-afae-f1930e1d66c2",
    "_uuid": "f66bb1fb16b537febc7839743a177a222f4946e5"
   },
   "outputs": [],
   "source": [
    "df.groupby(['A', 'B']).sum()"
   ]
  },
  {
   "cell_type": "markdown",
   "metadata": {
    "slideshow": {
     "slide_type": "slide"
    }
   },
   "source": []
  },
  {
   "cell_type": "markdown",
   "metadata": {
    "_cell_guid": "d0c596d2-7b4a-4b22-80c9-fad65f090aba",
    "_uuid": "15911cf2e4cddee344569d63d9ed362efca7f919",
    "slideshow": {
     "slide_type": "slide"
    }
   },
   "source": [
    "# Reshaping\n",
    "See the sections on [Hierarchical Indexing](https://pandas.pydata.org/pandas-docs/stable/user_guide/advanced.html) and [Reshaping](https://pandas.pydata.org/pandas-docs/stable/user_guide/reshaping.html).\n",
    "\n"
   ]
  },
  {
   "cell_type": "markdown",
   "metadata": {
    "slideshow": {
     "slide_type": "subslide"
    }
   },
   "source": [
    "## Stack"
   ]
  },
  {
   "cell_type": "code",
   "execution_count": null,
   "metadata": {
    "_cell_guid": "266aea3e-433a-436a-83df-08551438f6df",
    "_uuid": "5d1deec928f77a06ad5d090b9a72c04168cda5c2",
    "slideshow": {
     "slide_type": "-"
    }
   },
   "outputs": [],
   "source": [
    "tuples = list(\n",
    "    zip(\n",
    "        *[\n",
    "            ['bar', 'bar', 'baz', 'baz', 'foo', 'foo', 'qux', 'qux'],\n",
    "            ['one', 'two', 'one', 'two', 'one', 'two', 'one', 'two']\n",
    "        ]\n",
    "    )\n",
    ")\n",
    "tuples"
   ]
  },
  {
   "cell_type": "code",
   "execution_count": null,
   "metadata": {
    "_cell_guid": "084d1096-800c-4bc4-aa44-cea9599a65dd",
    "_uuid": "4568a8525a65f30a40a3c6cbae4b8c53eb403b97",
    "slideshow": {
     "slide_type": "subslide"
    }
   },
   "outputs": [],
   "source": [
    "index = pd.MultiIndex.from_tuples(tuples, names=['first', 'second'])\n",
    "index"
   ]
  },
  {
   "cell_type": "code",
   "execution_count": null,
   "metadata": {
    "_cell_guid": "0764158a-666f-46d9-a981-c97df7b39b34",
    "_uuid": "a05b99f0ea1fa20c13aaad0e738045f14c97e8fb",
    "slideshow": {
     "slide_type": "subslide"
    }
   },
   "outputs": [],
   "source": [
    "df = pd.DataFrame(np.random.randn(8, 2), index=index, columns=['A', 'B'])\n",
    "df"
   ]
  },
  {
   "cell_type": "code",
   "execution_count": null,
   "metadata": {
    "slideshow": {
     "slide_type": "subslide"
    }
   },
   "outputs": [],
   "source": [
    "df2 = df[:4]\n",
    "df2"
   ]
  },
  {
   "cell_type": "markdown",
   "metadata": {
    "_cell_guid": "35cca8ca-6aed-4f7e-9d52-14f5ec8e4e42",
    "_uuid": "3987868916766e10a30f5bdc3d1759ae29aec4b0",
    "slideshow": {
     "slide_type": "subslide"
    }
   },
   "source": [
    "The [stack()](https://pandas.pydata.org/pandas-docs/stable/generated/pandas.DataFrame.stack.html#pandas.DataFrame.stack) method “compresses” a level in the DataFrame’s columns."
   ]
  },
  {
   "cell_type": "code",
   "execution_count": null,
   "metadata": {
    "_cell_guid": "ba300ff7-e5a1-4169-9b00-6c5a13e4d557",
    "_uuid": "a05087c82e0941531337c2166c6027ce8b8e9624"
   },
   "outputs": [],
   "source": [
    "stacked = df.stack()\n",
    "stacked"
   ]
  },
  {
   "cell_type": "markdown",
   "metadata": {
    "_cell_guid": "e15acb89-1dd2-4ff4-90ca-796d6dc510b3",
    "_uuid": "b8d507f4029c20f98bb3a782845bc8ca13637a82",
    "slideshow": {
     "slide_type": "subslide"
    }
   },
   "source": [
    "With a “stacked” DataFrame or Series (having a MultiIndex as the index), the inverse operation of [stack()](https://pandas.pydata.org/pandas-docs/stable/generated/pandas.DataFrame.stack.html#pandas.DataFrame.stack) is [unstack()](https://pandas.pydata.org/pandas-docs/stable/generated/pandas.DataFrame.unstack.html#pandas.DataFrame.unstack), which by default unstacks the last level:"
   ]
  },
  {
   "cell_type": "code",
   "execution_count": null,
   "metadata": {
    "_cell_guid": "73d256c6-dd54-418d-b3c0-ce432f397763",
    "_uuid": "7ac035cd3392fdb6e9bc8bdf49b69c279309c018"
   },
   "outputs": [],
   "source": [
    "stacked.unstack()"
   ]
  },
  {
   "cell_type": "code",
   "execution_count": null,
   "metadata": {
    "_cell_guid": "cd7ae481-efc0-41cb-aacf-a7388c4111c0",
    "_uuid": "904cdcfbabb4492ab2a1a573c2cbd57f72bfe4bb",
    "slideshow": {
     "slide_type": "subslide"
    }
   },
   "outputs": [],
   "source": [
    "stacked.unstack(1)"
   ]
  },
  {
   "cell_type": "code",
   "execution_count": null,
   "metadata": {
    "_cell_guid": "63d4143c-2488-40a7-9d6a-8751ed8f5bec",
    "_uuid": "21092205bbd06eab81ab2b54fc709110c8ebedee",
    "slideshow": {
     "slide_type": "subslide"
    }
   },
   "outputs": [],
   "source": [
    "stacked.unstack(0)"
   ]
  },
  {
   "cell_type": "markdown",
   "metadata": {
    "_cell_guid": "2aeae2c4-7559-4fa7-a837-4500980c823c",
    "_uuid": "6108ff3064ecc74f8d264309548f6feb125ed9be",
    "slideshow": {
     "slide_type": "slide"
    }
   },
   "source": [
    "### Pivot Tables\n",
    "See the section on [Pivot Tables](https://pandas.pydata.org/pandas-docs/stable/user_guide/reshaping.html)."
   ]
  },
  {
   "cell_type": "code",
   "execution_count": null,
   "metadata": {
    "_cell_guid": "1a188e29-26e1-4ffc-acd1-5e8fb7c99465",
    "_uuid": "0acd04af17bb429101737d38d9f603571fb3006f",
    "slideshow": {
     "slide_type": "subslide"
    }
   },
   "outputs": [],
   "source": [
    "df = pd.DataFrame({'A': ['one', 'one', 'two', 'three'] * 3,\n",
    "                    'B': ['A', 'B', 'C'] * 4,\n",
    "                    'C': ['foo', 'foo', 'foo', 'bar', 'bar', 'bar'] * 2,\n",
    "                    'D': np.random.randn(12),\n",
    "                    'E': np.random.randn(12)})\n",
    "df"
   ]
  },
  {
   "cell_type": "markdown",
   "metadata": {
    "_cell_guid": "2b2e7f69-e135-4cdb-9053-15446689a343",
    "_uuid": "8a59aa522a9c86d054fc8f1917117ff7131ce9d7",
    "slideshow": {
     "slide_type": "subslide"
    }
   },
   "source": [
    "We can produce pivot tables from this data very easily:"
   ]
  },
  {
   "cell_type": "code",
   "execution_count": null,
   "metadata": {
    "_cell_guid": "236b385e-a44c-4526-b7dd-826b858aec30",
    "_uuid": "24977494d59f97c71999811110baf456f25d9e1c"
   },
   "outputs": [],
   "source": [
    "pd.pivot_table(df, values='D', index=['A', 'B'], columns=['C'])"
   ]
  },
  {
   "cell_type": "markdown",
   "metadata": {
    "slideshow": {
     "slide_type": "slide"
    }
   },
   "source": []
  },
  {
   "cell_type": "markdown",
   "metadata": {
    "_cell_guid": "d2a048eb-a0a2-49f1-8322-cec52e82f686",
    "_uuid": "1e9fb4493ac63b9741daf82d345cf4996fb534ae",
    "slideshow": {
     "slide_type": "slide"
    }
   },
   "source": [
    "# Time Series\n",
    "pandas has simple, powerful, and efficient functionality for performing resampling operations during frequency conversion (e.g., converting secondly data into 5-minutely data). This is extremely common in, but not limited to, financial applications. See the [Time Series section](https://pandas.pydata.org/pandas-docs/stable/user_guide/timeseries.html)."
   ]
  },
  {
   "cell_type": "code",
   "execution_count": null,
   "metadata": {
    "_cell_guid": "8e241bb8-4365-46e1-af4e-e212c17ab73c",
    "_uuid": "0dce2c62fa3fe83d54a964e6be8edfc70f256167",
    "slideshow": {
     "slide_type": "subslide"
    }
   },
   "outputs": [],
   "source": [
    "rng = pd.date_range('1/1/2012', periods=100, freq='S')\n",
    "ts = pd.Series(np.random.randint(0, 500, len(rng)), index=rng)\n",
    "ts.resample('5Min').sum()"
   ]
  },
  {
   "cell_type": "markdown",
   "metadata": {
    "_cell_guid": "0daa2a55-6a1a-468f-84a0-593aa67ce25e",
    "_uuid": "81d2d75a0ce40e06025deccd8aa025de20b03b75",
    "slideshow": {
     "slide_type": "subslide"
    }
   },
   "source": [
    "Time zone representation"
   ]
  },
  {
   "cell_type": "code",
   "execution_count": null,
   "metadata": {
    "_cell_guid": "c5014c81-5303-432f-bc1f-bd4f7e667c30",
    "_uuid": "43018b7fc38618006b1ee7c3f755ff8d28c4662b"
   },
   "outputs": [],
   "source": [
    "rng = pd.date_range('3/6/2012 00:00', periods=5, freq='D')\n",
    "ts = pd.Series(np.random.randn(len(rng)), rng)\n",
    "ts"
   ]
  },
  {
   "cell_type": "code",
   "execution_count": null,
   "metadata": {
    "_cell_guid": "641dbfaf-d904-4110-ac33-8fd6d51f35ae",
    "_uuid": "7f698edf03e66b1064830336ecfcf039d638629a"
   },
   "outputs": [],
   "source": [
    "ts_utc = ts.tz_localize('UTC')\n",
    "ts_utc"
   ]
  },
  {
   "cell_type": "markdown",
   "metadata": {
    "_cell_guid": "1426cdde-ca90-4601-a103-5f36eab1738f",
    "_uuid": "91157d3eb394f4e4588bc97e4d45f2537e33dcca",
    "slideshow": {
     "slide_type": "subslide"
    }
   },
   "source": [
    "Convert to another time zone"
   ]
  },
  {
   "cell_type": "code",
   "execution_count": null,
   "metadata": {
    "_cell_guid": "7e2e2c12-6154-418a-acbb-8d1a67825b63",
    "_uuid": "910dcb7ee20644396fb426839cf6803cb9e7bbf1"
   },
   "outputs": [],
   "source": [
    "ts_utc.tz_convert('US/Eastern')"
   ]
  },
  {
   "cell_type": "markdown",
   "metadata": {
    "_cell_guid": "0c0f6eec-5035-48dc-a2d4-8cc84a257ab9",
    "_uuid": "aeb2afaeacdd39a558b63e59cf98c4c27e194083",
    "slideshow": {
     "slide_type": "subslide"
    }
   },
   "source": [
    "Converting between time span representations"
   ]
  },
  {
   "cell_type": "code",
   "execution_count": null,
   "metadata": {
    "_cell_guid": "489d710f-c382-45f4-a368-fc78ce0819fb",
    "_uuid": "618d89ae23db202f5551fcca5f3db769843bc3a8"
   },
   "outputs": [],
   "source": [
    "rng = pd.date_range('1/1/2012', periods=5, freq='M')\n",
    "ts = pd.Series(np.random.randn(len(rng)), index=rng)\n",
    "ts"
   ]
  },
  {
   "cell_type": "code",
   "execution_count": null,
   "metadata": {
    "_cell_guid": "46e4915f-17a5-40eb-8506-49e8e5e434a8",
    "_uuid": "31c57985582c3ef27f84933dfab9321a6e0285f8",
    "slideshow": {
     "slide_type": "subslide"
    }
   },
   "outputs": [],
   "source": [
    "ps = ts.to_period('M')\n",
    "ps"
   ]
  },
  {
   "cell_type": "code",
   "execution_count": null,
   "metadata": {
    "_cell_guid": "3a8066ba-79d4-4975-86a2-804c82fe1dd6",
    "_uuid": "1589235a92ca818bc2be2cbb0a426d529335f0b2",
    "slideshow": {
     "slide_type": "subslide"
    }
   },
   "outputs": [],
   "source": [
    "ps.to_timestamp()"
   ]
  },
  {
   "cell_type": "markdown",
   "metadata": {
    "_cell_guid": "d1e644da-5215-4870-aaf3-d1719c46588e",
    "_uuid": "1dd44d9eff96202caddabee5740aa912e9530223",
    "slideshow": {
     "slide_type": "subslide"
    }
   },
   "source": [
    "Converting between period and timestamp enables some convenient arithmetic functions to be used. In the following example, we convert a quarterly frequency with year ending in November to 9am of the end of the month following the quarter end:"
   ]
  },
  {
   "cell_type": "code",
   "execution_count": null,
   "metadata": {
    "_cell_guid": "328ed5ad-d841-4b7a-8217-5e58b876daa6",
    "_uuid": "43d477d81ad7c6a7cc7dd4156eba62a794820a3e",
    "slideshow": {
     "slide_type": "subslide"
    }
   },
   "outputs": [],
   "source": [
    "prng = pd.period_range('1990Q1', '2000Q4', freq='Q-NOV')\n",
    "ts = pd.Series(np.random.randn(len(prng)), prng)\n",
    "ts.index = (prng.asfreq('M', 'E') + 1).asfreq('H', 'S') + 9\n",
    "ts.head()"
   ]
  },
  {
   "cell_type": "markdown",
   "metadata": {
    "slideshow": {
     "slide_type": "slide"
    }
   },
   "source": []
  },
  {
   "cell_type": "markdown",
   "metadata": {
    "_cell_guid": "d10de9eb-33fc-4713-993b-b1acc275f8a7",
    "_uuid": "930ca52af7bf3d56dfe637764cf53dd6c91b8edf",
    "slideshow": {
     "slide_type": "slide"
    }
   },
   "source": [
    "# Categoricals\n",
    "pandas can include categorical data in a DataFrame. For full docs, see the [categorical introduction](https://pandas.pydata.org/pandas-docs/stable/user_guide/categorical.html) and the [API documentation](https://pandas.pydata.org/pandas-docs/stable/reference/index.html)."
   ]
  },
  {
   "cell_type": "code",
   "execution_count": null,
   "metadata": {
    "_cell_guid": "ab9789c4-b2e0-4012-8c7b-2923437a8223",
    "_uuid": "186d5dd0c91b786139eb600d599853e301e08c92"
   },
   "outputs": [],
   "source": [
    "df = pd.DataFrame(\n",
    "    {\"id\": [1, 2, 3, 4, 5, 6], \"raw_grade\": [\"a\", \"b\", \"b\", \"a\", \"a\", \"e\"]}\n",
    ")"
   ]
  },
  {
   "cell_type": "markdown",
   "metadata": {
    "_cell_guid": "0d1cb293-571d-4c98-a17a-b15ead76786b",
    "_uuid": "ae51724d3f551ece6efffc7b39a325ab334631e1",
    "slideshow": {
     "slide_type": "subslide"
    }
   },
   "source": [
    "Convert the raw grades to a categorical data type:"
   ]
  },
  {
   "cell_type": "code",
   "execution_count": null,
   "metadata": {
    "_cell_guid": "0fec7445-afdd-42cd-ad78-deab6ea43832",
    "_uuid": "db91d55922cbee6333b0b60b2eaa0066b1c682d8"
   },
   "outputs": [],
   "source": [
    "df[\"grade\"] = df[\"raw_grade\"].astype(\"category\")\n",
    "df[\"grade\"]"
   ]
  },
  {
   "cell_type": "markdown",
   "metadata": {
    "_cell_guid": "21e5d042-6245-4971-803f-e527357a654e",
    "_uuid": "b2e1342efaa7495d1a001e3ec9bb53a2d3c0a7e0",
    "slideshow": {
     "slide_type": "subslide"
    }
   },
   "source": [
    "Rename the categories to more meaningful names (assigning to Series.cat.categories is inplace!)"
   ]
  },
  {
   "cell_type": "code",
   "execution_count": null,
   "metadata": {},
   "outputs": [],
   "source": [
    "df[\"grade\"]"
   ]
  },
  {
   "cell_type": "code",
   "execution_count": null,
   "metadata": {
    "_cell_guid": "8e187065-c04e-4df2-b297-834d4452b5af",
    "_uuid": "1fde92f0bb025c22106fd9480bf879087b20d98b"
   },
   "outputs": [],
   "source": [
    "# NOTE: updated from original recording\n",
    "df[\"grade\"] = df[\"grade\"].cat.rename_categories([\"very good\", \"good\", \"very bad\"])"
   ]
  },
  {
   "cell_type": "markdown",
   "metadata": {
    "_cell_guid": "79ff2b61-ce4f-47bf-b400-44cce807b0a3",
    "_uuid": "a3edf0571ae751050f46690aa93bff03902ba7bb",
    "slideshow": {
     "slide_type": "subslide"
    }
   },
   "source": [
    "Reorder the categories and simultaneously add the missing categories (methods under Series .cat return a new Series per default)."
   ]
  },
  {
   "cell_type": "code",
   "execution_count": null,
   "metadata": {
    "_cell_guid": "17680b48-9fb9-4373-89c8-22197cd0b551",
    "_uuid": "07effd8ab8f0fcf8d202551d8c7b27d7c44676d7"
   },
   "outputs": [],
   "source": [
    "df[\"grade\"].cat.set_categories([\"very bad\", \"bad\", \"medium\", \"good\", \"very good\"])\n",
    "df[\"grade\"]"
   ]
  },
  {
   "cell_type": "markdown",
   "metadata": {
    "_cell_guid": "d081f4d8-b9df-427a-abdd-af50ac3e1cb6",
    "_uuid": "6f39477d1629a4dfd818f58c8f1ad54e12cb1ccc",
    "slideshow": {
     "slide_type": "subslide"
    }
   },
   "source": [
    "Sorting is per order in the categories, not lexical order."
   ]
  },
  {
   "cell_type": "code",
   "execution_count": null,
   "metadata": {
    "_cell_guid": "32408bba-dbf0-44ed-b65d-03f66671e120",
    "_uuid": "cc7d213cf05e72e3eeb71438c457a0d520bd718f"
   },
   "outputs": [],
   "source": [
    "df.sort_values(by=\"grade\")"
   ]
  },
  {
   "cell_type": "markdown",
   "metadata": {
    "_cell_guid": "c36e4653-564c-4366-bd3e-9fcd0807ee45",
    "_uuid": "35364a872dd0c030ec3b09901b464762a4000ef9",
    "slideshow": {
     "slide_type": "subslide"
    }
   },
   "source": [
    "Grouping by a categorical column shows also empty categories."
   ]
  },
  {
   "cell_type": "code",
   "execution_count": null,
   "metadata": {
    "_cell_guid": "b7eb5c6c-8857-42bc-86ce-8c13dbc4044c",
    "_uuid": "300a83bdb3f4e92697b0fbf2b51ced032cdb507e"
   },
   "outputs": [],
   "source": [
    "df.groupby(\"grade\").size()"
   ]
  },
  {
   "cell_type": "markdown",
   "metadata": {
    "slideshow": {
     "slide_type": "slide"
    }
   },
   "source": []
  },
  {
   "cell_type": "markdown",
   "metadata": {
    "_cell_guid": "f7329129-1fc9-434a-ac45-e79986ed395c",
    "_uuid": "4fad41dc8d59a36e31eee33e2e4ceadaef91ef5c",
    "slideshow": {
     "slide_type": "slide"
    }
   },
   "source": [
    "# Plotting\n",
    "[Plotting](https://pandas.pydata.org/pandas-docs/stable/user_guide/visualization.html) docs"
   ]
  },
  {
   "cell_type": "code",
   "execution_count": null,
   "metadata": {
    "_cell_guid": "161bb7ae-199a-4afb-a96e-cd44ce1ad5ba",
    "_uuid": "d7773d5d125e65665d1fa5742a5d96a4c4f66869",
    "slideshow": {
     "slide_type": "subslide"
    }
   },
   "outputs": [],
   "source": [
    "ts = pd.Series(np.random.randn(1000), index=pd.date_range('1/1/2000', periods=1000))\n",
    "ts = ts.cumsum()\n",
    "ts.plot()"
   ]
  },
  {
   "cell_type": "markdown",
   "metadata": {
    "_cell_guid": "0176b40e-ada1-4bcd-8e12-d3ff15e1b0f7",
    "_uuid": "7b6fa4a5c292aeadb392e26b6b8c22de265340e6",
    "slideshow": {
     "slide_type": "subslide"
    }
   },
   "source": [
    "On DataFrame, plot() is a convenience to plot all of the columns with labels:"
   ]
  },
  {
   "cell_type": "code",
   "execution_count": null,
   "metadata": {
    "_cell_guid": "486b1a48-5629-43a9-a421-ab9659b3b5c2",
    "_uuid": "dd719ceca935f661779a4ae7a9d0bdb456707afd"
   },
   "outputs": [],
   "source": [
    "df = pd.DataFrame(\n",
    "    np.random.randn(1000, 4), index=ts.index, columns=[\"A\", \"B\", \"C\", \"D\"]\n",
    ")\n",
    "df = df.cumsum()\n",
    "plt.figure()\n",
    "df.plot()\n",
    "plt.legend(loc='best')"
   ]
  },
  {
   "cell_type": "code",
   "execution_count": null,
   "metadata": {
    "slideshow": {
     "slide_type": "slide"
    }
   },
   "outputs": [],
   "source": []
  },
  {
   "cell_type": "markdown",
   "metadata": {
    "_cell_guid": "8f173711-84cf-405d-a974-8f3d467a1699",
    "_uuid": "6707cccfbd1da29773303b644ad02a47e917e182",
    "slideshow": {
     "slide_type": "slide"
    }
   },
   "source": [
    "# Getting Data In/Out\n",
    "### CSV\n",
    "[Writing to a csv file](https://pandas.pydata.org/pandas-docs/stable/user_guide/io.html)."
   ]
  },
  {
   "cell_type": "code",
   "execution_count": null,
   "metadata": {
    "_cell_guid": "c2854c44-5039-4c4f-9333-f4b0f33edc5b",
    "_uuid": "f321aa65d66246497c509d32969d3e1a3d717391",
    "slideshow": {
     "slide_type": "subslide"
    }
   },
   "outputs": [],
   "source": [
    "df.to_csv('foo.csv')"
   ]
  },
  {
   "cell_type": "code",
   "execution_count": null,
   "metadata": {
    "_cell_guid": "746340a9-c552-4995-8cbd-067f7dd62e35",
    "_uuid": "c0daece574ad9366f247716b0bfe7f3fd0c9351e"
   },
   "outputs": [],
   "source": [
    "pd.read_csv('foo.csv')"
   ]
  },
  {
   "cell_type": "markdown",
   "metadata": {
    "slideshow": {
     "slide_type": "slide"
    }
   },
   "source": []
  },
  {
   "cell_type": "markdown",
   "metadata": {
    "_cell_guid": "830c58b5-67de-4ba4-9085-1bd6f1c36103",
    "_uuid": "94a7efe1ddf6a862c752a87095e6b3d9fe895a93",
    "slideshow": {
     "slide_type": "slide"
    }
   },
   "source": [
    "# Gotchas\n",
    "If you are trying an operation and you see an exception like:"
   ]
  },
  {
   "cell_type": "code",
   "execution_count": null,
   "metadata": {
    "_cell_guid": "68e21fe7-fdee-4f1f-a6be-421232f995be",
    "_uuid": "dff1fa5f0b4cedf3d85de3d630ee37071442a840",
    "scrolled": true
   },
   "outputs": [],
   "source": [
    "if pd.Series([False, True, False]):\n",
    "    print(\"I was true\")"
   ]
  },
  {
   "cell_type": "markdown",
   "metadata": {
    "_cell_guid": "8ec225d7-810b-445a-a9e2-4b8ca63c9585",
    "_uuid": "ee08221d61b141f4442820ecc5b749b1f66127a0"
   },
   "source": [
    "See [Gotchas](https://pandas.pydata.org/pandas-docs/stable/user_guide/gotchas.html#gotchas-truth) for an explanation and what to do.\n"
   ]
  },
  {
   "cell_type": "code",
   "execution_count": null,
   "metadata": {
    "slideshow": {
     "slide_type": "slide"
    }
   },
   "outputs": [],
   "source": []
  }
 ],
 "metadata": {
  "celltoolbar": "Slideshow",
  "interpreter": {
   "hash": "31f2aee4e71d21fbe5cf8b01ff0e069b9275f58929596ceb00d14d90e3e16cd6"
  },
  "kernelspec": {
   "display_name": "Python 3 (ipykernel)",
   "language": "python",
   "name": "python3"
  },
  "language_info": {
   "codemirror_mode": {
    "name": "ipython",
    "version": 3
   },
   "file_extension": ".py",
   "mimetype": "text/x-python",
   "name": "python",
   "nbconvert_exporter": "python",
   "pygments_lexer": "ipython3",
   "version": "3.11.4"
  }
 },
 "nbformat": 4,
 "nbformat_minor": 4
}
