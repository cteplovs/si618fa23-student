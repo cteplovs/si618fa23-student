{
 "cells": [
  {
   "cell_type": "markdown",
   "metadata": {
    "colab_type": "text",
    "id": "ahUIU2HgHuk1",
    "slideshow": {
     "slide_type": "slide"
    }
   },
   "source": [
    "# Loading data in pandas\n",
    "\n"
   ]
  },
  {
   "cell_type": "markdown",
   "metadata": {
    "colab_type": "text",
    "id": "yHA3RHDuHulJ",
    "slideshow": {
     "slide_type": "slide"
    }
   },
   "source": [
    "## Learning Objectives\n",
    "* load CSV files\n",
    "* load JSON files\n",
    "* use pd.read_html to extract tables from web pages\n",
    "* load data from simple APIs \n",
    "* load data from a SQL database\n"
   ]
  },
  {
   "cell_type": "markdown",
   "metadata": {
    "slideshow": {
     "slide_type": "slide"
    }
   },
   "source": [
    "Our usual mantra:"
   ]
  },
  {
   "cell_type": "code",
   "execution_count": 1,
   "metadata": {
    "colab": {},
    "colab_type": "code",
    "id": "tDURKFb_Hulg",
    "slideshow": {
     "slide_type": "-"
    }
   },
   "outputs": [],
   "source": [
    "import pandas as pd"
   ]
  },
  {
   "cell_type": "markdown",
   "metadata": {
    "colab_type": "text",
    "id": "J5hDKsDMHuln",
    "slideshow": {
     "slide_type": "subslide"
    }
   },
   "source": [
    "Recall the ```pd.read_csv``` function that you've seen in previous classes:"
   ]
  },
  {
   "cell_type": "code",
   "execution_count": 2,
   "metadata": {
    "colab": {},
    "colab_type": "code",
    "id": "VGK8DDY7Hulo",
    "slideshow": {
     "slide_type": "-"
    }
   },
   "outputs": [],
   "source": [
    "menu = pd.read_csv('https://raw.githubusercontent.com/umsi-data-science/si370/master/data/menu.csv') "
   ]
  },
  {
   "cell_type": "code",
   "execution_count": 3,
   "metadata": {},
   "outputs": [
    {
     "data": {
      "text/html": [
       "<div>\n",
       "<style scoped>\n",
       "    .dataframe tbody tr th:only-of-type {\n",
       "        vertical-align: middle;\n",
       "    }\n",
       "\n",
       "    .dataframe tbody tr th {\n",
       "        vertical-align: top;\n",
       "    }\n",
       "\n",
       "    .dataframe thead th {\n",
       "        text-align: right;\n",
       "    }\n",
       "</style>\n",
       "<table border=\"1\" class=\"dataframe\">\n",
       "  <thead>\n",
       "    <tr style=\"text-align: right;\">\n",
       "      <th></th>\n",
       "      <th>Category</th>\n",
       "      <th>Item</th>\n",
       "      <th>Serving Size</th>\n",
       "      <th>Calories</th>\n",
       "      <th>Calories from Fat</th>\n",
       "      <th>Total Fat</th>\n",
       "      <th>Total Fat (% Daily Value)</th>\n",
       "      <th>Saturated Fat</th>\n",
       "      <th>Saturated Fat (% Daily Value)</th>\n",
       "      <th>Trans Fat</th>\n",
       "      <th>...</th>\n",
       "      <th>Carbohydrates</th>\n",
       "      <th>Carbohydrates (% Daily Value)</th>\n",
       "      <th>Dietary Fiber</th>\n",
       "      <th>Dietary Fiber (% Daily Value)</th>\n",
       "      <th>Sugars</th>\n",
       "      <th>Protein</th>\n",
       "      <th>Vitamin A (% Daily Value)</th>\n",
       "      <th>Vitamin C (% Daily Value)</th>\n",
       "      <th>Calcium (% Daily Value)</th>\n",
       "      <th>Iron (% Daily Value)</th>\n",
       "    </tr>\n",
       "  </thead>\n",
       "  <tbody>\n",
       "    <tr>\n",
       "      <th>0</th>\n",
       "      <td>Breakfast</td>\n",
       "      <td>Egg McMuffin</td>\n",
       "      <td>4.8 oz (136 g)</td>\n",
       "      <td>300</td>\n",
       "      <td>120</td>\n",
       "      <td>13.0</td>\n",
       "      <td>20</td>\n",
       "      <td>5.0</td>\n",
       "      <td>25</td>\n",
       "      <td>0.0</td>\n",
       "      <td>...</td>\n",
       "      <td>31</td>\n",
       "      <td>10</td>\n",
       "      <td>4</td>\n",
       "      <td>17</td>\n",
       "      <td>3</td>\n",
       "      <td>17</td>\n",
       "      <td>10</td>\n",
       "      <td>0</td>\n",
       "      <td>25</td>\n",
       "      <td>15</td>\n",
       "    </tr>\n",
       "  </tbody>\n",
       "</table>\n",
       "<p>1 rows × 24 columns</p>\n",
       "</div>"
      ],
      "text/plain": [
       "    Category          Item    Serving Size  Calories  Calories from Fat  \\\n",
       "0  Breakfast  Egg McMuffin  4.8 oz (136 g)       300                120   \n",
       "\n",
       "   Total Fat  Total Fat (% Daily Value)  Saturated Fat  \\\n",
       "0       13.0                         20            5.0   \n",
       "\n",
       "   Saturated Fat (% Daily Value)  Trans Fat  ...  Carbohydrates  \\\n",
       "0                             25        0.0  ...             31   \n",
       "\n",
       "   Carbohydrates (% Daily Value)  Dietary Fiber  \\\n",
       "0                             10              4   \n",
       "\n",
       "   Dietary Fiber (% Daily Value)  Sugars  Protein  Vitamin A (% Daily Value)  \\\n",
       "0                             17       3       17                         10   \n",
       "\n",
       "   Vitamin C (% Daily Value)  Calcium (% Daily Value)  Iron (% Daily Value)  \n",
       "0                          0                       25                    15  \n",
       "\n",
       "[1 rows x 24 columns]"
      ]
     },
     "execution_count": 3,
     "metadata": {},
     "output_type": "execute_result"
    }
   ],
   "source": [
    "menu.head(1)"
   ]
  },
  {
   "cell_type": "markdown",
   "metadata": {
    "colab_type": "text",
    "id": "NNDuGqY7Huls",
    "slideshow": {
     "slide_type": "subslide"
    }
   },
   "source": [
    "That works great for well-formatted CSV files, but what happens when you get something that looks like the ```data/avocado_eu.csv``` file.\n",
    "\n",
    "Referring back to your readings and the [read_csv documentation online](https://pandas.pydata.org/pandas-docs/stable/reference/api/pandas.read_csv.html), complete the following exercise\n",
    "\n",
    "\n",
    "Let's read the data/avocado_eu.csv file into a pandas DataFrame and show the first 5 rows.\n"
   ]
  },
  {
   "cell_type": "code",
   "execution_count": 4,
   "metadata": {
    "colab": {
     "base_uri": "https://localhost:8080/",
     "height": 197
    },
    "colab_type": "code",
    "id": "PEcXNoo0Hult",
    "outputId": "0ce523bc-3769-4f10-afa0-c070e3860abf",
    "slideshow": {
     "slide_type": "subslide"
    }
   },
   "outputs": [
    {
     "data": {
      "text/html": [
       "<div>\n",
       "<style scoped>\n",
       "    .dataframe tbody tr th:only-of-type {\n",
       "        vertical-align: middle;\n",
       "    }\n",
       "\n",
       "    .dataframe tbody tr th {\n",
       "        vertical-align: top;\n",
       "    }\n",
       "\n",
       "    .dataframe thead th {\n",
       "        text-align: right;\n",
       "    }\n",
       "</style>\n",
       "<table border=\"1\" class=\"dataframe\">\n",
       "  <thead>\n",
       "    <tr style=\"text-align: right;\">\n",
       "      <th></th>\n",
       "      <th></th>\n",
       "      <th></th>\n",
       "      <th></th>\n",
       "      <th></th>\n",
       "      <th></th>\n",
       "      <th></th>\n",
       "      <th></th>\n",
       "      <th></th>\n",
       "      <th>;Date;AveragePrice;Total Volume;4046;4225;4770;Total Bags;Small Bags;Large Bags;XLarge Bags;type;year;region</th>\n",
       "    </tr>\n",
       "  </thead>\n",
       "  <tbody>\n",
       "    <tr>\n",
       "      <th>0;2015-12-27;1</th>\n",
       "      <th>33;64236</th>\n",
       "      <th>62;1036</th>\n",
       "      <th>74;54454</th>\n",
       "      <th>85;48</th>\n",
       "      <th>16;8696</th>\n",
       "      <th>87;8603</th>\n",
       "      <th>62;93</th>\n",
       "      <th>25;0</th>\n",
       "      <td>0;conventional;2015;Albany</td>\n",
       "    </tr>\n",
       "    <tr>\n",
       "      <th>1;2015-12-20;1</th>\n",
       "      <th>35;54876</th>\n",
       "      <th>98;674</th>\n",
       "      <th>28;44638</th>\n",
       "      <th>81;58</th>\n",
       "      <th>33;9505</th>\n",
       "      <th>56;9408</th>\n",
       "      <th>07;97</th>\n",
       "      <th>49;0</th>\n",
       "      <td>0;conventional;2015;Albany</td>\n",
       "    </tr>\n",
       "    <tr>\n",
       "      <th>2;2015-12-13;0</th>\n",
       "      <th>93;118220</th>\n",
       "      <th>22;794</th>\n",
       "      <th>7;109149</th>\n",
       "      <th>67;130</th>\n",
       "      <th>5;8145</th>\n",
       "      <th>35;8042</th>\n",
       "      <th>21;103</th>\n",
       "      <th>14;0</th>\n",
       "      <td>0;conventional;2015;Albany</td>\n",
       "    </tr>\n",
       "    <tr>\n",
       "      <th>3;2015-12-06;1</th>\n",
       "      <th>08;78992</th>\n",
       "      <th>15;1132</th>\n",
       "      <th>0;71976</th>\n",
       "      <th>41;72</th>\n",
       "      <th>58;5811</th>\n",
       "      <th>16;5677</th>\n",
       "      <th>4;133</th>\n",
       "      <th>76;0</th>\n",
       "      <td>0;conventional;2015;Albany</td>\n",
       "    </tr>\n",
       "    <tr>\n",
       "      <th>4;2015-11-29;1</th>\n",
       "      <th>28;51039</th>\n",
       "      <th>6;941</th>\n",
       "      <th>48;43838</th>\n",
       "      <th>39;75</th>\n",
       "      <th>78;6183</th>\n",
       "      <th>95;5986</th>\n",
       "      <th>26;197</th>\n",
       "      <th>69;0</th>\n",
       "      <td>0;conventional;2015;Albany</td>\n",
       "    </tr>\n",
       "  </tbody>\n",
       "</table>\n",
       "</div>"
      ],
      "text/plain": [
       "                                                                             ;Date;AveragePrice;Total Volume;4046;4225;4770;Total Bags;Small Bags;Large Bags;XLarge Bags;type;year;region\n",
       "0;2015-12-27;1 33;64236  62;1036 74;54454 85;48  16;8696 87;8603 62;93  25;0                         0;conventional;2015;Albany                                                          \n",
       "1;2015-12-20;1 35;54876  98;674  28;44638 81;58  33;9505 56;9408 07;97  49;0                         0;conventional;2015;Albany                                                          \n",
       "2;2015-12-13;0 93;118220 22;794  7;109149 67;130 5;8145  35;8042 21;103 14;0                         0;conventional;2015;Albany                                                          \n",
       "3;2015-12-06;1 08;78992  15;1132 0;71976  41;72  58;5811 16;5677 4;133  76;0                         0;conventional;2015;Albany                                                          \n",
       "4;2015-11-29;1 28;51039  6;941   48;43838 39;75  78;6183 95;5986 26;197 69;0                         0;conventional;2015;Albany                                                          "
      ]
     },
     "execution_count": 4,
     "metadata": {},
     "output_type": "execute_result"
    }
   ],
   "source": [
    "avocado = pd.read_csv('https://raw.githubusercontent.com/umsi-data-science/si370/master/data/avocado_eu.csv')\n",
    "avocado.head(5)"
   ]
  },
  {
   "cell_type": "markdown",
   "metadata": {
    "colab_type": "text",
    "id": "bLbd3KdyHulz",
    "slideshow": {
     "slide_type": "subslide"
    }
   },
   "source": [
    "You'll notice that, unless you did something special in the previous read_csv invocation, the decimal points don't look quite right.  Go ahead and find the right option to convert commas to periods when loading a CSV file, as well as set the index column correctly (without having it duplicated):"
   ]
  },
  {
   "cell_type": "markdown",
   "metadata": {
    "colab_type": "text",
    "id": "bLbd3KdyHulz",
    "slideshow": {
     "slide_type": "subslide"
    }
   },
   "source": [
    "## IVQ Exercise:\n",
    "Read the data/avocado_eu.csv file using the correct delimiter and decimal character into a dataframe and show the first 5 rows:"
   ]
  },
  {
   "cell_type": "markdown",
   "metadata": {
    "slideshow": {
     "slide_type": "subslide"
    }
   },
   "source": [
    "<div style=\"width:100%;height:400px;padding:10px;background-color:#\"></div>"
   ]
  },
  {
   "cell_type": "code",
   "execution_count": null,
   "metadata": {
    "colab": {
     "base_uri": "https://localhost:8080/",
     "height": 197
    },
    "colab_type": "code",
    "id": "52cAIPN2Hul0",
    "outputId": "4fc8a688-dffe-44e2-90f9-42f4ccb2f82c",
    "scrolled": true,
    "slideshow": {
     "slide_type": "skip"
    }
   },
   "outputs": [],
   "source": [
    "# Solution\n",
    "avocado = pd.read_csv('https://raw.githubusercontent.com/umsi-data-science/si370/master/data/avocado_eu.csv', delimiter=';', decimal=',', index_col=0)\n",
    "avocado.head(5)"
   ]
  },
  {
   "cell_type": "markdown",
   "metadata": {
    "slideshow": {
     "slide_type": "subslide"
    }
   },
   "source": [
    "The output from should look like:"
   ]
  },
  {
   "cell_type": "markdown",
   "metadata": {},
   "source": [
    "<table border=\"1\" class=\"dataframe\">\n",
    "  <thead>\n",
    "    <tr style=\"text-align: right;\">\n",
    "      <th></th>\n",
    "      <th>Date</th>\n",
    "      <th>AveragePrice</th>\n",
    "      <th>Total Volume</th>\n",
    "      <th>4046</th>\n",
    "      <th>4225</th>\n",
    "      <th>4770</th>\n",
    "      <th>Total Bags</th>\n",
    "      <th>Small Bags</th>\n",
    "      <th>Large Bags</th>\n",
    "      <th>XLarge Bags</th>\n",
    "      <th>type</th>\n",
    "      <th>year</th>\n",
    "      <th>region</th>\n",
    "    </tr>\n",
    "  </thead>\n",
    "  <tbody>\n",
    "    <tr>\n",
    "      <th>0</th>\n",
    "      <td>2015-12-27</td>\n",
    "      <td>1.33</td>\n",
    "      <td>64236.62</td>\n",
    "      <td>1036.74</td>\n",
    "      <td>54454.85</td>\n",
    "      <td>48.16</td>\n",
    "      <td>8696.87</td>\n",
    "      <td>8603.62</td>\n",
    "      <td>93.25</td>\n",
    "      <td>0.0</td>\n",
    "      <td>conventional</td>\n",
    "      <td>2015</td>\n",
    "      <td>Albany</td>\n",
    "    </tr>\n",
    "    <tr>\n",
    "      <th>1</th>\n",
    "      <td>2015-12-20</td>\n",
    "      <td>1.35</td>\n",
    "      <td>54876.98</td>\n",
    "      <td>674.28</td>\n",
    "      <td>44638.81</td>\n",
    "      <td>58.33</td>\n",
    "      <td>9505.56</td>\n",
    "      <td>9408.07</td>\n",
    "      <td>97.49</td>\n",
    "      <td>0.0</td>\n",
    "      <td>conventional</td>\n",
    "      <td>2015</td>\n",
    "      <td>Albany</td>\n",
    "    </tr>\n",
    "    <tr>\n",
    "      <th>2</th>\n",
    "      <td>2015-12-13</td>\n",
    "      <td>0.93</td>\n",
    "      <td>118220.22</td>\n",
    "      <td>794.70</td>\n",
    "      <td>109149.67</td>\n",
    "      <td>130.50</td>\n",
    "      <td>8145.35</td>\n",
    "      <td>8042.21</td>\n",
    "      <td>103.14</td>\n",
    "      <td>0.0</td>\n",
    "      <td>conventional</td>\n",
    "      <td>2015</td>\n",
    "      <td>Albany</td>\n",
    "    </tr>\n",
    "    <tr>\n",
    "      <th>3</th>\n",
    "      <td>2015-12-06</td>\n",
    "      <td>1.08</td>\n",
    "      <td>78992.15</td>\n",
    "      <td>1132.00</td>\n",
    "      <td>71976.41</td>\n",
    "      <td>72.58</td>\n",
    "      <td>5811.16</td>\n",
    "      <td>5677.40</td>\n",
    "      <td>133.76</td>\n",
    "      <td>0.0</td>\n",
    "      <td>conventional</td>\n",
    "      <td>2015</td>\n",
    "      <td>Albany</td>\n",
    "    </tr>\n",
    "    <tr>\n",
    "      <th>4</th>\n",
    "      <td>2015-11-29</td>\n",
    "      <td>1.28</td>\n",
    "      <td>51039.60</td>\n",
    "      <td>941.48</td>\n",
    "      <td>43838.39</td>\n",
    "      <td>75.78</td>\n",
    "      <td>6183.95</td>\n",
    "      <td>5986.26</td>\n",
    "      <td>197.69</td>\n",
    "      <td>0.0</td>\n",
    "      <td>conventional</td>\n",
    "      <td>2015</td>\n",
    "      <td>Albany</td>\n",
    "    </tr>\n",
    "  </tbody>\n",
    "</table>"
   ]
  },
  {
   "cell_type": "markdown",
   "metadata": {
    "slideshow": {
     "slide_type": "subslide"
    }
   },
   "source": [
    "<div style=\"width:100%;height:400px;padding:10px;background-color:red\"></div>"
   ]
  },
  {
   "cell_type": "markdown",
   "metadata": {
    "colab_type": "text",
    "id": "QEIC12y1Hul_",
    "slideshow": {
     "slide_type": "slide"
    }
   },
   "source": [
    "# Loading JSON data\n",
    "\n",
    "In addition to CSV files, JSON (JavaScript Object Notation) files or data are commonly used.  "
   ]
  },
  {
   "cell_type": "code",
   "execution_count": 5,
   "metadata": {
    "colab": {},
    "colab_type": "code",
    "id": "spQG_OQiHul_",
    "slideshow": {
     "slide_type": "subslide"
    }
   },
   "outputs": [],
   "source": [
    "nfl_football_players = pd.read_json('https://raw.githubusercontent.com/umsi-data-science/si370/master/data/nfl_football_profiles.json')"
   ]
  },
  {
   "cell_type": "code",
   "execution_count": 6,
   "metadata": {
    "colab": {
     "base_uri": "https://localhost:8080/",
     "height": 301
    },
    "colab_type": "code",
    "id": "rW8g7KVKHumD",
    "outputId": "a1be08ce-31bc-4dfb-b9b0-fec5d427302d"
   },
   "outputs": [
    {
     "data": {
      "text/html": [
       "<div>\n",
       "<style scoped>\n",
       "    .dataframe tbody tr th:only-of-type {\n",
       "        vertical-align: middle;\n",
       "    }\n",
       "\n",
       "    .dataframe tbody tr th {\n",
       "        vertical-align: top;\n",
       "    }\n",
       "\n",
       "    .dataframe thead th {\n",
       "        text-align: right;\n",
       "    }\n",
       "</style>\n",
       "<table border=\"1\" class=\"dataframe\">\n",
       "  <thead>\n",
       "    <tr style=\"text-align: right;\">\n",
       "      <th></th>\n",
       "      <th>player_id</th>\n",
       "      <th>name</th>\n",
       "      <th>position</th>\n",
       "      <th>height</th>\n",
       "      <th>weight</th>\n",
       "      <th>current_team</th>\n",
       "      <th>birth_date</th>\n",
       "      <th>birth_place</th>\n",
       "      <th>death_date</th>\n",
       "      <th>college</th>\n",
       "      <th>high_school</th>\n",
       "      <th>draft_team</th>\n",
       "      <th>draft_round</th>\n",
       "      <th>draft_position</th>\n",
       "      <th>draft_year</th>\n",
       "      <th>current_salary</th>\n",
       "      <th>hof_induction_year</th>\n",
       "    </tr>\n",
       "  </thead>\n",
       "  <tbody>\n",
       "    <tr>\n",
       "      <th>0</th>\n",
       "      <td>1809</td>\n",
       "      <td>Robert Blackmon</td>\n",
       "      <td>DB</td>\n",
       "      <td>6-0</td>\n",
       "      <td>208.0</td>\n",
       "      <td>None</td>\n",
       "      <td>1967-05-12</td>\n",
       "      <td>Bay City, TX</td>\n",
       "      <td>None</td>\n",
       "      <td>Baylor</td>\n",
       "      <td>Van Vleck, TX</td>\n",
       "      <td>Seattle Seahawks</td>\n",
       "      <td>2.0</td>\n",
       "      <td>34.0</td>\n",
       "      <td>1990.0</td>\n",
       "      <td>None</td>\n",
       "      <td>NaN</td>\n",
       "    </tr>\n",
       "    <tr>\n",
       "      <th>1</th>\n",
       "      <td>23586</td>\n",
       "      <td>Dean Wells</td>\n",
       "      <td>LB</td>\n",
       "      <td>6-3</td>\n",
       "      <td>248.0</td>\n",
       "      <td>None</td>\n",
       "      <td>1970-07-20</td>\n",
       "      <td>Louisville, KY</td>\n",
       "      <td>None</td>\n",
       "      <td>Kentucky</td>\n",
       "      <td>Holy Cross, KY</td>\n",
       "      <td>Seattle Seahawks</td>\n",
       "      <td>4.0</td>\n",
       "      <td>85.0</td>\n",
       "      <td>1993.0</td>\n",
       "      <td>None</td>\n",
       "      <td>NaN</td>\n",
       "    </tr>\n",
       "    <tr>\n",
       "      <th>2</th>\n",
       "      <td>355</td>\n",
       "      <td>Kiko Alonso</td>\n",
       "      <td>ILB</td>\n",
       "      <td>6-3</td>\n",
       "      <td>238.0</td>\n",
       "      <td>Miami Dolphins</td>\n",
       "      <td>1990-08-14</td>\n",
       "      <td>Newton, MA</td>\n",
       "      <td>None</td>\n",
       "      <td>Oregon</td>\n",
       "      <td>Los Gatos, CA</td>\n",
       "      <td>Buffalo Bills</td>\n",
       "      <td>2.0</td>\n",
       "      <td>46.0</td>\n",
       "      <td>2013.0</td>\n",
       "      <td>1,075,000</td>\n",
       "      <td>NaN</td>\n",
       "    </tr>\n",
       "    <tr>\n",
       "      <th>3</th>\n",
       "      <td>18182</td>\n",
       "      <td>Steve Ramsey</td>\n",
       "      <td>QB</td>\n",
       "      <td>6-2</td>\n",
       "      <td>210.0</td>\n",
       "      <td>None</td>\n",
       "      <td>1948-04-22</td>\n",
       "      <td>Dallas, TX</td>\n",
       "      <td>1999-10-15</td>\n",
       "      <td>North Texas</td>\n",
       "      <td>W.W. Samuell, TX</td>\n",
       "      <td>New Orleans Saints</td>\n",
       "      <td>5.0</td>\n",
       "      <td>126.0</td>\n",
       "      <td>1970.0</td>\n",
       "      <td>None</td>\n",
       "      <td>NaN</td>\n",
       "    </tr>\n",
       "    <tr>\n",
       "      <th>4</th>\n",
       "      <td>16250</td>\n",
       "      <td>Cory Nelms</td>\n",
       "      <td>CB</td>\n",
       "      <td>6-0</td>\n",
       "      <td>195.0</td>\n",
       "      <td>None</td>\n",
       "      <td>1988-02-27</td>\n",
       "      <td>Neptune, NJ</td>\n",
       "      <td>None</td>\n",
       "      <td>Miami (FL)</td>\n",
       "      <td>Neptune, NJ</td>\n",
       "      <td>None</td>\n",
       "      <td>NaN</td>\n",
       "      <td>NaN</td>\n",
       "      <td>NaN</td>\n",
       "      <td>None</td>\n",
       "      <td>NaN</td>\n",
       "    </tr>\n",
       "  </tbody>\n",
       "</table>\n",
       "</div>"
      ],
      "text/plain": [
       "   player_id             name position height  weight    current_team  \\\n",
       "0       1809  Robert Blackmon       DB    6-0   208.0            None   \n",
       "1      23586       Dean Wells       LB    6-3   248.0            None   \n",
       "2        355      Kiko Alonso      ILB    6-3   238.0  Miami Dolphins   \n",
       "3      18182     Steve Ramsey       QB    6-2   210.0            None   \n",
       "4      16250       Cory Nelms       CB    6-0   195.0            None   \n",
       "\n",
       "   birth_date     birth_place  death_date      college       high_school  \\\n",
       "0  1967-05-12    Bay City, TX        None       Baylor     Van Vleck, TX   \n",
       "1  1970-07-20  Louisville, KY        None     Kentucky    Holy Cross, KY   \n",
       "2  1990-08-14      Newton, MA        None       Oregon     Los Gatos, CA   \n",
       "3  1948-04-22      Dallas, TX  1999-10-15  North Texas  W.W. Samuell, TX   \n",
       "4  1988-02-27     Neptune, NJ        None   Miami (FL)       Neptune, NJ   \n",
       "\n",
       "           draft_team  draft_round  draft_position  draft_year current_salary  \\\n",
       "0    Seattle Seahawks          2.0            34.0      1990.0           None   \n",
       "1    Seattle Seahawks          4.0            85.0      1993.0           None   \n",
       "2       Buffalo Bills          2.0            46.0      2013.0      1,075,000   \n",
       "3  New Orleans Saints          5.0           126.0      1970.0           None   \n",
       "4                None          NaN             NaN         NaN           None   \n",
       "\n",
       "   hof_induction_year  \n",
       "0                 NaN  \n",
       "1                 NaN  \n",
       "2                 NaN  \n",
       "3                 NaN  \n",
       "4                 NaN  "
      ]
     },
     "execution_count": 6,
     "metadata": {},
     "output_type": "execute_result"
    }
   ],
   "source": [
    "nfl_football_players.head()"
   ]
  },
  {
   "cell_type": "markdown",
   "metadata": {
    "colab_type": "text",
    "id": "EwRPR-_ZHumv",
    "slideshow": {
     "slide_type": "subslide"
    }
   },
   "source": [
    "And, just for fun, show the player with the highest Current Salary from that dataset:"
   ]
  },
  {
   "cell_type": "code",
   "execution_count": 7,
   "metadata": {
    "colab": {
     "base_uri": "https://localhost:8080/",
     "height": 114
    },
    "colab_type": "code",
    "id": "tIONruDSHumx",
    "outputId": "f0ac0356-826a-4cc0-e3a5-c0a14c67e4fe"
   },
   "outputs": [
    {
     "data": {
      "text/html": [
       "<div>\n",
       "<style scoped>\n",
       "    .dataframe tbody tr th:only-of-type {\n",
       "        vertical-align: middle;\n",
       "    }\n",
       "\n",
       "    .dataframe tbody tr th {\n",
       "        vertical-align: top;\n",
       "    }\n",
       "\n",
       "    .dataframe thead th {\n",
       "        text-align: right;\n",
       "    }\n",
       "</style>\n",
       "<table border=\"1\" class=\"dataframe\">\n",
       "  <thead>\n",
       "    <tr style=\"text-align: right;\">\n",
       "      <th></th>\n",
       "      <th>player_id</th>\n",
       "      <th>name</th>\n",
       "      <th>position</th>\n",
       "      <th>height</th>\n",
       "      <th>weight</th>\n",
       "      <th>current_team</th>\n",
       "      <th>birth_date</th>\n",
       "      <th>birth_place</th>\n",
       "      <th>death_date</th>\n",
       "      <th>college</th>\n",
       "      <th>high_school</th>\n",
       "      <th>draft_team</th>\n",
       "      <th>draft_round</th>\n",
       "      <th>draft_position</th>\n",
       "      <th>draft_year</th>\n",
       "      <th>current_salary</th>\n",
       "      <th>hof_induction_year</th>\n",
       "    </tr>\n",
       "  </thead>\n",
       "  <tbody>\n",
       "    <tr>\n",
       "      <th>6454</th>\n",
       "      <td>721</td>\n",
       "      <td>Jeremiah Attaochu</td>\n",
       "      <td>OLB</td>\n",
       "      <td>6-3</td>\n",
       "      <td>252.0</td>\n",
       "      <td>Los Angeles Chargers</td>\n",
       "      <td>1993-01-17</td>\n",
       "      <td>Ibadan, Nigeria</td>\n",
       "      <td>None</td>\n",
       "      <td>Georgia Tech</td>\n",
       "      <td>Archbishop Carroll, DE</td>\n",
       "      <td>San Diego Chargers</td>\n",
       "      <td>2.0</td>\n",
       "      <td>50.0</td>\n",
       "      <td>2014.0</td>\n",
       "      <td>993,150</td>\n",
       "      <td>NaN</td>\n",
       "    </tr>\n",
       "  </tbody>\n",
       "</table>\n",
       "</div>"
      ],
      "text/plain": [
       "      player_id               name position height  weight  \\\n",
       "6454        721  Jeremiah Attaochu      OLB    6-3   252.0   \n",
       "\n",
       "              current_team  birth_date      birth_place death_date  \\\n",
       "6454  Los Angeles Chargers  1993-01-17  Ibadan, Nigeria       None   \n",
       "\n",
       "           college             high_school          draft_team  draft_round  \\\n",
       "6454  Georgia Tech  Archbishop Carroll, DE  San Diego Chargers          2.0   \n",
       "\n",
       "      draft_position  draft_year current_salary  hof_induction_year  \n",
       "6454            50.0      2014.0        993,150                 NaN  "
      ]
     },
     "execution_count": 7,
     "metadata": {},
     "output_type": "execute_result"
    }
   ],
   "source": [
    "nfl_football_players.sort_values('current_salary', ascending=False).head(1)"
   ]
  },
  {
   "cell_type": "markdown",
   "metadata": {
    "colab_type": "text",
    "id": "FJkkwyLUHum0",
    "slideshow": {
     "slide_type": "subslide"
    }
   },
   "source": [
    "## Fixing up the data\n",
    "Assuming you did something like sort_values on one of the original columns, you probably got the wrong result."
   ]
  },
  {
   "cell_type": "markdown",
   "metadata": {
    "colab_type": "text",
    "id": "FJkkwyLUHum0",
    "slideshow": {
     "slide_type": "subslide"
    }
   },
   "source": [
    "Looking a bit more closely at the results, you'll notice that the current_salary column.  Remembering that we have made the shift from pythonic to pandorable, we can leverage the impressive-sounding \"vectorized string functions\" mentioned in the McKinney book.  Specifically, we can use the str.replace(...) method.  Note that had we use read_csv to load the file we could have used the ```thousands=``` option and avoided all this, but sometimes data doesn't come in a convenient format."
   ]
  },
  {
   "cell_type": "markdown",
   "metadata": {
    "colab_type": "text",
    "id": "FJkkwyLUHum0",
    "slideshow": {
     "slide_type": "subslide"
    }
   },
   "source": [
    "One way to apply functions is to operate on a column and then assign the results to another column.  For example, if we wanted to eliminate commas, we could replace them with null strings"
   ]
  },
  {
   "cell_type": "code",
   "execution_count": 8,
   "metadata": {
    "colab": {
     "base_uri": "https://localhost:8080/",
     "height": 230
    },
    "colab_type": "code",
    "id": "WxcwXzHeHum1",
    "outputId": "826cb0fb-7f91-4a18-e9f1-617502654245",
    "slideshow": {
     "slide_type": "-"
    }
   },
   "outputs": [
    {
     "data": {
      "text/plain": [
       "0           None\n",
       "1           None\n",
       "2        1075000\n",
       "3           None\n",
       "4           None\n",
       "          ...   \n",
       "25038       None\n",
       "25039       None\n",
       "25040       None\n",
       "25041       None\n",
       "25042       None\n",
       "Name: current_salary, Length: 25043, dtype: object"
      ]
     },
     "execution_count": 8,
     "metadata": {},
     "output_type": "execute_result"
    }
   ],
   "source": [
    "nfl_football_players['current_salary'].str.replace(',', '')"
   ]
  },
  {
   "cell_type": "markdown",
   "metadata": {
    "colab_type": "text",
    "id": "fIUm5dgGHum3",
    "slideshow": {
     "slide_type": "subslide"
    }
   },
   "source": [
    "And assign the results to a column in the original dataframe (in this case I'm calling the column current_salary_nocommas)"
   ]
  },
  {
   "cell_type": "code",
   "execution_count": 9,
   "metadata": {
    "colab": {},
    "colab_type": "code",
    "id": "AwJcg0lqHum3"
   },
   "outputs": [],
   "source": [
    "nfl_football_players['current_salary_nocommas'] = nfl_football_players['current_salary'].str.replace(',', '')"
   ]
  },
  {
   "cell_type": "markdown",
   "metadata": {
    "colab_type": "text",
    "id": "0rZ7-Q-eHum6",
    "slideshow": {
     "slide_type": "subslide"
    }
   },
   "source": [
    "But you'll notice that the type of the column is string, and we want to convert it to a float so we can sort it numerically.  So we can use the astype() function to convert it:"
   ]
  },
  {
   "cell_type": "code",
   "execution_count": 10,
   "metadata": {},
   "outputs": [
    {
     "data": {
      "text/plain": [
       "dtype('O')"
      ]
     },
     "execution_count": 10,
     "metadata": {},
     "output_type": "execute_result"
    }
   ],
   "source": [
    "nfl_football_players.current_salary_nocommas.dtype"
   ]
  },
  {
   "cell_type": "code",
   "execution_count": 11,
   "metadata": {
    "colab": {},
    "colab_type": "code",
    "id": "SjeymCi8Hum6"
   },
   "outputs": [],
   "source": [
    "nfl_football_players['current_salary_cleaned'] = nfl_football_players['current_salary_nocommas'].astype(float)"
   ]
  },
  {
   "cell_type": "code",
   "execution_count": 12,
   "metadata": {
    "colab": {
     "base_uri": "https://localhost:8080/",
     "height": 161
    },
    "colab_type": "code",
    "id": "c-Itp6egHum8",
    "outputId": "1203e6f3-4ceb-497b-8d56-e185c23cf441"
   },
   "outputs": [
    {
     "data": {
      "text/html": [
       "<div>\n",
       "<style scoped>\n",
       "    .dataframe tbody tr th:only-of-type {\n",
       "        vertical-align: middle;\n",
       "    }\n",
       "\n",
       "    .dataframe tbody tr th {\n",
       "        vertical-align: top;\n",
       "    }\n",
       "\n",
       "    .dataframe thead th {\n",
       "        text-align: right;\n",
       "    }\n",
       "</style>\n",
       "<table border=\"1\" class=\"dataframe\">\n",
       "  <thead>\n",
       "    <tr style=\"text-align: right;\">\n",
       "      <th></th>\n",
       "      <th>player_id</th>\n",
       "      <th>name</th>\n",
       "      <th>position</th>\n",
       "      <th>height</th>\n",
       "      <th>weight</th>\n",
       "      <th>current_team</th>\n",
       "      <th>birth_date</th>\n",
       "      <th>birth_place</th>\n",
       "      <th>death_date</th>\n",
       "      <th>college</th>\n",
       "      <th>high_school</th>\n",
       "      <th>draft_team</th>\n",
       "      <th>draft_round</th>\n",
       "      <th>draft_position</th>\n",
       "      <th>draft_year</th>\n",
       "      <th>current_salary</th>\n",
       "      <th>hof_induction_year</th>\n",
       "      <th>current_salary_nocommas</th>\n",
       "      <th>current_salary_cleaned</th>\n",
       "    </tr>\n",
       "  </thead>\n",
       "  <tbody>\n",
       "    <tr>\n",
       "      <th>0</th>\n",
       "      <td>1809</td>\n",
       "      <td>Robert Blackmon</td>\n",
       "      <td>DB</td>\n",
       "      <td>6-0</td>\n",
       "      <td>208.0</td>\n",
       "      <td>None</td>\n",
       "      <td>1967-05-12</td>\n",
       "      <td>Bay City, TX</td>\n",
       "      <td>None</td>\n",
       "      <td>Baylor</td>\n",
       "      <td>Van Vleck, TX</td>\n",
       "      <td>Seattle Seahawks</td>\n",
       "      <td>2.0</td>\n",
       "      <td>34.0</td>\n",
       "      <td>1990.0</td>\n",
       "      <td>None</td>\n",
       "      <td>NaN</td>\n",
       "      <td>None</td>\n",
       "      <td>NaN</td>\n",
       "    </tr>\n",
       "    <tr>\n",
       "      <th>1</th>\n",
       "      <td>23586</td>\n",
       "      <td>Dean Wells</td>\n",
       "      <td>LB</td>\n",
       "      <td>6-3</td>\n",
       "      <td>248.0</td>\n",
       "      <td>None</td>\n",
       "      <td>1970-07-20</td>\n",
       "      <td>Louisville, KY</td>\n",
       "      <td>None</td>\n",
       "      <td>Kentucky</td>\n",
       "      <td>Holy Cross, KY</td>\n",
       "      <td>Seattle Seahawks</td>\n",
       "      <td>4.0</td>\n",
       "      <td>85.0</td>\n",
       "      <td>1993.0</td>\n",
       "      <td>None</td>\n",
       "      <td>NaN</td>\n",
       "      <td>None</td>\n",
       "      <td>NaN</td>\n",
       "    </tr>\n",
       "    <tr>\n",
       "      <th>2</th>\n",
       "      <td>355</td>\n",
       "      <td>Kiko Alonso</td>\n",
       "      <td>ILB</td>\n",
       "      <td>6-3</td>\n",
       "      <td>238.0</td>\n",
       "      <td>Miami Dolphins</td>\n",
       "      <td>1990-08-14</td>\n",
       "      <td>Newton, MA</td>\n",
       "      <td>None</td>\n",
       "      <td>Oregon</td>\n",
       "      <td>Los Gatos, CA</td>\n",
       "      <td>Buffalo Bills</td>\n",
       "      <td>2.0</td>\n",
       "      <td>46.0</td>\n",
       "      <td>2013.0</td>\n",
       "      <td>1,075,000</td>\n",
       "      <td>NaN</td>\n",
       "      <td>1075000</td>\n",
       "      <td>1075000.0</td>\n",
       "    </tr>\n",
       "  </tbody>\n",
       "</table>\n",
       "</div>"
      ],
      "text/plain": [
       "   player_id             name position height  weight    current_team  \\\n",
       "0       1809  Robert Blackmon       DB    6-0   208.0            None   \n",
       "1      23586       Dean Wells       LB    6-3   248.0            None   \n",
       "2        355      Kiko Alonso      ILB    6-3   238.0  Miami Dolphins   \n",
       "\n",
       "   birth_date     birth_place death_date   college     high_school  \\\n",
       "0  1967-05-12    Bay City, TX       None    Baylor   Van Vleck, TX   \n",
       "1  1970-07-20  Louisville, KY       None  Kentucky  Holy Cross, KY   \n",
       "2  1990-08-14      Newton, MA       None    Oregon   Los Gatos, CA   \n",
       "\n",
       "         draft_team  draft_round  draft_position  draft_year current_salary  \\\n",
       "0  Seattle Seahawks          2.0            34.0      1990.0           None   \n",
       "1  Seattle Seahawks          4.0            85.0      1993.0           None   \n",
       "2     Buffalo Bills          2.0            46.0      2013.0      1,075,000   \n",
       "\n",
       "   hof_induction_year current_salary_nocommas  current_salary_cleaned  \n",
       "0                 NaN                    None                     NaN  \n",
       "1                 NaN                    None                     NaN  \n",
       "2                 NaN                 1075000               1075000.0  "
      ]
     },
     "execution_count": 12,
     "metadata": {},
     "output_type": "execute_result"
    }
   ],
   "source": [
    "nfl_football_players.head(3)"
   ]
  },
  {
   "cell_type": "markdown",
   "metadata": {
    "colab_type": "text",
    "id": "p5uKDvXxHum_",
    "slideshow": {
     "slide_type": "subslide"
    }
   },
   "source": [
    "And now we can re-run our command to sort by salary and get the correct result:"
   ]
  },
  {
   "cell_type": "code",
   "execution_count": 13,
   "metadata": {
    "colab": {
     "base_uri": "https://localhost:8080/",
     "height": 114
    },
    "colab_type": "code",
    "id": "dXsvdqerHunA",
    "outputId": "81a3e180-f0ab-44a9-b939-1e9d7b1e1f9f"
   },
   "outputs": [
    {
     "data": {
      "text/html": [
       "<div>\n",
       "<style scoped>\n",
       "    .dataframe tbody tr th:only-of-type {\n",
       "        vertical-align: middle;\n",
       "    }\n",
       "\n",
       "    .dataframe tbody tr th {\n",
       "        vertical-align: top;\n",
       "    }\n",
       "\n",
       "    .dataframe thead th {\n",
       "        text-align: right;\n",
       "    }\n",
       "</style>\n",
       "<table border=\"1\" class=\"dataframe\">\n",
       "  <thead>\n",
       "    <tr style=\"text-align: right;\">\n",
       "      <th></th>\n",
       "      <th>player_id</th>\n",
       "      <th>name</th>\n",
       "      <th>position</th>\n",
       "      <th>height</th>\n",
       "      <th>weight</th>\n",
       "      <th>current_team</th>\n",
       "      <th>birth_date</th>\n",
       "      <th>birth_place</th>\n",
       "      <th>death_date</th>\n",
       "      <th>college</th>\n",
       "      <th>high_school</th>\n",
       "      <th>draft_team</th>\n",
       "      <th>draft_round</th>\n",
       "      <th>draft_position</th>\n",
       "      <th>draft_year</th>\n",
       "      <th>current_salary</th>\n",
       "      <th>hof_induction_year</th>\n",
       "      <th>current_salary_nocommas</th>\n",
       "      <th>current_salary_cleaned</th>\n",
       "    </tr>\n",
       "  </thead>\n",
       "  <tbody>\n",
       "    <tr>\n",
       "      <th>17756</th>\n",
       "      <td>4644</td>\n",
       "      <td>Kirk Cousins</td>\n",
       "      <td>QB</td>\n",
       "      <td>6-3</td>\n",
       "      <td>214.0</td>\n",
       "      <td>Washington Redskins</td>\n",
       "      <td>1988-08-19</td>\n",
       "      <td>Holland, MI</td>\n",
       "      <td>None</td>\n",
       "      <td>Michigan St.</td>\n",
       "      <td>Holland Christian, MI</td>\n",
       "      <td>Washington Redskins</td>\n",
       "      <td>4.0</td>\n",
       "      <td>102.0</td>\n",
       "      <td>2012.0</td>\n",
       "      <td>23,943,600</td>\n",
       "      <td>NaN</td>\n",
       "      <td>23943600</td>\n",
       "      <td>23943600.0</td>\n",
       "    </tr>\n",
       "  </tbody>\n",
       "</table>\n",
       "</div>"
      ],
      "text/plain": [
       "       player_id          name position height  weight         current_team  \\\n",
       "17756       4644  Kirk Cousins       QB    6-3   214.0  Washington Redskins   \n",
       "\n",
       "       birth_date  birth_place death_date       college  \\\n",
       "17756  1988-08-19  Holland, MI       None  Michigan St.   \n",
       "\n",
       "                 high_school           draft_team  draft_round  \\\n",
       "17756  Holland Christian, MI  Washington Redskins          4.0   \n",
       "\n",
       "       draft_position  draft_year current_salary  hof_induction_year  \\\n",
       "17756           102.0      2012.0     23,943,600                 NaN   \n",
       "\n",
       "      current_salary_nocommas  current_salary_cleaned  \n",
       "17756                23943600              23943600.0  "
      ]
     },
     "execution_count": 13,
     "metadata": {},
     "output_type": "execute_result"
    }
   ],
   "source": [
    "nfl_football_players.sort_values('current_salary_cleaned', ascending=False).head(1)"
   ]
  },
  {
   "cell_type": "markdown",
   "metadata": {
    "colab_type": "text",
    "id": "-Cy7aIXOHunC",
    "slideshow": {
     "slide_type": "slide"
    }
   },
   "source": [
    "## Dropping missing values\n",
    "\n",
    "In addition to the \"all\" or \"any\" functionality described in McKinney section 7.1, it's sometimes useful to drop a row only if a certain column or columns have missing data.  To do this, use the subset= option with dropna().  So, for example, to drop all players for whom we do not have salary information, we could use the following code:"
   ]
  },
  {
   "cell_type": "code",
   "execution_count": 14,
   "metadata": {
    "colab": {},
    "colab_type": "code",
    "id": "SYlSXWxmHunC"
   },
   "outputs": [],
   "source": [
    "nfl_football_players_salaries = nfl_football_players.dropna(subset=['current_salary_cleaned'])"
   ]
  },
  {
   "cell_type": "code",
   "execution_count": 15,
   "metadata": {
    "colab": {
     "base_uri": "https://localhost:8080/",
     "height": 301
    },
    "colab_type": "code",
    "id": "zRihlaXtHunF",
    "outputId": "aa4ab012-a861-4ba4-aa9e-0f94173781f1",
    "slideshow": {
     "slide_type": "subslide"
    }
   },
   "outputs": [
    {
     "data": {
      "text/html": [
       "<div>\n",
       "<style scoped>\n",
       "    .dataframe tbody tr th:only-of-type {\n",
       "        vertical-align: middle;\n",
       "    }\n",
       "\n",
       "    .dataframe tbody tr th {\n",
       "        vertical-align: top;\n",
       "    }\n",
       "\n",
       "    .dataframe thead th {\n",
       "        text-align: right;\n",
       "    }\n",
       "</style>\n",
       "<table border=\"1\" class=\"dataframe\">\n",
       "  <thead>\n",
       "    <tr style=\"text-align: right;\">\n",
       "      <th></th>\n",
       "      <th>player_id</th>\n",
       "      <th>name</th>\n",
       "      <th>position</th>\n",
       "      <th>height</th>\n",
       "      <th>weight</th>\n",
       "      <th>current_team</th>\n",
       "      <th>birth_date</th>\n",
       "      <th>birth_place</th>\n",
       "      <th>death_date</th>\n",
       "      <th>college</th>\n",
       "      <th>high_school</th>\n",
       "      <th>draft_team</th>\n",
       "      <th>draft_round</th>\n",
       "      <th>draft_position</th>\n",
       "      <th>draft_year</th>\n",
       "      <th>current_salary</th>\n",
       "      <th>hof_induction_year</th>\n",
       "      <th>current_salary_nocommas</th>\n",
       "      <th>current_salary_cleaned</th>\n",
       "    </tr>\n",
       "  </thead>\n",
       "  <tbody>\n",
       "    <tr>\n",
       "      <th>2</th>\n",
       "      <td>355</td>\n",
       "      <td>Kiko Alonso</td>\n",
       "      <td>ILB</td>\n",
       "      <td>6-3</td>\n",
       "      <td>238.0</td>\n",
       "      <td>Miami Dolphins</td>\n",
       "      <td>1990-08-14</td>\n",
       "      <td>Newton, MA</td>\n",
       "      <td>None</td>\n",
       "      <td>Oregon</td>\n",
       "      <td>Los Gatos, CA</td>\n",
       "      <td>Buffalo Bills</td>\n",
       "      <td>2.0</td>\n",
       "      <td>46.0</td>\n",
       "      <td>2013.0</td>\n",
       "      <td>1,075,000</td>\n",
       "      <td>NaN</td>\n",
       "      <td>1075000</td>\n",
       "      <td>1075000.0</td>\n",
       "    </tr>\n",
       "    <tr>\n",
       "      <th>6</th>\n",
       "      <td>2701</td>\n",
       "      <td>Preston Brown</td>\n",
       "      <td>ILB</td>\n",
       "      <td>6-1</td>\n",
       "      <td>251.0</td>\n",
       "      <td>Buffalo Bills</td>\n",
       "      <td>1992-10-27</td>\n",
       "      <td>Cincinnati, OH</td>\n",
       "      <td>None</td>\n",
       "      <td>Louisville</td>\n",
       "      <td>Northwest, OH</td>\n",
       "      <td>Buffalo Bills</td>\n",
       "      <td>3.0</td>\n",
       "      <td>73.0</td>\n",
       "      <td>2014.0</td>\n",
       "      <td>1,762,000</td>\n",
       "      <td>NaN</td>\n",
       "      <td>1762000</td>\n",
       "      <td>1762000.0</td>\n",
       "    </tr>\n",
       "    <tr>\n",
       "      <th>13</th>\n",
       "      <td>3966</td>\n",
       "      <td>Frank Clark</td>\n",
       "      <td>DE</td>\n",
       "      <td>6-2</td>\n",
       "      <td>270.0</td>\n",
       "      <td>Seattle Seahawks</td>\n",
       "      <td>1993-06-14</td>\n",
       "      <td>Cleveland, OH</td>\n",
       "      <td>None</td>\n",
       "      <td>Michigan</td>\n",
       "      <td>Glenville, OH</td>\n",
       "      <td>Seattle Seahawks</td>\n",
       "      <td>2.0</td>\n",
       "      <td>63.0</td>\n",
       "      <td>2015.0</td>\n",
       "      <td>774,294</td>\n",
       "      <td>NaN</td>\n",
       "      <td>774294</td>\n",
       "      <td>774294.0</td>\n",
       "    </tr>\n",
       "    <tr>\n",
       "      <th>37</th>\n",
       "      <td>19449</td>\n",
       "      <td>Emmanuel Sanders</td>\n",
       "      <td>WR</td>\n",
       "      <td>5-11</td>\n",
       "      <td>186.0</td>\n",
       "      <td>Denver Broncos</td>\n",
       "      <td>1987-03-16</td>\n",
       "      <td>Bellville, TX</td>\n",
       "      <td>None</td>\n",
       "      <td>SMU</td>\n",
       "      <td>Bellville, TX</td>\n",
       "      <td>Pittsburgh Steelers</td>\n",
       "      <td>3.0</td>\n",
       "      <td>82.0</td>\n",
       "      <td>2010.0</td>\n",
       "      <td>6,750,000</td>\n",
       "      <td>NaN</td>\n",
       "      <td>6750000</td>\n",
       "      <td>6750000.0</td>\n",
       "    </tr>\n",
       "    <tr>\n",
       "      <th>53</th>\n",
       "      <td>17858</td>\n",
       "      <td>Bilal Powell</td>\n",
       "      <td>RB</td>\n",
       "      <td>5-11</td>\n",
       "      <td>204.0</td>\n",
       "      <td>New York Jets</td>\n",
       "      <td>1988-10-27</td>\n",
       "      <td>Lakeland, FL</td>\n",
       "      <td>None</td>\n",
       "      <td>Louisville</td>\n",
       "      <td>Lake Gibson, FL</td>\n",
       "      <td>New York Jets</td>\n",
       "      <td>4.0</td>\n",
       "      <td>126.0</td>\n",
       "      <td>2011.0</td>\n",
       "      <td>3,750,000</td>\n",
       "      <td>NaN</td>\n",
       "      <td>3750000</td>\n",
       "      <td>3750000.0</td>\n",
       "    </tr>\n",
       "  </tbody>\n",
       "</table>\n",
       "</div>"
      ],
      "text/plain": [
       "    player_id               name position height  weight      current_team  \\\n",
       "2         355        Kiko Alonso      ILB    6-3   238.0    Miami Dolphins   \n",
       "6        2701      Preston Brown      ILB    6-1   251.0     Buffalo Bills   \n",
       "13       3966        Frank Clark       DE    6-2   270.0  Seattle Seahawks   \n",
       "37      19449  Emmanuel Sanders        WR   5-11   186.0    Denver Broncos   \n",
       "53      17858       Bilal Powell       RB   5-11   204.0     New York Jets   \n",
       "\n",
       "    birth_date     birth_place death_date     college      high_school  \\\n",
       "2   1990-08-14      Newton, MA       None      Oregon    Los Gatos, CA   \n",
       "6   1992-10-27  Cincinnati, OH       None  Louisville    Northwest, OH   \n",
       "13  1993-06-14   Cleveland, OH       None    Michigan    Glenville, OH   \n",
       "37  1987-03-16   Bellville, TX       None         SMU    Bellville, TX   \n",
       "53  1988-10-27    Lakeland, FL       None  Louisville  Lake Gibson, FL   \n",
       "\n",
       "             draft_team  draft_round  draft_position  draft_year  \\\n",
       "2         Buffalo Bills          2.0            46.0      2013.0   \n",
       "6         Buffalo Bills          3.0            73.0      2014.0   \n",
       "13     Seattle Seahawks          2.0            63.0      2015.0   \n",
       "37  Pittsburgh Steelers          3.0            82.0      2010.0   \n",
       "53        New York Jets          4.0           126.0      2011.0   \n",
       "\n",
       "   current_salary  hof_induction_year current_salary_nocommas  \\\n",
       "2       1,075,000                 NaN                 1075000   \n",
       "6       1,762,000                 NaN                 1762000   \n",
       "13        774,294                 NaN                  774294   \n",
       "37      6,750,000                 NaN                 6750000   \n",
       "53      3,750,000                 NaN                 3750000   \n",
       "\n",
       "    current_salary_cleaned  \n",
       "2                1075000.0  \n",
       "6                1762000.0  \n",
       "13                774294.0  \n",
       "37               6750000.0  \n",
       "53               3750000.0  "
      ]
     },
     "execution_count": 15,
     "metadata": {},
     "output_type": "execute_result"
    }
   ],
   "source": [
    "nfl_football_players_salaries.head()"
   ]
  },
  {
   "cell_type": "markdown",
   "metadata": {
    "slideshow": {
     "slide_type": "subslide"
    }
   },
   "source": [
    "<div style=\"width:100%;height:400px;padding:10px;background-color:red\"></div>"
   ]
  },
  {
   "cell_type": "markdown",
   "metadata": {
    "colab_type": "text",
    "id": "yCQUvjN8HunU",
    "slideshow": {
     "slide_type": "slide"
    }
   },
   "source": [
    "# Scraping Tables from HTML"
   ]
  },
  {
   "cell_type": "markdown",
   "metadata": {
    "colab_type": "text",
    "id": "EggqkmlYHunV",
    "slideshow": {
     "slide_type": "subslide"
    }
   },
   "source": [
    "The ```pd.read_html``` function returns a list of DataFrames read from an HTML source.  The following line will return a list of DataFrames from https://en.wikipedia.org/wiki/List_of_largest_sports_contracts"
   ]
  },
  {
   "cell_type": "code",
   "execution_count": 16,
   "metadata": {
    "colab": {},
    "colab_type": "code",
    "id": "se4JcqgwHunV",
    "slideshow": {
     "slide_type": "subslide"
    }
   },
   "outputs": [],
   "source": [
    "contracts_scraped = pd.read_html('https://en.wikipedia.org/wiki/List_of_largest_sports_contracts',header=0)"
   ]
  },
  {
   "cell_type": "code",
   "execution_count": 17,
   "metadata": {
    "colab": {
     "base_uri": "https://localhost:8080/",
     "height": 34
    },
    "colab_type": "code",
    "id": "UNsEBWmHHunX",
    "outputId": "95d14791-7f26-45d5-ca78-a8425870da02"
   },
   "outputs": [
    {
     "data": {
      "text/plain": [
       "1"
      ]
     },
     "execution_count": 17,
     "metadata": {},
     "output_type": "execute_result"
    }
   ],
   "source": [
    "len(contracts_scraped)"
   ]
  },
  {
   "cell_type": "markdown",
   "metadata": {
    "colab_type": "text",
    "id": "-LRwWTTpHunY",
    "slideshow": {
     "slide_type": "subslide"
    }
   },
   "source": [
    "To get the first table, you'll need to pull off the 0th element:"
   ]
  },
  {
   "cell_type": "code",
   "execution_count": 18,
   "metadata": {
    "colab": {
     "base_uri": "https://localhost:8080/",
     "height": 197
    },
    "colab_type": "code",
    "id": "gFkpSb7BHunZ",
    "outputId": "a4cec9de-cb2b-4794-8db6-afc51aa91519"
   },
   "outputs": [
    {
     "data": {
      "text/html": [
       "<div>\n",
       "<style scoped>\n",
       "    .dataframe tbody tr th:only-of-type {\n",
       "        vertical-align: middle;\n",
       "    }\n",
       "\n",
       "    .dataframe tbody tr th {\n",
       "        vertical-align: top;\n",
       "    }\n",
       "\n",
       "    .dataframe thead th {\n",
       "        text-align: right;\n",
       "    }\n",
       "</style>\n",
       "<table border=\"1\" class=\"dataframe\">\n",
       "  <thead>\n",
       "    <tr style=\"text-align: right;\">\n",
       "      <th></th>\n",
       "      <th>Rank</th>\n",
       "      <th>Player</th>\n",
       "      <th>Team/Streaming Service</th>\n",
       "      <th>Sport</th>\n",
       "      <th>Length of contract</th>\n",
       "      <th>Contract value (USD)</th>\n",
       "      <th>Average per year (USD)</th>\n",
       "      <th>Average per fixture5 (USD)</th>\n",
       "      <th>Ref</th>\n",
       "    </tr>\n",
       "  </thead>\n",
       "  <tbody>\n",
       "    <tr>\n",
       "      <th>0</th>\n",
       "      <td>1</td>\n",
       "      <td>Patrick Mahomes1‡</td>\n",
       "      <td>Kansas City Chiefs</td>\n",
       "      <td>American football</td>\n",
       "      <td>12 years (2020–2031)</td>\n",
       "      <td>$503,000,000</td>\n",
       "      <td>$41,916,667</td>\n",
       "      <td>$2,619,791.67</td>\n",
       "      <td>[1]</td>\n",
       "    </tr>\n",
       "    <tr>\n",
       "      <th>1</th>\n",
       "      <td>2</td>\n",
       "      <td>Mike Trout</td>\n",
       "      <td>Los Angeles Angels</td>\n",
       "      <td>Baseball</td>\n",
       "      <td>12 years (2019–2030)</td>\n",
       "      <td>$426,500,000</td>\n",
       "      <td>$35,541,667</td>\n",
       "      <td>$219,393.00</td>\n",
       "      <td>[2]</td>\n",
       "    </tr>\n",
       "    <tr>\n",
       "      <th>2</th>\n",
       "      <td>3 (tie)</td>\n",
       "      <td>Canelo Álvarez</td>\n",
       "      <td>DAZN*</td>\n",
       "      <td>Boxing</td>\n",
       "      <td>5 years (2018–2023)</td>\n",
       "      <td>$365,000,000</td>\n",
       "      <td>$73,000,000</td>\n",
       "      <td>$33,181,818.18</td>\n",
       "      <td>[3]</td>\n",
       "    </tr>\n",
       "    <tr>\n",
       "      <th>3</th>\n",
       "      <td>3 (tie)</td>\n",
       "      <td>Mookie Betts</td>\n",
       "      <td>Los Angeles Dodgers</td>\n",
       "      <td>Baseball</td>\n",
       "      <td>12 years (2020–2032)</td>\n",
       "      <td>$365,000,000</td>\n",
       "      <td>$30,416,667</td>\n",
       "      <td>$187,757.20</td>\n",
       "      <td>[4]</td>\n",
       "    </tr>\n",
       "    <tr>\n",
       "      <th>4</th>\n",
       "      <td>5</td>\n",
       "      <td>Bryce Harper</td>\n",
       "      <td>Philadelphia Phillies</td>\n",
       "      <td>Baseball</td>\n",
       "      <td>13 years (2019–2031)</td>\n",
       "      <td>$330,000,000</td>\n",
       "      <td>$25,384,615</td>\n",
       "      <td>$156,695.16</td>\n",
       "      <td>[5]</td>\n",
       "    </tr>\n",
       "  </tbody>\n",
       "</table>\n",
       "</div>"
      ],
      "text/plain": [
       "      Rank             Player Team/Streaming Service              Sport  \\\n",
       "0        1  Patrick Mahomes1‡     Kansas City Chiefs  American football   \n",
       "1        2         Mike Trout     Los Angeles Angels           Baseball   \n",
       "2  3 (tie)     Canelo Álvarez                  DAZN*             Boxing   \n",
       "3  3 (tie)       Mookie Betts    Los Angeles Dodgers           Baseball   \n",
       "4        5       Bryce Harper  Philadelphia Phillies           Baseball   \n",
       "\n",
       "     Length of contract Contract value (USD) Average per year (USD)  \\\n",
       "0  12 years (2020–2031)         $503,000,000            $41,916,667   \n",
       "1  12 years (2019–2030)         $426,500,000            $35,541,667   \n",
       "2   5 years (2018–2023)         $365,000,000            $73,000,000   \n",
       "3  12 years (2020–2032)         $365,000,000            $30,416,667   \n",
       "4  13 years (2019–2031)         $330,000,000            $25,384,615   \n",
       "\n",
       "  Average per fixture5 (USD)  Ref  \n",
       "0              $2,619,791.67  [1]  \n",
       "1                $219,393.00  [2]  \n",
       "2             $33,181,818.18  [3]  \n",
       "3                $187,757.20  [4]  \n",
       "4                $156,695.16  [5]  "
      ]
     },
     "execution_count": 18,
     "metadata": {},
     "output_type": "execute_result"
    }
   ],
   "source": [
    "contracts = contracts_scraped[0]\n",
    "contracts.head()"
   ]
  },
  {
   "cell_type": "markdown",
   "metadata": {
    "colab_type": "text",
    "id": "rOaNq4F-Hunb",
    "slideshow": {
     "slide_type": "slide"
    }
   },
   "source": [
    "## IVQ Exercise: \n",
    "\n",
    "Count the number of players from each sport in the List of Largest Sports Contracts \n",
    "\n",
    "Hint:  remember ```value_counts()``` from your previous work."
   ]
  },
  {
   "cell_type": "markdown",
   "metadata": {
    "slideshow": {
     "slide_type": "subslide"
    }
   },
   "source": [
    "<div style=\"width:100%;height:400px;padding:10px;background-color:blue\"></div>"
   ]
  },
  {
   "cell_type": "code",
   "execution_count": null,
   "metadata": {
    "colab": {
     "base_uri": "https://localhost:8080/",
     "height": 158
    },
    "colab_type": "code",
    "id": "_k91Ez8KHune",
    "outputId": "7f912ed7-867e-4ec8-b491-4bf647d1ed3a",
    "slideshow": {
     "slide_type": "skip"
    }
   },
   "outputs": [],
   "source": [
    "# Solution\n",
    "contracts['Sport'].value_counts()"
   ]
  },
  {
   "cell_type": "markdown",
   "metadata": {
    "colab_type": "text",
    "id": "zRYlbKJFHun5",
    "slideshow": {
     "slide_type": "slide"
    }
   },
   "source": [
    "# APIs and requests\n",
    "You've covered the ```requests``` package in previous courses.  This example shows what you can do with an API that returns JSON:"
   ]
  },
  {
   "cell_type": "code",
   "execution_count": 19,
   "metadata": {
    "colab": {},
    "colab_type": "code",
    "id": "hEmohOrlHun6",
    "slideshow": {
     "slide_type": "subslide"
    }
   },
   "outputs": [],
   "source": [
    "import requests"
   ]
  },
  {
   "cell_type": "code",
   "execution_count": 20,
   "metadata": {
    "colab": {},
    "colab_type": "code",
    "id": "9c0pomWvHun8",
    "slideshow": {
     "slide_type": "subslide"
    }
   },
   "outputs": [],
   "source": [
    "url = 'https://api.github.com/repos/pandas-dev/pandas/issues'"
   ]
  },
  {
   "cell_type": "code",
   "execution_count": 21,
   "metadata": {
    "colab": {
     "base_uri": "https://localhost:8080/",
     "height": 34
    },
    "colab_type": "code",
    "id": "x-57cHttHun_",
    "outputId": "f17139a5-614a-46ea-8f07-4628186aea8a"
   },
   "outputs": [],
   "source": [
    "resp = requests.get(url)"
   ]
  },
  {
   "cell_type": "code",
   "execution_count": 22,
   "metadata": {
    "colab": {},
    "colab_type": "code",
    "id": "6LpLIUupHuoC"
   },
   "outputs": [],
   "source": [
    "data = resp.json()"
   ]
  },
  {
   "cell_type": "code",
   "execution_count": 25,
   "metadata": {
    "colab": {
     "base_uri": "https://localhost:8080/",
     "height": 34
    },
    "colab_type": "code",
    "id": "XF16m-n7HuoE",
    "outputId": "21b81730-5186-42ae-e4fc-5b31feda87e0",
    "slideshow": {
     "slide_type": "subslide"
    }
   },
   "outputs": [
    {
     "data": {
      "text/plain": [
       "'jbrockmendel'"
      ]
     },
     "execution_count": 25,
     "metadata": {},
     "output_type": "execute_result"
    }
   ],
   "source": [
    "data[0]['user']['login'] "
   ]
  },
  {
   "cell_type": "code",
   "execution_count": 26,
   "metadata": {
    "colab": {
     "base_uri": "https://localhost:8080/",
     "height": 434
    },
    "colab_type": "code",
    "id": "UdqlJwQpHuoG",
    "outputId": "fcd3bc83-64cf-470f-c174-98cb97b2e02c",
    "slideshow": {
     "slide_type": "subslide"
    }
   },
   "outputs": [
    {
     "data": {
      "text/html": [
       "<div>\n",
       "<style scoped>\n",
       "    .dataframe tbody tr th:only-of-type {\n",
       "        vertical-align: middle;\n",
       "    }\n",
       "\n",
       "    .dataframe tbody tr th {\n",
       "        vertical-align: top;\n",
       "    }\n",
       "\n",
       "    .dataframe thead th {\n",
       "        text-align: right;\n",
       "    }\n",
       "</style>\n",
       "<table border=\"1\" class=\"dataframe\">\n",
       "  <thead>\n",
       "    <tr style=\"text-align: right;\">\n",
       "      <th></th>\n",
       "      <th>url</th>\n",
       "      <th>repository_url</th>\n",
       "      <th>labels_url</th>\n",
       "      <th>comments_url</th>\n",
       "      <th>events_url</th>\n",
       "      <th>html_url</th>\n",
       "      <th>id</th>\n",
       "      <th>node_id</th>\n",
       "      <th>number</th>\n",
       "      <th>title</th>\n",
       "      <th>...</th>\n",
       "      <th>milestone</th>\n",
       "      <th>comments</th>\n",
       "      <th>created_at</th>\n",
       "      <th>updated_at</th>\n",
       "      <th>closed_at</th>\n",
       "      <th>author_association</th>\n",
       "      <th>active_lock_reason</th>\n",
       "      <th>pull_request</th>\n",
       "      <th>body</th>\n",
       "      <th>performed_via_github_app</th>\n",
       "    </tr>\n",
       "  </thead>\n",
       "  <tbody>\n",
       "    <tr>\n",
       "      <th>0</th>\n",
       "      <td>https://api.github.com/repos/pandas-dev/pandas...</td>\n",
       "      <td>https://api.github.com/repos/pandas-dev/pandas</td>\n",
       "      <td>https://api.github.com/repos/pandas-dev/pandas...</td>\n",
       "      <td>https://api.github.com/repos/pandas-dev/pandas...</td>\n",
       "      <td>https://api.github.com/repos/pandas-dev/pandas...</td>\n",
       "      <td>https://github.com/pandas-dev/pandas/pull/35877</td>\n",
       "      <td>684982945</td>\n",
       "      <td>MDExOlB1bGxSZXF1ZXN0NDcyNzgwMTc5</td>\n",
       "      <td>35877</td>\n",
       "      <td>REGR: DatetimeIndex.intersection incorrectly r...</td>\n",
       "      <td>...</td>\n",
       "      <td>None</td>\n",
       "      <td>0</td>\n",
       "      <td>2020-08-24T21:39:04Z</td>\n",
       "      <td>2020-08-24T21:39:04Z</td>\n",
       "      <td>None</td>\n",
       "      <td>MEMBER</td>\n",
       "      <td>None</td>\n",
       "      <td>{'url': 'https://api.github.com/repos/pandas-d...</td>\n",
       "      <td>- [x] closes #35876\\r\\n- [x] tests added / pas...</td>\n",
       "      <td>None</td>\n",
       "    </tr>\n",
       "    <tr>\n",
       "      <th>1</th>\n",
       "      <td>https://api.github.com/repos/pandas-dev/pandas...</td>\n",
       "      <td>https://api.github.com/repos/pandas-dev/pandas</td>\n",
       "      <td>https://api.github.com/repos/pandas-dev/pandas...</td>\n",
       "      <td>https://api.github.com/repos/pandas-dev/pandas...</td>\n",
       "      <td>https://api.github.com/repos/pandas-dev/pandas...</td>\n",
       "      <td>https://github.com/pandas-dev/pandas/issues/35876</td>\n",
       "      <td>684877349</td>\n",
       "      <td>MDU6SXNzdWU2ODQ4NzczNDk=</td>\n",
       "      <td>35876</td>\n",
       "      <td>groupby AssertionError with datetime column name</td>\n",
       "      <td>...</td>\n",
       "      <td>None</td>\n",
       "      <td>2</td>\n",
       "      <td>2020-08-24T18:29:56Z</td>\n",
       "      <td>2020-08-24T21:17:37Z</td>\n",
       "      <td>None</td>\n",
       "      <td>NONE</td>\n",
       "      <td>None</td>\n",
       "      <td>NaN</td>\n",
       "      <td>- [x] I have checked that this issue has not a...</td>\n",
       "      <td>None</td>\n",
       "    </tr>\n",
       "    <tr>\n",
       "      <th>2</th>\n",
       "      <td>https://api.github.com/repos/pandas-dev/pandas...</td>\n",
       "      <td>https://api.github.com/repos/pandas-dev/pandas</td>\n",
       "      <td>https://api.github.com/repos/pandas-dev/pandas...</td>\n",
       "      <td>https://api.github.com/repos/pandas-dev/pandas...</td>\n",
       "      <td>https://api.github.com/repos/pandas-dev/pandas...</td>\n",
       "      <td>https://github.com/pandas-dev/pandas/pull/35875</td>\n",
       "      <td>684856691</td>\n",
       "      <td>MDExOlB1bGxSZXF1ZXN0NDcyNjc1MTky</td>\n",
       "      <td>35875</td>\n",
       "      <td>COMPAT: Ensure rolling indexers return intp du...</td>\n",
       "      <td>...</td>\n",
       "      <td>{'url': 'https://api.github.com/repos/pandas-d...</td>\n",
       "      <td>1</td>\n",
       "      <td>2020-08-24T17:55:45Z</td>\n",
       "      <td>2020-08-24T18:35:10Z</td>\n",
       "      <td>None</td>\n",
       "      <td>MEMBER</td>\n",
       "      <td>None</td>\n",
       "      <td>{'url': 'https://api.github.com/repos/pandas-d...</td>\n",
       "      <td>- [x] closes #35294\\r\\n- [x] closes #35148\\r\\n...</td>\n",
       "      <td>None</td>\n",
       "    </tr>\n",
       "    <tr>\n",
       "      <th>3</th>\n",
       "      <td>https://api.github.com/repos/pandas-dev/pandas...</td>\n",
       "      <td>https://api.github.com/repos/pandas-dev/pandas</td>\n",
       "      <td>https://api.github.com/repos/pandas-dev/pandas...</td>\n",
       "      <td>https://api.github.com/repos/pandas-dev/pandas...</td>\n",
       "      <td>https://api.github.com/repos/pandas-dev/pandas...</td>\n",
       "      <td>https://github.com/pandas-dev/pandas/pull/35874</td>\n",
       "      <td>684794881</td>\n",
       "      <td>MDExOlB1bGxSZXF1ZXN0NDcyNjI0MjIx</td>\n",
       "      <td>35874</td>\n",
       "      <td>BUG: to_dict_of_blocks failing to invalidate i...</td>\n",
       "      <td>...</td>\n",
       "      <td>None</td>\n",
       "      <td>0</td>\n",
       "      <td>2020-08-24T16:15:02Z</td>\n",
       "      <td>2020-08-24T20:57:49Z</td>\n",
       "      <td>None</td>\n",
       "      <td>MEMBER</td>\n",
       "      <td>None</td>\n",
       "      <td>{'url': 'https://api.github.com/repos/pandas-d...</td>\n",
       "      <td>- [ ] closes #xxxx\\r\\n- [x] tests added / pass...</td>\n",
       "      <td>None</td>\n",
       "    </tr>\n",
       "    <tr>\n",
       "      <th>4</th>\n",
       "      <td>https://api.github.com/repos/pandas-dev/pandas...</td>\n",
       "      <td>https://api.github.com/repos/pandas-dev/pandas</td>\n",
       "      <td>https://api.github.com/repos/pandas-dev/pandas...</td>\n",
       "      <td>https://api.github.com/repos/pandas-dev/pandas...</td>\n",
       "      <td>https://api.github.com/repos/pandas-dev/pandas...</td>\n",
       "      <td>https://github.com/pandas-dev/pandas/issues/35873</td>\n",
       "      <td>684760278</td>\n",
       "      <td>MDU6SXNzdWU2ODQ3NjAyNzg=</td>\n",
       "      <td>35873</td>\n",
       "      <td>BUG: PythonParser does not use decimal separat...</td>\n",
       "      <td>...</td>\n",
       "      <td>None</td>\n",
       "      <td>3</td>\n",
       "      <td>2020-08-24T15:25:06Z</td>\n",
       "      <td>2020-08-24T21:21:38Z</td>\n",
       "      <td>None</td>\n",
       "      <td>NONE</td>\n",
       "      <td>None</td>\n",
       "      <td>NaN</td>\n",
       "      <td>- [X] I have checked that this issue has not a...</td>\n",
       "      <td>None</td>\n",
       "    </tr>\n",
       "  </tbody>\n",
       "</table>\n",
       "<p>5 rows × 26 columns</p>\n",
       "</div>"
      ],
      "text/plain": [
       "                                                 url  \\\n",
       "0  https://api.github.com/repos/pandas-dev/pandas...   \n",
       "1  https://api.github.com/repos/pandas-dev/pandas...   \n",
       "2  https://api.github.com/repos/pandas-dev/pandas...   \n",
       "3  https://api.github.com/repos/pandas-dev/pandas...   \n",
       "4  https://api.github.com/repos/pandas-dev/pandas...   \n",
       "\n",
       "                                   repository_url  \\\n",
       "0  https://api.github.com/repos/pandas-dev/pandas   \n",
       "1  https://api.github.com/repos/pandas-dev/pandas   \n",
       "2  https://api.github.com/repos/pandas-dev/pandas   \n",
       "3  https://api.github.com/repos/pandas-dev/pandas   \n",
       "4  https://api.github.com/repos/pandas-dev/pandas   \n",
       "\n",
       "                                          labels_url  \\\n",
       "0  https://api.github.com/repos/pandas-dev/pandas...   \n",
       "1  https://api.github.com/repos/pandas-dev/pandas...   \n",
       "2  https://api.github.com/repos/pandas-dev/pandas...   \n",
       "3  https://api.github.com/repos/pandas-dev/pandas...   \n",
       "4  https://api.github.com/repos/pandas-dev/pandas...   \n",
       "\n",
       "                                        comments_url  \\\n",
       "0  https://api.github.com/repos/pandas-dev/pandas...   \n",
       "1  https://api.github.com/repos/pandas-dev/pandas...   \n",
       "2  https://api.github.com/repos/pandas-dev/pandas...   \n",
       "3  https://api.github.com/repos/pandas-dev/pandas...   \n",
       "4  https://api.github.com/repos/pandas-dev/pandas...   \n",
       "\n",
       "                                          events_url  \\\n",
       "0  https://api.github.com/repos/pandas-dev/pandas...   \n",
       "1  https://api.github.com/repos/pandas-dev/pandas...   \n",
       "2  https://api.github.com/repos/pandas-dev/pandas...   \n",
       "3  https://api.github.com/repos/pandas-dev/pandas...   \n",
       "4  https://api.github.com/repos/pandas-dev/pandas...   \n",
       "\n",
       "                                            html_url         id  \\\n",
       "0    https://github.com/pandas-dev/pandas/pull/35877  684982945   \n",
       "1  https://github.com/pandas-dev/pandas/issues/35876  684877349   \n",
       "2    https://github.com/pandas-dev/pandas/pull/35875  684856691   \n",
       "3    https://github.com/pandas-dev/pandas/pull/35874  684794881   \n",
       "4  https://github.com/pandas-dev/pandas/issues/35873  684760278   \n",
       "\n",
       "                            node_id  number  \\\n",
       "0  MDExOlB1bGxSZXF1ZXN0NDcyNzgwMTc5   35877   \n",
       "1          MDU6SXNzdWU2ODQ4NzczNDk=   35876   \n",
       "2  MDExOlB1bGxSZXF1ZXN0NDcyNjc1MTky   35875   \n",
       "3  MDExOlB1bGxSZXF1ZXN0NDcyNjI0MjIx   35874   \n",
       "4          MDU6SXNzdWU2ODQ3NjAyNzg=   35873   \n",
       "\n",
       "                                               title  ...  \\\n",
       "0  REGR: DatetimeIndex.intersection incorrectly r...  ...   \n",
       "1   groupby AssertionError with datetime column name  ...   \n",
       "2  COMPAT: Ensure rolling indexers return intp du...  ...   \n",
       "3  BUG: to_dict_of_blocks failing to invalidate i...  ...   \n",
       "4  BUG: PythonParser does not use decimal separat...  ...   \n",
       "\n",
       "                                           milestone comments  \\\n",
       "0                                               None        0   \n",
       "1                                               None        2   \n",
       "2  {'url': 'https://api.github.com/repos/pandas-d...        1   \n",
       "3                                               None        0   \n",
       "4                                               None        3   \n",
       "\n",
       "             created_at            updated_at closed_at author_association  \\\n",
       "0  2020-08-24T21:39:04Z  2020-08-24T21:39:04Z      None             MEMBER   \n",
       "1  2020-08-24T18:29:56Z  2020-08-24T21:17:37Z      None               NONE   \n",
       "2  2020-08-24T17:55:45Z  2020-08-24T18:35:10Z      None             MEMBER   \n",
       "3  2020-08-24T16:15:02Z  2020-08-24T20:57:49Z      None             MEMBER   \n",
       "4  2020-08-24T15:25:06Z  2020-08-24T21:21:38Z      None               NONE   \n",
       "\n",
       "  active_lock_reason                                       pull_request  \\\n",
       "0               None  {'url': 'https://api.github.com/repos/pandas-d...   \n",
       "1               None                                                NaN   \n",
       "2               None  {'url': 'https://api.github.com/repos/pandas-d...   \n",
       "3               None  {'url': 'https://api.github.com/repos/pandas-d...   \n",
       "4               None                                                NaN   \n",
       "\n",
       "                                                body performed_via_github_app  \n",
       "0  - [x] closes #35876\\r\\n- [x] tests added / pas...                     None  \n",
       "1  - [x] I have checked that this issue has not a...                     None  \n",
       "2  - [x] closes #35294\\r\\n- [x] closes #35148\\r\\n...                     None  \n",
       "3  - [ ] closes #xxxx\\r\\n- [x] tests added / pass...                     None  \n",
       "4  - [X] I have checked that this issue has not a...                     None  \n",
       "\n",
       "[5 rows x 26 columns]"
      ]
     },
     "execution_count": 26,
     "metadata": {},
     "output_type": "execute_result"
    }
   ],
   "source": [
    "issues = pd.DataFrame(data)\n",
    "issues.head()"
   ]
  },
  {
   "cell_type": "code",
   "execution_count": 27,
   "metadata": {
    "colab": {
     "base_uri": "https://localhost:8080/",
     "height": 123
    },
    "colab_type": "code",
    "id": "MRxb94K3HuoJ",
    "outputId": "fe575e12-c5cf-41e2-fe96-b53f501658cc",
    "slideshow": {
     "slide_type": "subslide"
    }
   },
   "outputs": [
    {
     "data": {
      "text/plain": [
       "Index(['url', 'repository_url', 'labels_url', 'comments_url', 'events_url',\n",
       "       'html_url', 'id', 'node_id', 'number', 'title', 'user', 'labels',\n",
       "       'state', 'locked', 'assignee', 'assignees', 'milestone', 'comments',\n",
       "       'created_at', 'updated_at', 'closed_at', 'author_association',\n",
       "       'active_lock_reason', 'pull_request', 'body',\n",
       "       'performed_via_github_app'],\n",
       "      dtype='object')"
      ]
     },
     "execution_count": 27,
     "metadata": {},
     "output_type": "execute_result"
    }
   ],
   "source": [
    "issues.columns"
   ]
  },
  {
   "cell_type": "code",
   "execution_count": 28,
   "metadata": {
    "colab": {
     "base_uri": "https://localhost:8080/",
     "height": 197
    },
    "colab_type": "code",
    "id": "KPmL5KkoHuoL",
    "outputId": "4d2d34ad-f7ca-4a80-899e-b1aeae73f350",
    "scrolled": true,
    "slideshow": {
     "slide_type": "subslide"
    }
   },
   "outputs": [
    {
     "data": {
      "text/html": [
       "<div>\n",
       "<style scoped>\n",
       "    .dataframe tbody tr th:only-of-type {\n",
       "        vertical-align: middle;\n",
       "    }\n",
       "\n",
       "    .dataframe tbody tr th {\n",
       "        vertical-align: top;\n",
       "    }\n",
       "\n",
       "    .dataframe thead th {\n",
       "        text-align: right;\n",
       "    }\n",
       "</style>\n",
       "<table border=\"1\" class=\"dataframe\">\n",
       "  <thead>\n",
       "    <tr style=\"text-align: right;\">\n",
       "      <th></th>\n",
       "      <th>number</th>\n",
       "      <th>title</th>\n",
       "      <th>labels</th>\n",
       "      <th>state</th>\n",
       "    </tr>\n",
       "  </thead>\n",
       "  <tbody>\n",
       "    <tr>\n",
       "      <th>0</th>\n",
       "      <td>35877</td>\n",
       "      <td>REGR: DatetimeIndex.intersection incorrectly r...</td>\n",
       "      <td>[]</td>\n",
       "      <td>open</td>\n",
       "    </tr>\n",
       "    <tr>\n",
       "      <th>1</th>\n",
       "      <td>35876</td>\n",
       "      <td>groupby AssertionError with datetime column name</td>\n",
       "      <td>[{'id': 1218227310, 'node_id': 'MDU6TGFiZWwxMj...</td>\n",
       "      <td>open</td>\n",
       "    </tr>\n",
       "    <tr>\n",
       "      <th>2</th>\n",
       "      <td>35875</td>\n",
       "      <td>COMPAT: Ensure rolling indexers return intp du...</td>\n",
       "      <td>[{'id': 76865106, 'node_id': 'MDU6TGFiZWw3Njg2...</td>\n",
       "      <td>open</td>\n",
       "    </tr>\n",
       "    <tr>\n",
       "      <th>3</th>\n",
       "      <td>35874</td>\n",
       "      <td>BUG: to_dict_of_blocks failing to invalidate i...</td>\n",
       "      <td>[]</td>\n",
       "      <td>open</td>\n",
       "    </tr>\n",
       "    <tr>\n",
       "      <th>4</th>\n",
       "      <td>35873</td>\n",
       "      <td>BUG: PythonParser does not use decimal separat...</td>\n",
       "      <td>[{'id': 76811, 'node_id': 'MDU6TGFiZWw3NjgxMQ=...</td>\n",
       "      <td>open</td>\n",
       "    </tr>\n",
       "  </tbody>\n",
       "</table>\n",
       "</div>"
      ],
      "text/plain": [
       "   number                                              title  \\\n",
       "0   35877  REGR: DatetimeIndex.intersection incorrectly r...   \n",
       "1   35876   groupby AssertionError with datetime column name   \n",
       "2   35875  COMPAT: Ensure rolling indexers return intp du...   \n",
       "3   35874  BUG: to_dict_of_blocks failing to invalidate i...   \n",
       "4   35873  BUG: PythonParser does not use decimal separat...   \n",
       "\n",
       "                                              labels state  \n",
       "0                                                 []  open  \n",
       "1  [{'id': 1218227310, 'node_id': 'MDU6TGFiZWwxMj...  open  \n",
       "2  [{'id': 76865106, 'node_id': 'MDU6TGFiZWw3Njg2...  open  \n",
       "3                                                 []  open  \n",
       "4  [{'id': 76811, 'node_id': 'MDU6TGFiZWw3NjgxMQ=...  open  "
      ]
     },
     "execution_count": 28,
     "metadata": {},
     "output_type": "execute_result"
    }
   ],
   "source": [
    "issues = pd.DataFrame(data, columns=['number', 'title','labels', 'state'])\n",
    "issues.head()"
   ]
  },
  {
   "cell_type": "code",
   "execution_count": 30,
   "metadata": {
    "slideshow": {
     "slide_type": "subslide"
    }
   },
   "outputs": [
    {
     "data": {
      "text/plain": [
       "number                                                35876\n",
       "title      groupby AssertionError with datetime column name\n",
       "labels    [{'id': 1218227310, 'node_id': 'MDU6TGFiZWwxMj...\n",
       "state                                                  open\n",
       "Name: 1, dtype: object"
      ]
     },
     "execution_count": 30,
     "metadata": {},
     "output_type": "execute_result"
    }
   ],
   "source": [
    "issues.iloc[1]"
   ]
  },
  {
   "cell_type": "markdown",
   "metadata": {
    "slideshow": {
     "slide_type": "subslide"
    }
   },
   "source": [
    "<div style=\"width:100%;height:400px;padding:10px;background-color:red\"></div>"
   ]
  },
  {
   "cell_type": "markdown",
   "metadata": {
    "colab_type": "text",
    "id": "mQgcxLr_HuoN",
    "slideshow": {
     "slide_type": "slide"
    }
   },
   "source": [
    "# Accessing databases\n",
    "This section requires you to review your notes about SQL from previous courses.\n",
    "\n",
    "We'll use this opportunity to gauge where we're at in terms of understanding SQL.\n",
    "\n",
    "---\n",
    "\n"
   ]
  },
  {
   "cell_type": "markdown",
   "metadata": {
    "slideshow": {
     "slide_type": "subslide"
    }
   },
   "source": [
    "Let's install sqlalchemy and some database drivers.\n",
    "(Does that make sense?  If not, let's talk about it when we get together.)"
   ]
  },
  {
   "cell_type": "code",
   "execution_count": 31,
   "metadata": {
    "slideshow": {
     "slide_type": "-"
    }
   },
   "outputs": [
    {
     "name": "stdout",
     "output_type": "stream",
     "text": [
      "Requirement already satisfied: sqlalchemy in /Users/cteplovs/opt/anaconda3/envs/wn2020/lib/python3.6/site-packages (1.3.18)\r\n",
      "Requirement already satisfied: pymysql in /Users/cteplovs/opt/anaconda3/envs/wn2020/lib/python3.6/site-packages (0.10.0)\r\n"
     ]
    }
   ],
   "source": [
    "!pip install sqlalchemy pymysql"
   ]
  },
  {
   "cell_type": "markdown",
   "metadata": {
    "slideshow": {
     "slide_type": "subslide"
    }
   },
   "source": [
    "And import the relevant libraries:"
   ]
  },
  {
   "cell_type": "code",
   "execution_count": 32,
   "metadata": {
    "colab": {},
    "colab_type": "code",
    "id": "b9n7KFE8HuoO",
    "slideshow": {
     "slide_type": "-"
    }
   },
   "outputs": [],
   "source": [
    "import sqlalchemy as sqla\n",
    "import pandas as pd"
   ]
  },
  {
   "cell_type": "markdown",
   "metadata": {
    "slideshow": {
     "slide_type": "subslide"
    }
   },
   "source": [
    "Now let's set up some variables and connect to the database.  Note that the password is available through the video and you'll need to replace SECRET_REPLACE_ME with the password."
   ]
  },
  {
   "cell_type": "code",
   "execution_count": 35,
   "metadata": {
    "colab": {},
    "colab_type": "code",
    "id": "mZb8yjitHuoQ",
    "slideshow": {
     "slide_type": "subslide"
    }
   },
   "outputs": [],
   "source": [
    "endpoint = \"database-370-fa2020.cgeyvh9t1svz.us-east-1.rds.amazonaws.com\" \n",
    "username = \"si370wn2020\"\n",
    "password = \"iheartdatascience\"\n",
    "database = \"goodreads\"\n",
    "\n",
    "db = sqla.create_engine(f'mysql+pymysql://{username}:{password}@{endpoint}/{database}')"
   ]
  },
  {
   "cell_type": "markdown",
   "metadata": {
    "slideshow": {
     "slide_type": "subslide"
    }
   },
   "source": [
    "Now the real part:  using `read_sql` to read some data from the database.  In this case, we're going to count the number of entries in the ratings table:"
   ]
  },
  {
   "cell_type": "code",
   "execution_count": 36,
   "metadata": {
    "colab": {
     "base_uri": "https://localhost:8080/",
     "height": 77
    },
    "colab_type": "code",
    "id": "TTF2_I3VZD_L",
    "outputId": "3a039d61-c963-408d-cfb8-0b7a80e35c94",
    "slideshow": {
     "slide_type": "-"
    }
   },
   "outputs": [
    {
     "data": {
      "text/html": [
       "<div>\n",
       "<style scoped>\n",
       "    .dataframe tbody tr th:only-of-type {\n",
       "        vertical-align: middle;\n",
       "    }\n",
       "\n",
       "    .dataframe tbody tr th {\n",
       "        vertical-align: top;\n",
       "    }\n",
       "\n",
       "    .dataframe thead th {\n",
       "        text-align: right;\n",
       "    }\n",
       "</style>\n",
       "<table border=\"1\" class=\"dataframe\">\n",
       "  <thead>\n",
       "    <tr style=\"text-align: right;\">\n",
       "      <th></th>\n",
       "      <th>count(*)</th>\n",
       "    </tr>\n",
       "  </thead>\n",
       "  <tbody>\n",
       "    <tr>\n",
       "      <th>0</th>\n",
       "      <td>5976479</td>\n",
       "    </tr>\n",
       "  </tbody>\n",
       "</table>\n",
       "</div>"
      ],
      "text/plain": [
       "   count(*)\n",
       "0   5976479"
      ]
     },
     "execution_count": 36,
     "metadata": {},
     "output_type": "execute_result"
    }
   ],
   "source": [
    "df = pd.read_sql('select count(*) from ratings',db)\n",
    "df.head()"
   ]
  },
  {
   "cell_type": "markdown",
   "metadata": {
    "slideshow": {
     "slide_type": "subslide"
    }
   },
   "source": [
    "We can get the SQL engine to do more of the work (instead of doing it in pandas):"
   ]
  },
  {
   "cell_type": "code",
   "execution_count": 37,
   "metadata": {
    "colab": {},
    "colab_type": "code",
    "id": "Oi4_WCvxHuoR",
    "slideshow": {
     "slide_type": "-"
    }
   },
   "outputs": [
    {
     "data": {
      "text/html": [
       "<div>\n",
       "<style scoped>\n",
       "    .dataframe tbody tr th:only-of-type {\n",
       "        vertical-align: middle;\n",
       "    }\n",
       "\n",
       "    .dataframe tbody tr th {\n",
       "        vertical-align: top;\n",
       "    }\n",
       "\n",
       "    .dataframe thead th {\n",
       "        text-align: right;\n",
       "    }\n",
       "</style>\n",
       "<table border=\"1\" class=\"dataframe\">\n",
       "  <thead>\n",
       "    <tr style=\"text-align: right;\">\n",
       "      <th></th>\n",
       "      <th>rating</th>\n",
       "      <th>count(*)</th>\n",
       "    </tr>\n",
       "  </thead>\n",
       "  <tbody>\n",
       "    <tr>\n",
       "      <th>0</th>\n",
       "      <td>1</td>\n",
       "      <td>124195</td>\n",
       "    </tr>\n",
       "    <tr>\n",
       "      <th>1</th>\n",
       "      <td>2</td>\n",
       "      <td>359257</td>\n",
       "    </tr>\n",
       "    <tr>\n",
       "      <th>2</th>\n",
       "      <td>3</td>\n",
       "      <td>1370916</td>\n",
       "    </tr>\n",
       "    <tr>\n",
       "      <th>3</th>\n",
       "      <td>4</td>\n",
       "      <td>2139018</td>\n",
       "    </tr>\n",
       "    <tr>\n",
       "      <th>4</th>\n",
       "      <td>5</td>\n",
       "      <td>1983093</td>\n",
       "    </tr>\n",
       "  </tbody>\n",
       "</table>\n",
       "</div>"
      ],
      "text/plain": [
       "   rating  count(*)\n",
       "0       1    124195\n",
       "1       2    359257\n",
       "2       3   1370916\n",
       "3       4   2139018\n",
       "4       5   1983093"
      ]
     },
     "execution_count": 37,
     "metadata": {},
     "output_type": "execute_result"
    }
   ],
   "source": [
    "df = pd.read_sql('select rating, count(*) from ratings group by rating', db)\n",
    "df.head()"
   ]
  },
  {
   "cell_type": "markdown",
   "metadata": {
    "slideshow": {
     "slide_type": "slide"
    }
   },
   "source": [
    "## Summary\n",
    "* load CSV files using `read_csv()` (options are useful)\n",
    "* load JSON files using `read_json()`\n",
    "* extract tables from web pages using `read_html()`\n",
    "* load data from simple APIs by initializing a DataFrame from JSON (as an example)\n",
    "* load data from a SQL database using `read_sql()`"
   ]
  },
  {
   "cell_type": "markdown",
   "metadata": {
    "slideshow": {
     "slide_type": "subslide"
    }
   },
   "source": [
    "<div style=\"width:100%;height:400px;padding:10px;background-color:red\"></div>"
   ]
  },
  {
   "cell_type": "code",
   "execution_count": null,
   "metadata": {},
   "outputs": [],
   "source": []
  }
 ],
 "metadata": {
  "celltoolbar": "Slideshow",
  "colab": {
   "include_colab_link": true,
   "name": "370_03_Loading_Data.ipynb",
   "provenance": [],
   "toc_visible": true
  },
  "kernelspec": {
   "display_name": "Python 3",
   "language": "python",
   "name": "python3"
  },
  "language_info": {
   "codemirror_mode": {
    "name": "ipython",
    "version": 3
   },
   "file_extension": ".py",
   "mimetype": "text/x-python",
   "name": "python",
   "nbconvert_exporter": "python",
   "pygments_lexer": "ipython3",
   "version": "3.6.10"
  }
 },
 "nbformat": 4,
 "nbformat_minor": 1
}
