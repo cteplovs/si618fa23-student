{
 "cells": [
  {
   "cell_type": "markdown",
   "metadata": {
    "colab_type": "text",
    "id": "ahUIU2HgHuk1",
    "slideshow": {
     "slide_type": "slide"
    }
   },
   "source": [
    "# Loading data in pandas\n",
    "\n"
   ]
  },
  {
   "cell_type": "markdown",
   "metadata": {
    "colab_type": "text",
    "id": "yHA3RHDuHulJ",
    "slideshow": {
     "slide_type": "slide"
    }
   },
   "source": [
    "## Learning Objectives\n",
    "* load CSV files\n",
    "* load JSON files\n",
    "* use pd.read_html to extract tables from web pages\n",
    "* load data from simple APIs \n",
    "* load data from a SQL database\n"
   ]
  },
  {
   "cell_type": "markdown",
   "metadata": {
    "slideshow": {
     "slide_type": "slide"
    }
   },
   "source": [
    "Our usual mantra:"
   ]
  },
  {
   "cell_type": "code",
   "execution_count": null,
   "metadata": {
    "colab": {},
    "colab_type": "code",
    "id": "tDURKFb_Hulg",
    "slideshow": {
     "slide_type": "-"
    }
   },
   "outputs": [],
   "source": [
    "import pandas as pd"
   ]
  },
  {
   "cell_type": "markdown",
   "metadata": {
    "colab_type": "text",
    "id": "J5hDKsDMHuln",
    "slideshow": {
     "slide_type": "subslide"
    }
   },
   "source": [
    "Recall the ```pd.read_csv``` function that you've seen in previous classes:"
   ]
  },
  {
   "cell_type": "code",
   "execution_count": null,
   "metadata": {
    "colab": {},
    "colab_type": "code",
    "id": "VGK8DDY7Hulo",
    "slideshow": {
     "slide_type": "-"
    }
   },
   "outputs": [],
   "source": [
    "menu = pd.read_csv('https://raw.githubusercontent.com/umsi-data-science/si370/master/data/menu.csv') "
   ]
  },
  {
   "cell_type": "code",
   "execution_count": null,
   "metadata": {},
   "outputs": [],
   "source": [
    "menu.head(1)"
   ]
  },
  {
   "cell_type": "markdown",
   "metadata": {
    "colab_type": "text",
    "id": "NNDuGqY7Huls",
    "slideshow": {
     "slide_type": "subslide"
    }
   },
   "source": [
    "That works great for well-formatted CSV files, but what happens when you get something that looks like the ```data/avocado_eu.csv``` file.\n",
    "\n",
    "Referring back to your readings and the [read_csv documentation online](https://pandas.pydata.org/pandas-docs/stable/reference/api/pandas.read_csv.html), complete the following exercise\n",
    "\n",
    "\n",
    "Let's read the data/avocado_eu.csv file into a pandas DataFrame and show the first 5 rows.\n"
   ]
  },
  {
   "cell_type": "code",
   "execution_count": null,
   "metadata": {
    "colab": {
     "base_uri": "https://localhost:8080/",
     "height": 197
    },
    "colab_type": "code",
    "id": "PEcXNoo0Hult",
    "outputId": "0ce523bc-3769-4f10-afa0-c070e3860abf",
    "slideshow": {
     "slide_type": "subslide"
    }
   },
   "outputs": [],
   "source": [
    "avocado = pd.read_csv('https://raw.githubusercontent.com/umsi-data-science/si370/master/data/avocado_eu.csv')\n",
    "avocado.head(5)"
   ]
  },
  {
   "cell_type": "markdown",
   "metadata": {
    "colab_type": "text",
    "id": "bLbd3KdyHulz",
    "slideshow": {
     "slide_type": "subslide"
    }
   },
   "source": [
    "You'll notice that, unless you did something special in the previous read_csv invocation, the decimal points don't look quite right.  Go ahead and find the right option to convert commas to periods when loading a CSV file, as well as set the index column correctly (without having it duplicated):"
   ]
  },
  {
   "cell_type": "markdown",
   "metadata": {
    "colab_type": "text",
    "id": "bLbd3KdyHulz",
    "slideshow": {
     "slide_type": "subslide"
    }
   },
   "source": [
    "## IVQ Exercise:\n",
    "Read the data/avocado_eu.csv file using the correct delimiter and decimal character into a dataframe and show the first 5 rows:"
   ]
  },
  {
   "cell_type": "markdown",
   "metadata": {
    "slideshow": {
     "slide_type": "subslide"
    }
   },
   "source": [
    "The output from should look like:"
   ]
  },
  {
   "cell_type": "markdown",
   "metadata": {},
   "source": [
    "<table border=\"1\" class=\"dataframe\">\n",
    "  <thead>\n",
    "    <tr style=\"text-align: right;\">\n",
    "      <th></th>\n",
    "      <th>Date</th>\n",
    "      <th>AveragePrice</th>\n",
    "      <th>Total Volume</th>\n",
    "      <th>4046</th>\n",
    "      <th>4225</th>\n",
    "      <th>4770</th>\n",
    "      <th>Total Bags</th>\n",
    "      <th>Small Bags</th>\n",
    "      <th>Large Bags</th>\n",
    "      <th>XLarge Bags</th>\n",
    "      <th>type</th>\n",
    "      <th>year</th>\n",
    "      <th>region</th>\n",
    "    </tr>\n",
    "  </thead>\n",
    "  <tbody>\n",
    "    <tr>\n",
    "      <th>0</th>\n",
    "      <td>2015-12-27</td>\n",
    "      <td>1.33</td>\n",
    "      <td>64236.62</td>\n",
    "      <td>1036.74</td>\n",
    "      <td>54454.85</td>\n",
    "      <td>48.16</td>\n",
    "      <td>8696.87</td>\n",
    "      <td>8603.62</td>\n",
    "      <td>93.25</td>\n",
    "      <td>0.0</td>\n",
    "      <td>conventional</td>\n",
    "      <td>2015</td>\n",
    "      <td>Albany</td>\n",
    "    </tr>\n",
    "    <tr>\n",
    "      <th>1</th>\n",
    "      <td>2015-12-20</td>\n",
    "      <td>1.35</td>\n",
    "      <td>54876.98</td>\n",
    "      <td>674.28</td>\n",
    "      <td>44638.81</td>\n",
    "      <td>58.33</td>\n",
    "      <td>9505.56</td>\n",
    "      <td>9408.07</td>\n",
    "      <td>97.49</td>\n",
    "      <td>0.0</td>\n",
    "      <td>conventional</td>\n",
    "      <td>2015</td>\n",
    "      <td>Albany</td>\n",
    "    </tr>\n",
    "    <tr>\n",
    "      <th>2</th>\n",
    "      <td>2015-12-13</td>\n",
    "      <td>0.93</td>\n",
    "      <td>118220.22</td>\n",
    "      <td>794.70</td>\n",
    "      <td>109149.67</td>\n",
    "      <td>130.50</td>\n",
    "      <td>8145.35</td>\n",
    "      <td>8042.21</td>\n",
    "      <td>103.14</td>\n",
    "      <td>0.0</td>\n",
    "      <td>conventional</td>\n",
    "      <td>2015</td>\n",
    "      <td>Albany</td>\n",
    "    </tr>\n",
    "    <tr>\n",
    "      <th>3</th>\n",
    "      <td>2015-12-06</td>\n",
    "      <td>1.08</td>\n",
    "      <td>78992.15</td>\n",
    "      <td>1132.00</td>\n",
    "      <td>71976.41</td>\n",
    "      <td>72.58</td>\n",
    "      <td>5811.16</td>\n",
    "      <td>5677.40</td>\n",
    "      <td>133.76</td>\n",
    "      <td>0.0</td>\n",
    "      <td>conventional</td>\n",
    "      <td>2015</td>\n",
    "      <td>Albany</td>\n",
    "    </tr>\n",
    "    <tr>\n",
    "      <th>4</th>\n",
    "      <td>2015-11-29</td>\n",
    "      <td>1.28</td>\n",
    "      <td>51039.60</td>\n",
    "      <td>941.48</td>\n",
    "      <td>43838.39</td>\n",
    "      <td>75.78</td>\n",
    "      <td>6183.95</td>\n",
    "      <td>5986.26</td>\n",
    "      <td>197.69</td>\n",
    "      <td>0.0</td>\n",
    "      <td>conventional</td>\n",
    "      <td>2015</td>\n",
    "      <td>Albany</td>\n",
    "    </tr>\n",
    "  </tbody>\n",
    "</table>"
   ]
  },
  {
   "cell_type": "code",
   "execution_count": null,
   "metadata": {},
   "outputs": [],
   "source": [
    "# insert your code here"
   ]
  },
  {
   "cell_type": "markdown",
   "metadata": {
    "colab_type": "text",
    "id": "QEIC12y1Hul_",
    "slideshow": {
     "slide_type": "slide"
    }
   },
   "source": [
    "# Loading JSON data\n",
    "\n",
    "In addition to CSV files, JSON (JavaScript Object Notation) files or data are commonly used.  "
   ]
  },
  {
   "cell_type": "code",
   "execution_count": null,
   "metadata": {
    "colab": {},
    "colab_type": "code",
    "id": "spQG_OQiHul_",
    "slideshow": {
     "slide_type": "subslide"
    }
   },
   "outputs": [],
   "source": [
    "nfl_football_players = pd.read_json('https://raw.githubusercontent.com/umsi-data-science/si370/master/data/nfl_football_profiles.json')"
   ]
  },
  {
   "cell_type": "code",
   "execution_count": null,
   "metadata": {
    "colab": {
     "base_uri": "https://localhost:8080/",
     "height": 301
    },
    "colab_type": "code",
    "id": "rW8g7KVKHumD",
    "outputId": "a1be08ce-31bc-4dfb-b9b0-fec5d427302d"
   },
   "outputs": [],
   "source": [
    "nfl_football_players.head()"
   ]
  },
  {
   "cell_type": "markdown",
   "metadata": {
    "colab_type": "text",
    "id": "EwRPR-_ZHumv",
    "slideshow": {
     "slide_type": "subslide"
    }
   },
   "source": [
    "And, just for fun, show the player with the highest Current Salary from that dataset:"
   ]
  },
  {
   "cell_type": "code",
   "execution_count": null,
   "metadata": {
    "colab": {
     "base_uri": "https://localhost:8080/",
     "height": 114
    },
    "colab_type": "code",
    "id": "tIONruDSHumx",
    "outputId": "f0ac0356-826a-4cc0-e3a5-c0a14c67e4fe"
   },
   "outputs": [],
   "source": [
    "nfl_football_players.sort_values('current_salary', ascending=False).head(1)"
   ]
  },
  {
   "cell_type": "markdown",
   "metadata": {
    "colab_type": "text",
    "id": "FJkkwyLUHum0",
    "slideshow": {
     "slide_type": "subslide"
    }
   },
   "source": [
    "## Fixing up the data\n",
    "Assuming you did something like sort_values on one of the original columns, you probably got the wrong result."
   ]
  },
  {
   "cell_type": "markdown",
   "metadata": {
    "colab_type": "text",
    "id": "FJkkwyLUHum0",
    "slideshow": {
     "slide_type": "subslide"
    }
   },
   "source": [
    "Looking a bit more closely at the results, you'll notice that the current_salary column.  Remembering that we have made the shift from pythonic to pandorable, we can leverage the impressive-sounding \"vectorized string functions\" mentioned in the McKinney book.  Specifically, we can use the str.replace(...) method.  Note that had we use read_csv to load the file we could have used the ```thousands=``` option and avoided all this, but sometimes data doesn't come in a convenient format."
   ]
  },
  {
   "cell_type": "markdown",
   "metadata": {
    "colab_type": "text",
    "id": "FJkkwyLUHum0",
    "slideshow": {
     "slide_type": "subslide"
    }
   },
   "source": [
    "One way to apply functions is to operate on a column and then assign the results to another column.  For example, if we wanted to eliminate commas, we could replace them with null strings"
   ]
  },
  {
   "cell_type": "code",
   "execution_count": null,
   "metadata": {
    "colab": {
     "base_uri": "https://localhost:8080/",
     "height": 230
    },
    "colab_type": "code",
    "id": "WxcwXzHeHum1",
    "outputId": "826cb0fb-7f91-4a18-e9f1-617502654245",
    "slideshow": {
     "slide_type": "-"
    }
   },
   "outputs": [],
   "source": [
    "nfl_football_players['current_salary'].str.replace(',', '')"
   ]
  },
  {
   "cell_type": "markdown",
   "metadata": {
    "colab_type": "text",
    "id": "fIUm5dgGHum3",
    "slideshow": {
     "slide_type": "subslide"
    }
   },
   "source": [
    "And assign the results to a column in the original dataframe (in this case I'm calling the column current_salary_nocommas)"
   ]
  },
  {
   "cell_type": "code",
   "execution_count": null,
   "metadata": {
    "colab": {},
    "colab_type": "code",
    "id": "AwJcg0lqHum3"
   },
   "outputs": [],
   "source": [
    "nfl_football_players['current_salary_nocommas'] = nfl_football_players['current_salary'].str.replace(',', '')"
   ]
  },
  {
   "cell_type": "markdown",
   "metadata": {
    "colab_type": "text",
    "id": "0rZ7-Q-eHum6",
    "slideshow": {
     "slide_type": "subslide"
    }
   },
   "source": [
    "But you'll notice that the type of the column is string, and we want to convert it to a float so we can sort it numerically.  So we can use the astype() function to convert it:"
   ]
  },
  {
   "cell_type": "code",
   "execution_count": null,
   "metadata": {},
   "outputs": [],
   "source": [
    "nfl_football_players.current_salary_nocommas.dtype"
   ]
  },
  {
   "cell_type": "code",
   "execution_count": null,
   "metadata": {
    "colab": {},
    "colab_type": "code",
    "id": "SjeymCi8Hum6"
   },
   "outputs": [],
   "source": [
    "nfl_football_players['current_salary_cleaned'] = nfl_football_players['current_salary_nocommas'].astype(float)"
   ]
  },
  {
   "cell_type": "code",
   "execution_count": null,
   "metadata": {
    "colab": {
     "base_uri": "https://localhost:8080/",
     "height": 161
    },
    "colab_type": "code",
    "id": "c-Itp6egHum8",
    "outputId": "1203e6f3-4ceb-497b-8d56-e185c23cf441"
   },
   "outputs": [],
   "source": [
    "nfl_football_players.head(3)"
   ]
  },
  {
   "cell_type": "markdown",
   "metadata": {
    "colab_type": "text",
    "id": "p5uKDvXxHum_",
    "slideshow": {
     "slide_type": "subslide"
    }
   },
   "source": [
    "And now we can re-run our command to sort by salary and get the correct result:"
   ]
  },
  {
   "cell_type": "code",
   "execution_count": null,
   "metadata": {
    "colab": {
     "base_uri": "https://localhost:8080/",
     "height": 114
    },
    "colab_type": "code",
    "id": "dXsvdqerHunA",
    "outputId": "81a3e180-f0ab-44a9-b939-1e9d7b1e1f9f"
   },
   "outputs": [],
   "source": [
    "nfl_football_players.sort_values('current_salary_cleaned', ascending=False).head(1)"
   ]
  },
  {
   "cell_type": "markdown",
   "metadata": {
    "colab_type": "text",
    "id": "-Cy7aIXOHunC",
    "slideshow": {
     "slide_type": "slide"
    }
   },
   "source": [
    "## Dropping missing values\n",
    "\n",
    "In addition to the \"all\" or \"any\" functionality described in McKinney section 7.1, it's sometimes useful to drop a row only if a certain column or columns have missing data.  To do this, use the subset= option with dropna().  So, for example, to drop all players for whom we do not have salary information, we could use the following code:"
   ]
  },
  {
   "cell_type": "code",
   "execution_count": null,
   "metadata": {
    "colab": {},
    "colab_type": "code",
    "id": "SYlSXWxmHunC"
   },
   "outputs": [],
   "source": [
    "nfl_football_players_salaries = nfl_football_players.dropna(subset=['current_salary_cleaned'])"
   ]
  },
  {
   "cell_type": "code",
   "execution_count": null,
   "metadata": {
    "colab": {
     "base_uri": "https://localhost:8080/",
     "height": 301
    },
    "colab_type": "code",
    "id": "zRihlaXtHunF",
    "outputId": "aa4ab012-a861-4ba4-aa9e-0f94173781f1",
    "slideshow": {
     "slide_type": "subslide"
    }
   },
   "outputs": [],
   "source": [
    "nfl_football_players_salaries.head()"
   ]
  },
  {
   "cell_type": "markdown",
   "metadata": {
    "colab_type": "text",
    "id": "yCQUvjN8HunU",
    "slideshow": {
     "slide_type": "slide"
    }
   },
   "source": [
    "# Scraping Tables from HTML"
   ]
  },
  {
   "cell_type": "markdown",
   "metadata": {
    "colab_type": "text",
    "id": "EggqkmlYHunV",
    "slideshow": {
     "slide_type": "subslide"
    }
   },
   "source": [
    "The ```pd.read_html``` function returns a list of DataFrames read from an HTML source.  The following line will return a list of DataFrames from https://en.wikipedia.org/wiki/List_of_largest_sports_contracts"
   ]
  },
  {
   "cell_type": "code",
   "execution_count": null,
   "metadata": {
    "colab": {},
    "colab_type": "code",
    "id": "se4JcqgwHunV",
    "slideshow": {
     "slide_type": "subslide"
    }
   },
   "outputs": [],
   "source": [
    "contracts_scraped = pd.read_html('https://en.wikipedia.org/wiki/List_of_largest_sports_contracts',header=0)"
   ]
  },
  {
   "cell_type": "code",
   "execution_count": null,
   "metadata": {
    "colab": {
     "base_uri": "https://localhost:8080/",
     "height": 34
    },
    "colab_type": "code",
    "id": "UNsEBWmHHunX",
    "outputId": "95d14791-7f26-45d5-ca78-a8425870da02"
   },
   "outputs": [],
   "source": [
    "len(contracts_scraped)"
   ]
  },
  {
   "cell_type": "markdown",
   "metadata": {
    "colab_type": "text",
    "id": "-LRwWTTpHunY",
    "slideshow": {
     "slide_type": "subslide"
    }
   },
   "source": [
    "To get the first table, you'll need to pull off the 0th element:"
   ]
  },
  {
   "cell_type": "code",
   "execution_count": null,
   "metadata": {
    "colab": {
     "base_uri": "https://localhost:8080/",
     "height": 197
    },
    "colab_type": "code",
    "id": "gFkpSb7BHunZ",
    "outputId": "a4cec9de-cb2b-4794-8db6-afc51aa91519"
   },
   "outputs": [],
   "source": [
    "contracts = contracts_scraped[0]\n",
    "contracts.head()"
   ]
  },
  {
   "cell_type": "markdown",
   "metadata": {
    "colab_type": "text",
    "id": "rOaNq4F-Hunb",
    "slideshow": {
     "slide_type": "slide"
    }
   },
   "source": [
    "## IVQ Exercise: \n",
    "\n",
    "Count the number of players from each sport in the List of Largest Sports Contracts \n",
    "\n",
    "Hint:  remember ```value_counts()``` from your previous work."
   ]
  },
  {
   "cell_type": "code",
   "execution_count": null,
   "metadata": {
    "colab": {
     "base_uri": "https://localhost:8080/",
     "height": 158
    },
    "colab_type": "code",
    "id": "_k91Ez8KHune",
    "outputId": "7f912ed7-867e-4ec8-b491-4bf647d1ed3a",
    "slideshow": {
     "slide_type": "skip"
    }
   },
   "outputs": [],
   "source": [
    "# insert your code here"
   ]
  },
  {
   "cell_type": "markdown",
   "metadata": {
    "colab_type": "text",
    "id": "zRYlbKJFHun5",
    "slideshow": {
     "slide_type": "slide"
    }
   },
   "source": [
    "# APIs and requests\n",
    "You've covered the ```requests``` package in previous courses.  This example shows what you can do with an API that returns JSON:"
   ]
  },
  {
   "cell_type": "code",
   "execution_count": null,
   "metadata": {
    "colab": {},
    "colab_type": "code",
    "id": "hEmohOrlHun6",
    "slideshow": {
     "slide_type": "subslide"
    }
   },
   "outputs": [],
   "source": [
    "import requests"
   ]
  },
  {
   "cell_type": "code",
   "execution_count": null,
   "metadata": {
    "colab": {},
    "colab_type": "code",
    "id": "9c0pomWvHun8",
    "slideshow": {
     "slide_type": "subslide"
    }
   },
   "outputs": [],
   "source": [
    "url = 'https://api.github.com/repos/pandas-dev/pandas/issues'"
   ]
  },
  {
   "cell_type": "code",
   "execution_count": null,
   "metadata": {
    "colab": {
     "base_uri": "https://localhost:8080/",
     "height": 34
    },
    "colab_type": "code",
    "id": "x-57cHttHun_",
    "outputId": "f17139a5-614a-46ea-8f07-4628186aea8a"
   },
   "outputs": [],
   "source": [
    "resp = requests.get(url)"
   ]
  },
  {
   "cell_type": "code",
   "execution_count": null,
   "metadata": {
    "colab": {},
    "colab_type": "code",
    "id": "6LpLIUupHuoC"
   },
   "outputs": [],
   "source": [
    "data = resp.json()"
   ]
  },
  {
   "cell_type": "code",
   "execution_count": null,
   "metadata": {
    "colab": {
     "base_uri": "https://localhost:8080/",
     "height": 34
    },
    "colab_type": "code",
    "id": "XF16m-n7HuoE",
    "outputId": "21b81730-5186-42ae-e4fc-5b31feda87e0",
    "slideshow": {
     "slide_type": "subslide"
    }
   },
   "outputs": [],
   "source": [
    "data[0]['user']['login'] "
   ]
  },
  {
   "cell_type": "code",
   "execution_count": null,
   "metadata": {
    "colab": {
     "base_uri": "https://localhost:8080/",
     "height": 434
    },
    "colab_type": "code",
    "id": "UdqlJwQpHuoG",
    "outputId": "fcd3bc83-64cf-470f-c174-98cb97b2e02c",
    "slideshow": {
     "slide_type": "subslide"
    }
   },
   "outputs": [],
   "source": [
    "issues = pd.DataFrame(data)\n",
    "issues.head()"
   ]
  },
  {
   "cell_type": "code",
   "execution_count": null,
   "metadata": {
    "colab": {
     "base_uri": "https://localhost:8080/",
     "height": 123
    },
    "colab_type": "code",
    "id": "MRxb94K3HuoJ",
    "outputId": "fe575e12-c5cf-41e2-fe96-b53f501658cc",
    "slideshow": {
     "slide_type": "subslide"
    }
   },
   "outputs": [],
   "source": [
    "issues.columns"
   ]
  },
  {
   "cell_type": "code",
   "execution_count": null,
   "metadata": {
    "colab": {
     "base_uri": "https://localhost:8080/",
     "height": 197
    },
    "colab_type": "code",
    "id": "KPmL5KkoHuoL",
    "outputId": "4d2d34ad-f7ca-4a80-899e-b1aeae73f350",
    "scrolled": true,
    "slideshow": {
     "slide_type": "subslide"
    }
   },
   "outputs": [],
   "source": [
    "issues = pd.DataFrame(data, columns=['number', 'title','labels', 'state'])\n",
    "issues.head()"
   ]
  },
  {
   "cell_type": "code",
   "execution_count": null,
   "metadata": {
    "slideshow": {
     "slide_type": "subslide"
    }
   },
   "outputs": [],
   "source": [
    "issues.iloc[1]"
   ]
  },
  {
   "cell_type": "markdown",
   "metadata": {
    "colab_type": "text",
    "id": "mQgcxLr_HuoN",
    "slideshow": {
     "slide_type": "slide"
    }
   },
   "source": [
    "# Accessing databases\n",
    "This section requires you to review your notes about SQL from previous courses.\n",
    "\n",
    "We'll use this opportunity to gauge where we're at in terms of understanding SQL.\n",
    "\n",
    "---\n",
    "\n"
   ]
  },
  {
   "cell_type": "markdown",
   "metadata": {
    "slideshow": {
     "slide_type": "subslide"
    }
   },
   "source": [
    "Let's install sqlalchemy and some database drivers.\n",
    "(Does that make sense?  If not, let's talk about it when we get together.)"
   ]
  },
  {
   "cell_type": "code",
   "execution_count": null,
   "metadata": {
    "slideshow": {
     "slide_type": "-"
    }
   },
   "outputs": [],
   "source": [
    "!pip install sqlalchemy pymysql"
   ]
  },
  {
   "cell_type": "markdown",
   "metadata": {
    "slideshow": {
     "slide_type": "subslide"
    }
   },
   "source": [
    "And import the relevant libraries:"
   ]
  },
  {
   "cell_type": "code",
   "execution_count": null,
   "metadata": {
    "colab": {},
    "colab_type": "code",
    "id": "b9n7KFE8HuoO",
    "slideshow": {
     "slide_type": "-"
    }
   },
   "outputs": [],
   "source": [
    "import sqlalchemy as sqla\n",
    "import pandas as pd"
   ]
  },
  {
   "cell_type": "markdown",
   "metadata": {
    "slideshow": {
     "slide_type": "subslide"
    }
   },
   "source": [
    "Now let's set up some variables and connect to the database.  Note that the password is available through the video and you'll need to replace SECRET_REPLACE_ME with the password."
   ]
  },
  {
   "cell_type": "code",
   "execution_count": null,
   "metadata": {
    "colab": {},
    "colab_type": "code",
    "id": "mZb8yjitHuoQ",
    "slideshow": {
     "slide_type": "subslide"
    }
   },
   "outputs": [],
   "source": [
    "endpoint = \"database-370-fa2020.cgeyvh9t1svz.us-east-1.rds.amazonaws.com\" \n",
    "username = \"si370wn2020\"\n",
    "password = \"SECRET_REPLACE_ME\"\n",
    "database = \"goodreads\"\n",
    "\n",
    "db = sqla.create_engine(f'mysql+pymysql://{username}:{password}@{endpoint}/{database}')"
   ]
  },
  {
   "cell_type": "markdown",
   "metadata": {
    "slideshow": {
     "slide_type": "subslide"
    }
   },
   "source": [
    "Now the real part:  using `read_sql` to read some data from the database.  In this case, we're going to count the number of entries in the ratings table:"
   ]
  },
  {
   "cell_type": "code",
   "execution_count": null,
   "metadata": {
    "colab": {
     "base_uri": "https://localhost:8080/",
     "height": 77
    },
    "colab_type": "code",
    "id": "TTF2_I3VZD_L",
    "outputId": "3a039d61-c963-408d-cfb8-0b7a80e35c94",
    "slideshow": {
     "slide_type": "-"
    }
   },
   "outputs": [],
   "source": [
    "df = pd.read_sql('select count(*) from ratings',db)\n",
    "df.head()"
   ]
  },
  {
   "cell_type": "markdown",
   "metadata": {
    "slideshow": {
     "slide_type": "subslide"
    }
   },
   "source": [
    "We can get the SQL engine to do more of the work (instead of doing it in pandas):"
   ]
  },
  {
   "cell_type": "code",
   "execution_count": null,
   "metadata": {
    "colab": {},
    "colab_type": "code",
    "id": "Oi4_WCvxHuoR",
    "slideshow": {
     "slide_type": "-"
    }
   },
   "outputs": [],
   "source": [
    "df = pd.read_sql('select rating, count(*) from ratings group by rating', db)\n",
    "df.head()"
   ]
  },
  {
   "cell_type": "markdown",
   "metadata": {
    "slideshow": {
     "slide_type": "slide"
    }
   },
   "source": [
    "## Summary\n",
    "* load CSV files using `read_csv()` (options are useful)\n",
    "* load JSON files using `read_json()`\n",
    "* extract tables from web pages using `read_html()`\n",
    "* load data from simple APIs by initializing a DataFrame from JSON (as an example)\n",
    "* load data from a SQL database using `read_sql()`"
   ]
  },
  {
   "cell_type": "code",
   "execution_count": null,
   "metadata": {},
   "outputs": [],
   "source": []
  }
 ],
 "metadata": {
  "colab": {
   "include_colab_link": true,
   "name": "370_03_Loading_Data.ipynb",
   "provenance": [],
   "toc_visible": true
  },
  "kernelspec": {
   "display_name": "Python 3",
   "language": "python",
   "name": "python3"
  },
  "language_info": {
   "codemirror_mode": {
    "name": "ipython",
    "version": 3
   },
   "file_extension": ".py",
   "mimetype": "text/x-python",
   "name": "python",
   "nbconvert_exporter": "python",
   "pygments_lexer": "ipython3",
   "version": "3.6.10"
  }
 },
 "nbformat": 4,
 "nbformat_minor": 1
}
