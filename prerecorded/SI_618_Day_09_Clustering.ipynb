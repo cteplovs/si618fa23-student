{
 "cells": [
  {
   "cell_type": "markdown",
   "metadata": {
    "slideshow": {
     "slide_type": "slide"
    }
   },
   "source": [
    "# SI 618 - Machine Learning: Clustering"
   ]
  },
  {
   "cell_type": "markdown",
   "metadata": {
    "slideshow": {
     "slide_type": "subslide"
    }
   },
   "source": [
    "![](https://raw.githubusercontent.com/umsi-data-science/si370/master/resources/clustering/Slide01.png)"
   ]
  },
  {
   "cell_type": "markdown",
   "metadata": {
    "slideshow": {
     "slide_type": "subslide"
    }
   },
   "source": [
    "![](https://raw.githubusercontent.com/umsi-data-science/si370/master/resources/clustering/Slide02.png)"
   ]
  },
  {
   "cell_type": "markdown",
   "metadata": {
    "slideshow": {
     "slide_type": "subslide"
    }
   },
   "source": [
    "![](https://raw.githubusercontent.com/umsi-data-science/si370/master/resources/clustering/Slide03.png)"
   ]
  },
  {
   "cell_type": "markdown",
   "metadata": {
    "slideshow": {
     "slide_type": "subslide"
    }
   },
   "source": [
    "![](https://raw.githubusercontent.com/umsi-data-science/si370/master/resources/clustering/Slide01.png)"
   ]
  },
  {
   "cell_type": "markdown",
   "metadata": {
    "slideshow": {
     "slide_type": "subslide"
    }
   },
   "source": [
    "![](https://raw.githubusercontent.com/umsi-data-science/si370/master/resources/clustering/Slide04.png)"
   ]
  },
  {
   "cell_type": "markdown",
   "metadata": {
    "slideshow": {
     "slide_type": "subslide"
    }
   },
   "source": [
    "![](https://raw.githubusercontent.com/umsi-data-science/si370/master/resources/clustering/Slide07.png)"
   ]
  },
  {
   "cell_type": "markdown",
   "metadata": {
    "slideshow": {
     "slide_type": "subslide"
    }
   },
   "source": [
    "![](https://raw.githubusercontent.com/umsi-data-science/si370/master/resources/clustering/Slide09.png)"
   ]
  },
  {
   "cell_type": "markdown",
   "metadata": {
    "slideshow": {
     "slide_type": "subslide"
    }
   },
   "source": [
    "![](https://raw.githubusercontent.com/umsi-data-science/si370/master/resources/clustering/Slide10.png)"
   ]
  },
  {
   "cell_type": "markdown",
   "metadata": {
    "slideshow": {
     "slide_type": "slide"
    }
   },
   "source": [
    "![](https://raw.githubusercontent.com/umsi-data-science/si370/master/resources/clustering/Slide11.png)"
   ]
  },
  {
   "cell_type": "markdown",
   "metadata": {
    "slideshow": {
     "slide_type": "subslide"
    }
   },
   "source": [
    "![](https://raw.githubusercontent.com/umsi-data-science/si370/master/resources/clustering/Slide12.png)"
   ]
  },
  {
   "cell_type": "markdown",
   "metadata": {
    "slideshow": {
     "slide_type": "subslide"
    }
   },
   "source": [
    "![](https://raw.githubusercontent.com/umsi-data-science/si370/master/resources/clustering/Slide13.png)"
   ]
  },
  {
   "cell_type": "markdown",
   "metadata": {
    "slideshow": {
     "slide_type": "subslide"
    }
   },
   "source": [
    "![](https://raw.githubusercontent.com/umsi-data-science/si370/master/resources/clustering/Slide14.png)"
   ]
  },
  {
   "cell_type": "markdown",
   "metadata": {
    "slideshow": {
     "slide_type": "subslide"
    }
   },
   "source": [
    "![](https://raw.githubusercontent.com/umsi-data-science/si370/master/resources/clustering/Slide15.png)"
   ]
  },
  {
   "cell_type": "markdown",
   "metadata": {
    "slideshow": {
     "slide_type": "subslide"
    }
   },
   "source": [
    "![](https://raw.githubusercontent.com/umsi-data-science/si370/master/resources/clustering/Slide16.png)"
   ]
  },
  {
   "cell_type": "markdown",
   "metadata": {
    "slideshow": {
     "slide_type": "subslide"
    }
   },
   "source": [
    "![](https://raw.githubusercontent.com/umsi-data-science/si370/master/resources/clustering/Slide17.png)"
   ]
  },
  {
   "cell_type": "markdown",
   "metadata": {
    "slideshow": {
     "slide_type": "subslide"
    }
   },
   "source": [
    "![](https://raw.githubusercontent.com/umsi-data-science/si370/master/resources/clustering/Slide18.png)"
   ]
  },
  {
   "cell_type": "markdown",
   "metadata": {
    "slideshow": {
     "slide_type": "subslide"
    }
   },
   "source": [
    "![](https://raw.githubusercontent.com/umsi-data-science/si370/master/resources/clustering/Slide19.png)"
   ]
  },
  {
   "cell_type": "markdown",
   "metadata": {
    "slideshow": {
     "slide_type": "subslide"
    }
   },
   "source": [
    "![](https://raw.githubusercontent.com/umsi-data-science/si370/master/resources/clustering/Slide20.png)"
   ]
  },
  {
   "cell_type": "markdown",
   "metadata": {
    "slideshow": {
     "slide_type": "subslide"
    }
   },
   "source": [
    "![](https://raw.githubusercontent.com/umsi-data-science/si370/master/resources/clustering/Slide21.png)"
   ]
  },
  {
   "cell_type": "markdown",
   "metadata": {
    "slideshow": {
     "slide_type": "subslide"
    }
   },
   "source": [
    "![](https://raw.githubusercontent.com/umsi-data-science/si370/master/resources/clustering/Slide22.png)"
   ]
  },
  {
   "cell_type": "markdown",
   "metadata": {
    "slideshow": {
     "slide_type": "subslide"
    }
   },
   "source": [
    "![](https://raw.githubusercontent.com/umsi-data-science/si370/master/resources/clustering/Slide23.png)"
   ]
  },
  {
   "cell_type": "markdown",
   "metadata": {
    "slideshow": {
     "slide_type": "subslide"
    }
   },
   "source": [
    "![](https://raw.githubusercontent.com/umsi-data-science/si370/master/resources/clustering/Slide24.png)"
   ]
  },
  {
   "cell_type": "markdown",
   "metadata": {
    "slideshow": {
     "slide_type": "subslide"
    }
   },
   "source": [
    "![](https://raw.githubusercontent.com/umsi-data-science/si370/master/resources/clustering/Slide25.png)"
   ]
  },
  {
   "cell_type": "markdown",
   "metadata": {
    "slideshow": {
     "slide_type": "slide"
    }
   },
   "source": [
    " \n",
    " "
   ]
  },
  {
   "cell_type": "code",
   "execution_count": 17,
   "metadata": {
    "slideshow": {
     "slide_type": "slide"
    }
   },
   "outputs": [],
   "source": [
    "from matplotlib import pyplot as plt\n",
    "from scipy.cluster.hierarchy import dendrogram\n",
    "from sklearn.datasets import load_iris\n",
    "from sklearn.cluster import AgglomerativeClustering\n",
    "import scipy.cluster.hierarchy as shc\n",
    "\n",
    "import pandas as pd\n",
    "import seaborn as sns"
   ]
  },
  {
   "cell_type": "code",
   "execution_count": 18,
   "metadata": {
    "slideshow": {
     "slide_type": "subslide"
    }
   },
   "outputs": [],
   "source": [
    "music = pd.read_csv('https://docs.google.com/spreadsheets/d/e/2PACX-1vR4YaVmpag6ucq-Q62adFm8oQz2YQRE7jsiTdE3S8-uxEj8dV6W_rbLHh0AMM4AKeibsDZLWXHQU0rT/pub?gid=0&single=true&output=csv')"
   ]
  },
  {
   "cell_type": "code",
   "execution_count": 19,
   "metadata": {},
   "outputs": [
    {
     "data": {
      "text/html": [
       "<div>\n",
       "<style scoped>\n",
       "    .dataframe tbody tr th:only-of-type {\n",
       "        vertical-align: middle;\n",
       "    }\n",
       "\n",
       "    .dataframe tbody tr th {\n",
       "        vertical-align: top;\n",
       "    }\n",
       "\n",
       "    .dataframe thead th {\n",
       "        text-align: right;\n",
       "    }\n",
       "</style>\n",
       "<table border=\"1\" class=\"dataframe\">\n",
       "  <thead>\n",
       "    <tr style=\"text-align: right;\">\n",
       "      <th></th>\n",
       "      <th>Name</th>\n",
       "      <th>Blues</th>\n",
       "      <th>Classical</th>\n",
       "      <th>Country</th>\n",
       "      <th>Electronic</th>\n",
       "      <th>Folk</th>\n",
       "      <th>Hip Hop</th>\n",
       "      <th>Jazz</th>\n",
       "      <th>Latin</th>\n",
       "      <th>Pop</th>\n",
       "      <th>Rock</th>\n",
       "    </tr>\n",
       "  </thead>\n",
       "  <tbody>\n",
       "    <tr>\n",
       "      <th>0</th>\n",
       "      <td>Chris T</td>\n",
       "      <td>7</td>\n",
       "      <td>10</td>\n",
       "      <td>4</td>\n",
       "      <td>3</td>\n",
       "      <td>6</td>\n",
       "      <td>4</td>\n",
       "      <td>10</td>\n",
       "      <td>4</td>\n",
       "      <td>6</td>\n",
       "      <td>8</td>\n",
       "    </tr>\n",
       "    <tr>\n",
       "      <th>1</th>\n",
       "      <td>Taylor F.</td>\n",
       "      <td>8</td>\n",
       "      <td>6</td>\n",
       "      <td>5</td>\n",
       "      <td>5</td>\n",
       "      <td>10</td>\n",
       "      <td>6</td>\n",
       "      <td>4</td>\n",
       "      <td>9</td>\n",
       "      <td>8</td>\n",
       "      <td>10</td>\n",
       "    </tr>\n",
       "    <tr>\n",
       "      <th>2</th>\n",
       "      <td>Briana W</td>\n",
       "      <td>6</td>\n",
       "      <td>3</td>\n",
       "      <td>2</td>\n",
       "      <td>3</td>\n",
       "      <td>2</td>\n",
       "      <td>10</td>\n",
       "      <td>7</td>\n",
       "      <td>6</td>\n",
       "      <td>8</td>\n",
       "      <td>9</td>\n",
       "    </tr>\n",
       "    <tr>\n",
       "      <th>3</th>\n",
       "      <td>Katie H.</td>\n",
       "      <td>3</td>\n",
       "      <td>5</td>\n",
       "      <td>6</td>\n",
       "      <td>5</td>\n",
       "      <td>6</td>\n",
       "      <td>8</td>\n",
       "      <td>2</td>\n",
       "      <td>9</td>\n",
       "      <td>9</td>\n",
       "      <td>10</td>\n",
       "    </tr>\n",
       "    <tr>\n",
       "      <th>4</th>\n",
       "      <td>N8 May</td>\n",
       "      <td>4</td>\n",
       "      <td>5</td>\n",
       "      <td>2</td>\n",
       "      <td>10</td>\n",
       "      <td>2</td>\n",
       "      <td>8</td>\n",
       "      <td>3</td>\n",
       "      <td>4</td>\n",
       "      <td>6</td>\n",
       "      <td>8</td>\n",
       "    </tr>\n",
       "  </tbody>\n",
       "</table>\n",
       "</div>"
      ],
      "text/plain": [
       "        Name  Blues  Classical  Country  Electronic  Folk  Hip Hop  Jazz  \\\n",
       "0    Chris T      7         10        4           3     6        4    10   \n",
       "1  Taylor F.      8          6        5           5    10        6     4   \n",
       "2   Briana W      6          3        2           3     2       10     7   \n",
       "3   Katie H.      3          5        6           5     6        8     2   \n",
       "4     N8 May      4          5        2          10     2        8     3   \n",
       "\n",
       "   Latin  Pop  Rock  \n",
       "0      4    6     8  \n",
       "1      9    8    10  \n",
       "2      6    8     9  \n",
       "3      9    9    10  \n",
       "4      4    6     8  "
      ]
     },
     "execution_count": 19,
     "metadata": {},
     "output_type": "execute_result"
    }
   ],
   "source": [
    "music.head()"
   ]
  },
  {
   "cell_type": "code",
   "execution_count": 21,
   "metadata": {},
   "outputs": [
    {
     "name": "stdout",
     "output_type": "stream",
     "text": [
      "<class 'pandas.core.frame.DataFrame'>\n",
      "RangeIndex: 60 entries, 0 to 59\n",
      "Data columns (total 11 columns):\n",
      " #   Column      Non-Null Count  Dtype \n",
      "---  ------      --------------  ----- \n",
      " 0   Name        60 non-null     object\n",
      " 1   Blues       60 non-null     int64 \n",
      " 2   Classical   60 non-null     int64 \n",
      " 3   Country     60 non-null     int64 \n",
      " 4   Electronic  60 non-null     int64 \n",
      " 5   Folk        60 non-null     int64 \n",
      " 6   Hip Hop     60 non-null     int64 \n",
      " 7   Jazz        60 non-null     int64 \n",
      " 8   Latin       60 non-null     int64 \n",
      " 9   Pop         60 non-null     int64 \n",
      " 10  Rock        60 non-null     int64 \n",
      "dtypes: int64(10), object(1)\n",
      "memory usage: 5.3+ KB\n"
     ]
    }
   ],
   "source": [
    "music.info()"
   ]
  },
  {
   "cell_type": "code",
   "execution_count": 23,
   "metadata": {
    "slideshow": {
     "slide_type": "subslide"
    }
   },
   "outputs": [],
   "source": [
    "music = music.dropna() # Clustering doesn't like NaNs\n",
    "music_names = music['Name'].copy()\n",
    "music_nonames = music.drop('Name',axis=1)"
   ]
  },
  {
   "cell_type": "code",
   "execution_count": 27,
   "metadata": {
    "slideshow": {
     "slide_type": "subslide"
    }
   },
   "outputs": [
    {
     "data": {
      "text/plain": [
       "0       Chris T\n",
       "1     Taylor F.\n",
       "2      Briana W\n",
       "3      Katie H.\n",
       "4        N8 May\n",
       "5      Yijing C\n",
       "6         Dan K\n",
       "7    Jiaoyang H\n",
       "8      Yanisa K\n",
       "9     Cameron M\n",
       "Name: Name, dtype: object"
      ]
     },
     "execution_count": 27,
     "metadata": {},
     "output_type": "execute_result"
    }
   ],
   "source": [
    "music_names.head(10)"
   ]
  },
  {
   "cell_type": "code",
   "execution_count": 25,
   "metadata": {
    "slideshow": {
     "slide_type": "subslide"
    }
   },
   "outputs": [
    {
     "data": {
      "text/html": [
       "<div>\n",
       "<style scoped>\n",
       "    .dataframe tbody tr th:only-of-type {\n",
       "        vertical-align: middle;\n",
       "    }\n",
       "\n",
       "    .dataframe tbody tr th {\n",
       "        vertical-align: top;\n",
       "    }\n",
       "\n",
       "    .dataframe thead th {\n",
       "        text-align: right;\n",
       "    }\n",
       "</style>\n",
       "<table border=\"1\" class=\"dataframe\">\n",
       "  <thead>\n",
       "    <tr style=\"text-align: right;\">\n",
       "      <th></th>\n",
       "      <th>Blues</th>\n",
       "      <th>Classical</th>\n",
       "      <th>Country</th>\n",
       "      <th>Electronic</th>\n",
       "      <th>Folk</th>\n",
       "      <th>Hip Hop</th>\n",
       "      <th>Jazz</th>\n",
       "      <th>Latin</th>\n",
       "      <th>Pop</th>\n",
       "      <th>Rock</th>\n",
       "    </tr>\n",
       "  </thead>\n",
       "  <tbody>\n",
       "    <tr>\n",
       "      <th>0</th>\n",
       "      <td>7</td>\n",
       "      <td>10</td>\n",
       "      <td>4</td>\n",
       "      <td>3</td>\n",
       "      <td>6</td>\n",
       "      <td>4</td>\n",
       "      <td>10</td>\n",
       "      <td>4</td>\n",
       "      <td>6</td>\n",
       "      <td>8</td>\n",
       "    </tr>\n",
       "    <tr>\n",
       "      <th>1</th>\n",
       "      <td>8</td>\n",
       "      <td>6</td>\n",
       "      <td>5</td>\n",
       "      <td>5</td>\n",
       "      <td>10</td>\n",
       "      <td>6</td>\n",
       "      <td>4</td>\n",
       "      <td>9</td>\n",
       "      <td>8</td>\n",
       "      <td>10</td>\n",
       "    </tr>\n",
       "    <tr>\n",
       "      <th>2</th>\n",
       "      <td>6</td>\n",
       "      <td>3</td>\n",
       "      <td>2</td>\n",
       "      <td>3</td>\n",
       "      <td>2</td>\n",
       "      <td>10</td>\n",
       "      <td>7</td>\n",
       "      <td>6</td>\n",
       "      <td>8</td>\n",
       "      <td>9</td>\n",
       "    </tr>\n",
       "    <tr>\n",
       "      <th>3</th>\n",
       "      <td>3</td>\n",
       "      <td>5</td>\n",
       "      <td>6</td>\n",
       "      <td>5</td>\n",
       "      <td>6</td>\n",
       "      <td>8</td>\n",
       "      <td>2</td>\n",
       "      <td>9</td>\n",
       "      <td>9</td>\n",
       "      <td>10</td>\n",
       "    </tr>\n",
       "    <tr>\n",
       "      <th>4</th>\n",
       "      <td>4</td>\n",
       "      <td>5</td>\n",
       "      <td>2</td>\n",
       "      <td>10</td>\n",
       "      <td>2</td>\n",
       "      <td>8</td>\n",
       "      <td>3</td>\n",
       "      <td>4</td>\n",
       "      <td>6</td>\n",
       "      <td>8</td>\n",
       "    </tr>\n",
       "  </tbody>\n",
       "</table>\n",
       "</div>"
      ],
      "text/plain": [
       "   Blues  Classical  Country  Electronic  Folk  Hip Hop  Jazz  Latin  Pop  \\\n",
       "0      7         10        4           3     6        4    10      4    6   \n",
       "1      8          6        5           5    10        6     4      9    8   \n",
       "2      6          3        2           3     2       10     7      6    8   \n",
       "3      3          5        6           5     6        8     2      9    9   \n",
       "4      4          5        2          10     2        8     3      4    6   \n",
       "\n",
       "   Rock  \n",
       "0     8  \n",
       "1    10  \n",
       "2     9  \n",
       "3    10  \n",
       "4     8  "
      ]
     },
     "execution_count": 25,
     "metadata": {},
     "output_type": "execute_result"
    }
   ],
   "source": [
    "music_nonames.head()"
   ]
  },
  {
   "cell_type": "code",
   "execution_count": 26,
   "metadata": {
    "slideshow": {
     "slide_type": "subslide"
    }
   },
   "outputs": [
    {
     "data": {
      "text/plain": [
       "array([2, 1, 1, 1, 0, 2, 2, 1, 1, 2, 1, 1, 1, 1, 2, 0, 0, 0, 0, 1, 0, 0,\n",
       "       0, 1, 0, 1, 2, 0, 0, 0, 1, 0, 0, 0, 2, 1, 0, 1, 2, 2, 2, 1, 0, 2,\n",
       "       1, 1, 1, 0, 0, 0, 0, 0, 0, 1, 1, 2, 2, 2, 0, 1])"
      ]
     },
     "execution_count": 26,
     "metadata": {},
     "output_type": "execute_result"
    }
   ],
   "source": [
    "model = AgglomerativeClustering(n_clusters=3) # we can make up the value for clusters\n",
    "model.fit_predict(music_nonames)"
   ]
  },
  {
   "cell_type": "code",
   "execution_count": 35,
   "metadata": {
    "slideshow": {
     "slide_type": "subslide"
    }
   },
   "outputs": [
    {
     "data": {
      "image/png": "[encoded data removed]",
      "text/plain": [
       "<Figure size 1008x720 with 1 Axes>"
      ]
     },
     "metadata": {
      "needs_background": "light"
     },
     "output_type": "display_data"
    },
    {
     "data": {
      "image/png": "[encoded data removed]",
      "text/plain": [
       "<Figure size 432x288 with 1 Axes>"
      ]
     },
     "metadata": {
      "needs_background": "light"
     },
     "output_type": "display_data"
    },
    {
     "data": {
      "image/png": "[encoded data removed]",
      "text/plain": [
       "<Figure size 432x288 with 1 Axes>"
      ]
     },
     "metadata": {
      "needs_background": "light"
     },
     "output_type": "display_data"
    }
   ],
   "source": [
    "# Authors: Mathew Kallada & Chris Teplovs\n",
    "# License: BSD 3 clause\n",
    "\"\"\"\n",
    "=========================================\n",
    "Plot Hierarachical Clustering Dendrogram \n",
    "=========================================\n",
    "This example plots the corresponding dendrogram of a hierarchical clustering\n",
    "using AgglomerativeClustering and the dendrogram method available in scipy.\n",
    "\"\"\"\n",
    "\n",
    "import numpy as np\n",
    "\n",
    "from matplotlib import pyplot as plt\n",
    "from scipy.cluster.hierarchy import dendrogram\n",
    "from sklearn.cluster import AgglomerativeClustering\n",
    "\n",
    "def plot_dendrogram(model, **kwargs):\n",
    "\n",
    "    # Children of hierarchical clustering\n",
    "    children = model.children_\n",
    "\n",
    "    # Distances between each pair of children\n",
    "    # Since we don't have this information, we can use a uniform one for plotting\n",
    "    distance = np.arange(children.shape[0])\n",
    "\n",
    "    # The number of observations contained in each cluster level\n",
    "    no_of_observations = np.arange(2, children.shape[0]+2)\n",
    "\n",
    "    # Create linkage matrix and then plot the dendrogram\n",
    "    linkage_matrix = np.column_stack([children, distance, no_of_observations]).astype(float)\n",
    "\n",
    "    # Plot the corresponding dendrogram\n",
    "    dendrogram(linkage_matrix, **kwargs)\n",
    "\n",
    "\n",
    "model = AgglomerativeClustering(n_clusters=8)\n",
    "model = model.fit(music_nonames)\n",
    "plt.figure(figsize=(14,10))\n",
    "plt.title('Hierarchical Clustering Dendrogram (People)')\n",
    "\n",
    "plot_dendrogram(model,labels=music_names.values,color_threshold=58)\n",
    "plt.xticks(rotation=90)\n",
    "plt.show()\n",
    "\n",
    "plt.title('Hierarchical Clustering Dendrogram (Cluster Number)')\n",
    "plot_dendrogram(model,labels=model.labels_)\n",
    "plt.xticks(rotation=0)\n",
    "plt.show()\n",
    "\n",
    "plt.title('Hierarchical Clustering Dendrogram (Row Number)')\n",
    "plot_dendrogram(model)\n",
    "plt.xticks(rotation=0)\n",
    "plt.show()"
   ]
  },
  {
   "cell_type": "code",
   "execution_count": 9,
   "metadata": {},
   "outputs": [
    {
     "name": "stdout",
     "output_type": "stream",
     "text": [
      "1.6.0\n"
     ]
    }
   ],
   "source": [
    "import scipy\n",
    "print(scipy.__version__)"
   ]
  },
  {
   "cell_type": "code",
   "execution_count": 10,
   "metadata": {
    "slideshow": {
     "slide_type": "slide"
    }
   },
   "outputs": [
    {
     "name": "stdout",
     "output_type": "stream",
     "text": [
      "Collecting package metadata (current_repodata.json): done\n",
      "Solving environment: done\n",
      "\n",
      "## Package Plan ##\n",
      "\n",
      "  environment location: /Users/cteplovs/anaconda3/envs/si618wn2021\n",
      "\n",
      "  added / updated specs:\n",
      "    - scipy\n",
      "\n",
      "\n",
      "The following packages will be downloaded:\n",
      "\n",
      "    package                    |            build\n",
      "    ---------------------------|-----------------\n",
      "    backports.functools_lru_cache-1.6.3|     pyhd8ed1ab_0           9 KB  conda-forge\n",
      "    blosc-1.21.0               |       he49afe7_0         920 KB  conda-forge\n",
      "    boto3-1.17.39              |     pyhd8ed1ab_0          70 KB  conda-forge\n",
      "    botocore-1.20.39           |     pyhd8ed1ab_0         4.5 MB  conda-forge\n",
      "    cairo-1.16.0               |    he43a7df_1008         1.3 MB  conda-forge\n",
      "    cryptography-3.4.7         |   py38h1fa4640_0         763 KB  conda-forge\n",
      "    distributed-2021.3.1       |   py38h50d1736_0         1.1 MB  conda-forge\n",
      "    gdk-pixbuf-2.42.4          |       h2e6141f_2         577 KB  conda-forge\n",
      "    glib-2.68.0                |       he49afe7_2         434 KB  conda-forge\n",
      "    glib-tools-2.68.0          |       he49afe7_2          81 KB  conda-forge\n",
      "    google-api-core-1.26.2     |     pyhd8ed1ab_0          59 KB  conda-forge\n",
      "    google-auth-1.26.1         |     pyh44b312d_0          63 KB  conda-forge\n",
      "    googleapis-common-protos-1.53.0|   py38h50d1736_0         126 KB  conda-forge\n",
      "    harfbuzz-2.8.0             |       h159f659_1         1.6 MB  conda-forge\n",
      "    importlib-metadata-3.8.1   |   py38h50d1736_0          26 KB  conda-forge\n",
      "    ipython-7.22.0             |   py38h6c79ece_0         1.1 MB  conda-forge\n",
      "    jupyter_client-6.1.12      |     pyhd8ed1ab_0          79 KB  conda-forge\n",
      "    jupyter_console-6.4.0      |     pyhd8ed1ab_0          22 KB  conda-forge\n",
      "    libgfortran-5.0.0          |9_3_0_h6c81a4c_20          19 KB  conda-forge\n",
      "    libgfortran5-9.3.0         |      h6c81a4c_20         1.7 MB  conda-forge\n",
      "    libglib-2.68.0             |       hd556434_2         2.8 MB  conda-forge\n",
      "    libprotobuf-3.15.6         |       hcf210ce_0         2.1 MB  conda-forge\n",
      "    libwebp-base-1.2.0         |       h0d85af4_2         700 KB  conda-forge\n",
      "    llvm-openmp-11.1.0         |       hda6cdc1_0         268 KB  conda-forge\n",
      "    notebook-6.3.0             |   py38h50d1736_0         6.3 MB  conda-forge\n",
      "    nspr-4.30                  |       hcd9eead_0         246 KB  conda-forge\n",
      "    numpy-1.20.2               |   py38had91d27_0         5.5 MB  conda-forge\n",
      "    openssl-1.1.1k             |       h0d85af4_0         1.9 MB  conda-forge\n",
      "    pandoc-2.13                |       h0d85af4_0        13.2 MB  conda-forge\n",
      "    prompt-toolkit-3.0.18      |     pyha770c72_0         244 KB  conda-forge\n",
      "    prompt_toolkit-3.0.18      |       hd8ed1ab_0           4 KB  conda-forge\n",
      "    protobuf-3.15.6            |   py38ha048514_0         326 KB  conda-forge\n",
      "    qtconsole-5.0.3            |     pyhd8ed1ab_0          89 KB  conda-forge\n",
      "    readline-8.1               |       h05e3726_0         266 KB  conda-forge\n",
      "    s3transfer-0.3.6           |     pyhd8ed1ab_0          51 KB  conda-forge\n",
      "    scipy-1.6.2                |   py38h431c0a8_0        18.6 MB  conda-forge\n",
      "    sqlite-3.35.3              |       h44b9ce1_0         1.7 MB  conda-forge\n",
      "    tblib-1.7.0                |     pyhd8ed1ab_0          15 KB  conda-forge\n",
      "    terminado-0.9.3            |   py38h50d1736_0          26 KB  conda-forge\n",
      "    urllib3-1.26.4             |     pyhd8ed1ab_0          99 KB  conda-forge\n",
      "    ------------------------------------------------------------\n",
      "                                           Total:        68.9 MB\n",
      "\n",
      "The following packages will be UPDATED:\n",
      "\n",
      "  backports.functoo~                             1.6.1-py_0 --> 1.6.3-pyhd8ed1ab_0\n",
      "  boto3                                1.17.25-pyhd8ed1ab_0 --> 1.17.39-pyhd8ed1ab_0\n",
      "  botocore                             1.20.25-pyhd8ed1ab_0 --> 1.20.39-pyhd8ed1ab_0\n",
      "  cairo                                1.16.0-h4ec454a_1007 --> 1.16.0-he43a7df_1008\n",
      "  cryptography                         3.4.6-py38h1fa4640_0 --> 3.4.7-py38h1fa4640_0\n",
      "  distributed                       2021.3.0-py38h50d1736_0 --> 2021.3.1-py38h50d1736_0\n",
      "  gdk-pixbuf                              2.42.2-h976c81d_2 --> 2.42.4-h2e6141f_2\n",
      "  glib                                    2.66.7-he49afe7_1 --> 2.68.0-he49afe7_2\n",
      "  glib-tools                              2.66.7-he49afe7_1 --> 2.68.0-he49afe7_2\n",
      "  google-api-core                       1.25.1-pyhd8ed1ab_0 --> 1.26.2-pyhd8ed1ab_0\n",
      "  google-auth                           1.24.0-pyhd3deb0d_0 --> 1.26.1-pyh44b312d_0\n",
      "  googleapis-common~                  1.52.0-py38h50d1736_1 --> 1.53.0-py38h50d1736_0\n",
      "  harfbuzz                                 2.8.0-h159f659_0 --> 2.8.0-h159f659_1\n",
      "  importlib-metadata                   3.7.2-py38h50d1736_0 --> 3.8.1-py38h50d1736_0\n",
      "  ipython                             7.21.0-py38h9bb44b7_0 --> 7.22.0-py38h6c79ece_0\n",
      "  jupyter_client                        6.1.11-pyhd8ed1ab_1 --> 6.1.12-pyhd8ed1ab_0\n",
      "  jupyter_console                                6.2.0-py_0 --> 6.4.0-pyhd8ed1ab_0\n",
      "  libgfortran                       5.0.0-9_3_0_h6c81a4c_19 --> 5.0.0-9_3_0_h6c81a4c_20\n",
      "  libgfortran5                            9.3.0-h6c81a4c_19 --> 9.3.0-h6c81a4c_20\n",
      "  libglib                                 2.66.7-hd556434_1 --> 2.68.0-hd556434_2\n",
      "  libprotobuf                             3.15.5-hcf210ce_0 --> 3.15.6-hcf210ce_0\n",
      "  libwebp-base                             1.2.0-hbcf498f_0 --> 1.2.0-h0d85af4_2\n",
      "  llvm-openmp                             11.0.1-h7c73e74_0 --> 11.1.0-hda6cdc1_0\n",
      "  notebook                             6.2.0-py38h50d1736_0 --> 6.3.0-py38h50d1736_0\n",
      "  nspr                                      4.29-hbc8d48c_1 --> 4.30-hcd9eead_0\n",
      "  numpy                               1.20.1-py38h64deac9_0 --> 1.20.2-py38had91d27_0\n",
      "  openssl                                 1.1.1j-hbcf498f_0 --> 1.1.1k-h0d85af4_0\n",
      "  pandoc                                    2.12-h0d85af4_0 --> 2.13-h0d85af4_0\n",
      "  prompt-toolkit                        3.0.17-pyha770c72_0 --> 3.0.18-pyha770c72_0\n",
      "  prompt_toolkit                          3.0.17-hd8ed1ab_0 --> 3.0.18-hd8ed1ab_0\n",
      "  protobuf                            3.15.5-py38ha048514_0 --> 3.15.6-py38ha048514_0\n",
      "  qtconsole                              5.0.2-pyhd8ed1ab_0 --> 5.0.3-pyhd8ed1ab_0\n",
      "  readline                                   8.0-h0678c8f_2 --> 8.1-h05e3726_0\n",
      "  s3transfer                             0.3.4-pyhd8ed1ab_0 --> 0.3.6-pyhd8ed1ab_0\n",
      "  scipy                                1.6.0-py38ha68b950_0 --> 1.6.2-py38h431c0a8_0\n",
      "  sqlite                                  3.34.0-h17101e1_0 --> 3.35.3-h44b9ce1_0\n",
      "  tblib                                          1.6.0-py_0 --> 1.7.0-pyhd8ed1ab_0\n",
      "  terminado                            0.9.2-py38h50d1736_0 --> 0.9.3-py38h50d1736_0\n",
      "  urllib3                               1.26.3-pyhd8ed1ab_0 --> 1.26.4-pyhd8ed1ab_0\n",
      "\n",
      "The following packages will be DOWNGRADED:\n",
      "\n",
      "  blosc                                   1.21.0-h046ec9c_0 --> 1.21.0-he49afe7_0\n",
      "\n",
      "\n",
      "\n",
      "Downloading and Extracting Packages\n",
      "google-api-core-1.26 | 59 KB     | ##################################### | 100% \n",
      "harfbuzz-2.8.0       | 1.6 MB    | ##################################### | 100% \n",
      "libwebp-base-1.2.0   | 700 KB    | ##################################### | 100% \n",
      "pandoc-2.13          | 13.2 MB   | ##################################### | 100% \n",
      "openssl-1.1.1k       | 1.9 MB    | ##################################### | 100% \n",
      "distributed-2021.3.1 | 1.1 MB    | ##################################### | 100% \n",
      "prompt_toolkit-3.0.1 | 4 KB      | ##################################### | 100% \n",
      "boto3-1.17.39        | 70 KB     | ##################################### | 100% \n",
      "s3transfer-0.3.6     | 51 KB     | ##################################### | 100% \n",
      "glib-tools-2.68.0    | 81 KB     | ##################################### | 100% \n",
      "cairo-1.16.0         | 1.3 MB    | ##################################### | 100% \n",
      "cryptography-3.4.7   | 763 KB    | ##################################### | 100% \n",
      "libgfortran-5.0.0    | 19 KB     | ##################################### | 100% \n",
      "tblib-1.7.0          | 15 KB     | ##################################### | 100% \n",
      "blosc-1.21.0         | 920 KB    | ##################################### | 100% \n",
      "prompt-toolkit-3.0.1 | 244 KB    | ##################################### | 100% \n",
      "ipython-7.22.0       | 1.1 MB    | ##################################### | 100% \n",
      "gdk-pixbuf-2.42.4    | 577 KB    | ##################################### | 100% \n",
      "backports.functools_ | 9 KB      | ##################################### | 100% \n",
      "libprotobuf-3.15.6   | 2.1 MB    | ##################################### | 100% \n",
      "glib-2.68.0          | 434 KB    | ##################################### | 100% \n",
      "jupyter_console-6.4. | 22 KB     | ##################################### | 100% \n",
      "scipy-1.6.2          | 18.6 MB   | ##################################### | 100% \n",
      "libgfortran5-9.3.0   | 1.7 MB    | ##################################### | 100% \n",
      "nspr-4.30            | 246 KB    | ##################################### | 100% \n",
      "terminado-0.9.3      | 26 KB     | ##################################### | 100% \n",
      "jupyter_client-6.1.1 | 79 KB     | ##################################### | 100% \n",
      "readline-8.1         | 266 KB    | ##################################### | 100% \n",
      "importlib-metadata-3 | 26 KB     | ##################################### | 100% \n",
      "notebook-6.3.0       | 6.3 MB    | ##################################### | 100% \n",
      "botocore-1.20.39     | 4.5 MB    | ##################################### | 100% \n",
      "google-auth-1.26.1   | 63 KB     | ##################################### | 100% \n",
      "libglib-2.68.0       | 2.8 MB    | ##################################### | 100% \n",
      "qtconsole-5.0.3      | 89 KB     | ##################################### | 100% \n",
      "protobuf-3.15.6      | 326 KB    | ##################################### | 100% \n",
      "llvm-openmp-11.1.0   | 268 KB    | ##################################### | 100% \n",
      "numpy-1.20.2         | 5.5 MB    | ##################################### | 100% \n",
      "googleapis-common-pr | 126 KB    | ##################################### | 100% \n",
      "sqlite-3.35.3        | 1.7 MB    | ##################################### | 100% \n",
      "urllib3-1.26.4       | 99 KB     | ##################################### | 100% \n",
      "Preparing transaction: done\n",
      "Verifying transaction: done\n",
      "Executing transaction: - \n",
      "done\n"
     ]
    }
   ],
   "source": [
    " !conda upgrade -y scipy\n",
    "    "
   ]
  },
  {
   "cell_type": "markdown",
   "metadata": {
    "slideshow": {
     "slide_type": "slide"
    }
   },
   "source": [
    "![](https://raw.githubusercontent.com/umsi-data-science/si370/master/resources/clustering/Slide26.png)"
   ]
  },
  {
   "cell_type": "markdown",
   "metadata": {
    "slideshow": {
     "slide_type": "slide"
    }
   },
   "source": [
    "![](https://raw.githubusercontent.com/umsi-data-science/si370/master/resources/clustering/Slide27.png)"
   ]
  },
  {
   "cell_type": "markdown",
   "metadata": {
    "slideshow": {
     "slide_type": "subslide"
    }
   },
   "source": [
    "![](https://raw.githubusercontent.com/umsi-data-science/si370/master/resources/clustering/Slide28.png)"
   ]
  },
  {
   "cell_type": "markdown",
   "metadata": {
    "slideshow": {
     "slide_type": "subslide"
    }
   },
   "source": [
    "![](https://raw.githubusercontent.com/umsi-data-science/si370/master/resources/clustering/Slide31.png)"
   ]
  },
  {
   "cell_type": "markdown",
   "metadata": {
    "slideshow": {
     "slide_type": "subslide"
    }
   },
   "source": [
    "![](https://raw.githubusercontent.com/umsi-data-science/si370/master/resources/clustering/Slide32.png)"
   ]
  },
  {
   "cell_type": "markdown",
   "metadata": {
    "slideshow": {
     "slide_type": "subslide"
    }
   },
   "source": [
    "![](https://raw.githubusercontent.com/umsi-data-science/si370/master/resources/clustering/Slide33.png)"
   ]
  },
  {
   "cell_type": "markdown",
   "metadata": {
    "slideshow": {
     "slide_type": "subslide"
    }
   },
   "source": [
    "![](https://raw.githubusercontent.com/umsi-data-science/si370/master/resources/clustering/Slide34.png)"
   ]
  },
  {
   "cell_type": "markdown",
   "metadata": {
    "slideshow": {
     "slide_type": "subslide"
    }
   },
   "source": [
    "![](https://raw.githubusercontent.com/umsi-data-science/si370/master/resources/clustering/Slide36.png)"
   ]
  },
  {
   "cell_type": "markdown",
   "metadata": {
    "slideshow": {
     "slide_type": "slide"
    }
   },
   "source": [
    "![](https://raw.githubusercontent.com/umsi-data-science/si370/master/resources/clustering/Slide37.png)"
   ]
  },
  {
   "cell_type": "markdown",
   "metadata": {
    "slideshow": {
     "slide_type": "slide"
    }
   },
   "source": [
    " \n",
    " "
   ]
  },
  {
   "cell_type": "code",
   "execution_count": 11,
   "metadata": {
    "slideshow": {
     "slide_type": "slide"
    }
   },
   "outputs": [],
   "source": [
    "import pandas as pd\n",
    "import numpy as np\n",
    "from sklearn.cluster import KMeans\n",
    "import seaborn as sns\n",
    "import matplotlib.pyplot as plt\n",
    "%matplotlib inline"
   ]
  },
  {
   "cell_type": "code",
   "execution_count": 12,
   "metadata": {
    "scrolled": true,
    "slideshow": {
     "slide_type": "slide"
    }
   },
   "outputs": [
    {
     "name": "stdout",
     "output_type": "stream",
     "text": [
      "Labels:\n",
      "[1 1 1 1 1 2 1 2 0 1 2 0 1 2 1 0 2 0 2 1 0 0 0 1 2 2 2 1 0 1 1 2 1 2 1 1 1\n",
      " 1 0 1 1 0 1 1 1 0 0 1 0 1 0 1 0 0 2 1 1 1]\n"
     ]
    }
   ],
   "source": [
    "kmeans = KMeans(n_clusters=3) # start with 3 clusters\n",
    "kmeans.fit(music_nonames)\n",
    "print(\"Labels:\")\n",
    "print(kmeans.labels_)\n"
   ]
  },
  {
   "cell_type": "markdown",
   "metadata": {
    "slideshow": {
     "slide_type": "subslide"
    }
   },
   "source": [
    "And now let's join the labels with the original dataframe:"
   ]
  },
  {
   "cell_type": "code",
   "execution_count": 13,
   "metadata": {},
   "outputs": [
    {
     "data": {
      "text/html": [
       "<div>\n",
       "<style scoped>\n",
       "    .dataframe tbody tr th:only-of-type {\n",
       "        vertical-align: middle;\n",
       "    }\n",
       "\n",
       "    .dataframe tbody tr th {\n",
       "        vertical-align: top;\n",
       "    }\n",
       "\n",
       "    .dataframe thead th {\n",
       "        text-align: right;\n",
       "    }\n",
       "</style>\n",
       "<table border=\"1\" class=\"dataframe\">\n",
       "  <thead>\n",
       "    <tr style=\"text-align: right;\">\n",
       "      <th></th>\n",
       "      <th>0</th>\n",
       "      <th>Name</th>\n",
       "      <th>Jazz</th>\n",
       "      <th>Soul</th>\n",
       "      <th>Pop</th>\n",
       "      <th>R&amp;B</th>\n",
       "      <th>Opera</th>\n",
       "      <th>Country</th>\n",
       "      <th>Rock&amp;Roll</th>\n",
       "    </tr>\n",
       "  </thead>\n",
       "  <tbody>\n",
       "    <tr>\n",
       "      <th>0</th>\n",
       "      <td>1</td>\n",
       "      <td>Kai</td>\n",
       "      <td>8</td>\n",
       "      <td>8</td>\n",
       "      <td>10</td>\n",
       "      <td>10</td>\n",
       "      <td>2</td>\n",
       "      <td>5</td>\n",
       "      <td>6.0</td>\n",
       "    </tr>\n",
       "    <tr>\n",
       "      <th>1</th>\n",
       "      <td>1</td>\n",
       "      <td>Chris</td>\n",
       "      <td>4</td>\n",
       "      <td>6</td>\n",
       "      <td>2</td>\n",
       "      <td>7</td>\n",
       "      <td>8</td>\n",
       "      <td>9</td>\n",
       "      <td>10.0</td>\n",
       "    </tr>\n",
       "    <tr>\n",
       "      <th>2</th>\n",
       "      <td>1</td>\n",
       "      <td>Michael</td>\n",
       "      <td>7</td>\n",
       "      <td>7</td>\n",
       "      <td>9</td>\n",
       "      <td>8</td>\n",
       "      <td>3</td>\n",
       "      <td>7</td>\n",
       "      <td>7.0</td>\n",
       "    </tr>\n",
       "    <tr>\n",
       "      <th>3</th>\n",
       "      <td>1</td>\n",
       "      <td>Sonal</td>\n",
       "      <td>8</td>\n",
       "      <td>7</td>\n",
       "      <td>8</td>\n",
       "      <td>7</td>\n",
       "      <td>3</td>\n",
       "      <td>6</td>\n",
       "      <td>5.0</td>\n",
       "    </tr>\n",
       "    <tr>\n",
       "      <th>4</th>\n",
       "      <td>1</td>\n",
       "      <td>Inayah</td>\n",
       "      <td>8</td>\n",
       "      <td>7</td>\n",
       "      <td>9</td>\n",
       "      <td>9</td>\n",
       "      <td>5</td>\n",
       "      <td>6</td>\n",
       "      <td>5.0</td>\n",
       "    </tr>\n",
       "    <tr>\n",
       "      <th>5</th>\n",
       "      <td>2</td>\n",
       "      <td>Adam</td>\n",
       "      <td>8</td>\n",
       "      <td>7</td>\n",
       "      <td>10</td>\n",
       "      <td>8</td>\n",
       "      <td>1</td>\n",
       "      <td>2</td>\n",
       "      <td>9.0</td>\n",
       "    </tr>\n",
       "    <tr>\n",
       "      <th>6</th>\n",
       "      <td>1</td>\n",
       "      <td>Huan</td>\n",
       "      <td>7</td>\n",
       "      <td>8</td>\n",
       "      <td>9</td>\n",
       "      <td>8</td>\n",
       "      <td>5</td>\n",
       "      <td>5</td>\n",
       "      <td>9.0</td>\n",
       "    </tr>\n",
       "    <tr>\n",
       "      <th>7</th>\n",
       "      <td>2</td>\n",
       "      <td>Zoe</td>\n",
       "      <td>4</td>\n",
       "      <td>9</td>\n",
       "      <td>8</td>\n",
       "      <td>10</td>\n",
       "      <td>2</td>\n",
       "      <td>1</td>\n",
       "      <td>8.0</td>\n",
       "    </tr>\n",
       "    <tr>\n",
       "      <th>8</th>\n",
       "      <td>0</td>\n",
       "      <td>Yi</td>\n",
       "      <td>6</td>\n",
       "      <td>3</td>\n",
       "      <td>7</td>\n",
       "      <td>2</td>\n",
       "      <td>6</td>\n",
       "      <td>3</td>\n",
       "      <td>5.0</td>\n",
       "    </tr>\n",
       "    <tr>\n",
       "      <th>9</th>\n",
       "      <td>1</td>\n",
       "      <td>PJ</td>\n",
       "      <td>4</td>\n",
       "      <td>10</td>\n",
       "      <td>7</td>\n",
       "      <td>3</td>\n",
       "      <td>1</td>\n",
       "      <td>6</td>\n",
       "      <td>6.0</td>\n",
       "    </tr>\n",
       "    <tr>\n",
       "      <th>10</th>\n",
       "      <td>2</td>\n",
       "      <td>Luke</td>\n",
       "      <td>5</td>\n",
       "      <td>3</td>\n",
       "      <td>4</td>\n",
       "      <td>2</td>\n",
       "      <td>2</td>\n",
       "      <td>1</td>\n",
       "      <td>10.0</td>\n",
       "    </tr>\n",
       "    <tr>\n",
       "      <th>11</th>\n",
       "      <td>0</td>\n",
       "      <td>EJ</td>\n",
       "      <td>9</td>\n",
       "      <td>8</td>\n",
       "      <td>6</td>\n",
       "      <td>4</td>\n",
       "      <td>4</td>\n",
       "      <td>2</td>\n",
       "      <td>5.0</td>\n",
       "    </tr>\n",
       "    <tr>\n",
       "      <th>12</th>\n",
       "      <td>1</td>\n",
       "      <td>Yifan</td>\n",
       "      <td>3</td>\n",
       "      <td>3</td>\n",
       "      <td>8</td>\n",
       "      <td>7</td>\n",
       "      <td>4</td>\n",
       "      <td>7</td>\n",
       "      <td>10.0</td>\n",
       "    </tr>\n",
       "    <tr>\n",
       "      <th>13</th>\n",
       "      <td>2</td>\n",
       "      <td>Rap</td>\n",
       "      <td>8</td>\n",
       "      <td>5</td>\n",
       "      <td>7</td>\n",
       "      <td>6</td>\n",
       "      <td>2</td>\n",
       "      <td>2</td>\n",
       "      <td>8.0</td>\n",
       "    </tr>\n",
       "    <tr>\n",
       "      <th>14</th>\n",
       "      <td>1</td>\n",
       "      <td>Arwen</td>\n",
       "      <td>7</td>\n",
       "      <td>8</td>\n",
       "      <td>8</td>\n",
       "      <td>5</td>\n",
       "      <td>2</td>\n",
       "      <td>10</td>\n",
       "      <td>8.0</td>\n",
       "    </tr>\n",
       "    <tr>\n",
       "      <th>15</th>\n",
       "      <td>0</td>\n",
       "      <td>Shen</td>\n",
       "      <td>7</td>\n",
       "      <td>8</td>\n",
       "      <td>7</td>\n",
       "      <td>3</td>\n",
       "      <td>4</td>\n",
       "      <td>10</td>\n",
       "      <td>1.0</td>\n",
       "    </tr>\n",
       "    <tr>\n",
       "      <th>16</th>\n",
       "      <td>2</td>\n",
       "      <td>Johan</td>\n",
       "      <td>4</td>\n",
       "      <td>6</td>\n",
       "      <td>7</td>\n",
       "      <td>9</td>\n",
       "      <td>1</td>\n",
       "      <td>2</td>\n",
       "      <td>7.0</td>\n",
       "    </tr>\n",
       "    <tr>\n",
       "      <th>17</th>\n",
       "      <td>0</td>\n",
       "      <td>Phil</td>\n",
       "      <td>8</td>\n",
       "      <td>7</td>\n",
       "      <td>4</td>\n",
       "      <td>4</td>\n",
       "      <td>9</td>\n",
       "      <td>1</td>\n",
       "      <td>8.0</td>\n",
       "    </tr>\n",
       "    <tr>\n",
       "      <th>18</th>\n",
       "      <td>2</td>\n",
       "      <td>Koki</td>\n",
       "      <td>7</td>\n",
       "      <td>5</td>\n",
       "      <td>3</td>\n",
       "      <td>9</td>\n",
       "      <td>1</td>\n",
       "      <td>1</td>\n",
       "      <td>8.0</td>\n",
       "    </tr>\n",
       "    <tr>\n",
       "      <th>19</th>\n",
       "      <td>1</td>\n",
       "      <td>Jinghui</td>\n",
       "      <td>8</td>\n",
       "      <td>6</td>\n",
       "      <td>6</td>\n",
       "      <td>4</td>\n",
       "      <td>4</td>\n",
       "      <td>7</td>\n",
       "      <td>9.0</td>\n",
       "    </tr>\n",
       "    <tr>\n",
       "      <th>20</th>\n",
       "      <td>0</td>\n",
       "      <td>Anthony</td>\n",
       "      <td>6</td>\n",
       "      <td>6</td>\n",
       "      <td>4</td>\n",
       "      <td>4</td>\n",
       "      <td>0</td>\n",
       "      <td>8</td>\n",
       "      <td>2.0</td>\n",
       "    </tr>\n",
       "    <tr>\n",
       "      <th>21</th>\n",
       "      <td>0</td>\n",
       "      <td>Stella</td>\n",
       "      <td>6</td>\n",
       "      <td>4</td>\n",
       "      <td>9</td>\n",
       "      <td>7</td>\n",
       "      <td>2</td>\n",
       "      <td>1</td>\n",
       "      <td>1.0</td>\n",
       "    </tr>\n",
       "    <tr>\n",
       "      <th>22</th>\n",
       "      <td>0</td>\n",
       "      <td>Aaron</td>\n",
       "      <td>8</td>\n",
       "      <td>3</td>\n",
       "      <td>2</td>\n",
       "      <td>5</td>\n",
       "      <td>8</td>\n",
       "      <td>1</td>\n",
       "      <td>9.0</td>\n",
       "    </tr>\n",
       "    <tr>\n",
       "      <th>23</th>\n",
       "      <td>1</td>\n",
       "      <td>Anna</td>\n",
       "      <td>7</td>\n",
       "      <td>7</td>\n",
       "      <td>10</td>\n",
       "      <td>6</td>\n",
       "      <td>2</td>\n",
       "      <td>9</td>\n",
       "      <td>9.0</td>\n",
       "    </tr>\n",
       "    <tr>\n",
       "      <th>24</th>\n",
       "      <td>2</td>\n",
       "      <td>ChrisB</td>\n",
       "      <td>7</td>\n",
       "      <td>3</td>\n",
       "      <td>8</td>\n",
       "      <td>9</td>\n",
       "      <td>2</td>\n",
       "      <td>1</td>\n",
       "      <td>7.0</td>\n",
       "    </tr>\n",
       "    <tr>\n",
       "      <th>25</th>\n",
       "      <td>2</td>\n",
       "      <td>Weiran</td>\n",
       "      <td>8</td>\n",
       "      <td>5</td>\n",
       "      <td>8</td>\n",
       "      <td>7</td>\n",
       "      <td>2</td>\n",
       "      <td>2</td>\n",
       "      <td>9.0</td>\n",
       "    </tr>\n",
       "    <tr>\n",
       "      <th>26</th>\n",
       "      <td>2</td>\n",
       "      <td>Haowen</td>\n",
       "      <td>7</td>\n",
       "      <td>5</td>\n",
       "      <td>10</td>\n",
       "      <td>8</td>\n",
       "      <td>4</td>\n",
       "      <td>1</td>\n",
       "      <td>8.0</td>\n",
       "    </tr>\n",
       "    <tr>\n",
       "      <th>27</th>\n",
       "      <td>1</td>\n",
       "      <td>Luke</td>\n",
       "      <td>6</td>\n",
       "      <td>4</td>\n",
       "      <td>8</td>\n",
       "      <td>6</td>\n",
       "      <td>2</td>\n",
       "      <td>6</td>\n",
       "      <td>7.0</td>\n",
       "    </tr>\n",
       "    <tr>\n",
       "      <th>28</th>\n",
       "      <td>0</td>\n",
       "      <td>Sunghun</td>\n",
       "      <td>8</td>\n",
       "      <td>8</td>\n",
       "      <td>7</td>\n",
       "      <td>5</td>\n",
       "      <td>3</td>\n",
       "      <td>4</td>\n",
       "      <td>5.0</td>\n",
       "    </tr>\n",
       "    <tr>\n",
       "      <th>29</th>\n",
       "      <td>1</td>\n",
       "      <td>YL</td>\n",
       "      <td>9</td>\n",
       "      <td>8</td>\n",
       "      <td>9</td>\n",
       "      <td>8</td>\n",
       "      <td>3</td>\n",
       "      <td>7</td>\n",
       "      <td>5.0</td>\n",
       "    </tr>\n",
       "    <tr>\n",
       "      <th>30</th>\n",
       "      <td>1</td>\n",
       "      <td>Rugved</td>\n",
       "      <td>6</td>\n",
       "      <td>7</td>\n",
       "      <td>5</td>\n",
       "      <td>9</td>\n",
       "      <td>2</td>\n",
       "      <td>7</td>\n",
       "      <td>10.0</td>\n",
       "    </tr>\n",
       "    <tr>\n",
       "      <th>31</th>\n",
       "      <td>2</td>\n",
       "      <td>Paul</td>\n",
       "      <td>2</td>\n",
       "      <td>2</td>\n",
       "      <td>8</td>\n",
       "      <td>8</td>\n",
       "      <td>0</td>\n",
       "      <td>6</td>\n",
       "      <td>9.0</td>\n",
       "    </tr>\n",
       "    <tr>\n",
       "      <th>32</th>\n",
       "      <td>1</td>\n",
       "      <td>Ang</td>\n",
       "      <td>6</td>\n",
       "      <td>4</td>\n",
       "      <td>8</td>\n",
       "      <td>6</td>\n",
       "      <td>6</td>\n",
       "      <td>5</td>\n",
       "      <td>8.0</td>\n",
       "    </tr>\n",
       "    <tr>\n",
       "      <th>33</th>\n",
       "      <td>2</td>\n",
       "      <td>Christina</td>\n",
       "      <td>7</td>\n",
       "      <td>8</td>\n",
       "      <td>8</td>\n",
       "      <td>10</td>\n",
       "      <td>3</td>\n",
       "      <td>3</td>\n",
       "      <td>5.0</td>\n",
       "    </tr>\n",
       "    <tr>\n",
       "      <th>34</th>\n",
       "      <td>1</td>\n",
       "      <td>Chengyi</td>\n",
       "      <td>7</td>\n",
       "      <td>3</td>\n",
       "      <td>9</td>\n",
       "      <td>10</td>\n",
       "      <td>8</td>\n",
       "      <td>8</td>\n",
       "      <td>7.0</td>\n",
       "    </tr>\n",
       "    <tr>\n",
       "      <th>35</th>\n",
       "      <td>1</td>\n",
       "      <td>Liam</td>\n",
       "      <td>5</td>\n",
       "      <td>6</td>\n",
       "      <td>10</td>\n",
       "      <td>9</td>\n",
       "      <td>0</td>\n",
       "      <td>8</td>\n",
       "      <td>7.0</td>\n",
       "    </tr>\n",
       "    <tr>\n",
       "      <th>36</th>\n",
       "      <td>1</td>\n",
       "      <td>Lauren S</td>\n",
       "      <td>5</td>\n",
       "      <td>3</td>\n",
       "      <td>10</td>\n",
       "      <td>1</td>\n",
       "      <td>2</td>\n",
       "      <td>8</td>\n",
       "      <td>6.0</td>\n",
       "    </tr>\n",
       "    <tr>\n",
       "      <th>37</th>\n",
       "      <td>1</td>\n",
       "      <td>PinChia</td>\n",
       "      <td>5</td>\n",
       "      <td>5</td>\n",
       "      <td>8</td>\n",
       "      <td>7</td>\n",
       "      <td>3</td>\n",
       "      <td>7</td>\n",
       "      <td>8.0</td>\n",
       "    </tr>\n",
       "    <tr>\n",
       "      <th>38</th>\n",
       "      <td>0</td>\n",
       "      <td>Lai</td>\n",
       "      <td>8</td>\n",
       "      <td>3</td>\n",
       "      <td>1</td>\n",
       "      <td>5</td>\n",
       "      <td>6</td>\n",
       "      <td>7</td>\n",
       "      <td>5.0</td>\n",
       "    </tr>\n",
       "    <tr>\n",
       "      <th>39</th>\n",
       "      <td>1</td>\n",
       "      <td>Yuheng Cai</td>\n",
       "      <td>8</td>\n",
       "      <td>2</td>\n",
       "      <td>8</td>\n",
       "      <td>8</td>\n",
       "      <td>2</td>\n",
       "      <td>9</td>\n",
       "      <td>9.0</td>\n",
       "    </tr>\n",
       "    <tr>\n",
       "      <th>40</th>\n",
       "      <td>1</td>\n",
       "      <td>Sec</td>\n",
       "      <td>3</td>\n",
       "      <td>7</td>\n",
       "      <td>7</td>\n",
       "      <td>3</td>\n",
       "      <td>5</td>\n",
       "      <td>10</td>\n",
       "      <td>9.0</td>\n",
       "    </tr>\n",
       "    <tr>\n",
       "      <th>41</th>\n",
       "      <td>0</td>\n",
       "      <td>Chuyao</td>\n",
       "      <td>9</td>\n",
       "      <td>5</td>\n",
       "      <td>5</td>\n",
       "      <td>2</td>\n",
       "      <td>7</td>\n",
       "      <td>7</td>\n",
       "      <td>7.0</td>\n",
       "    </tr>\n",
       "    <tr>\n",
       "      <th>42</th>\n",
       "      <td>1</td>\n",
       "      <td>Yuanting</td>\n",
       "      <td>10</td>\n",
       "      <td>5</td>\n",
       "      <td>8</td>\n",
       "      <td>8</td>\n",
       "      <td>2</td>\n",
       "      <td>9</td>\n",
       "      <td>7.0</td>\n",
       "    </tr>\n",
       "    <tr>\n",
       "      <th>43</th>\n",
       "      <td>1</td>\n",
       "      <td>Jing Wang</td>\n",
       "      <td>8</td>\n",
       "      <td>7</td>\n",
       "      <td>9</td>\n",
       "      <td>7</td>\n",
       "      <td>4</td>\n",
       "      <td>5</td>\n",
       "      <td>6.0</td>\n",
       "    </tr>\n",
       "    <tr>\n",
       "      <th>44</th>\n",
       "      <td>1</td>\n",
       "      <td>Eric Kim</td>\n",
       "      <td>3</td>\n",
       "      <td>8</td>\n",
       "      <td>9</td>\n",
       "      <td>9</td>\n",
       "      <td>10</td>\n",
       "      <td>10</td>\n",
       "      <td>4.0</td>\n",
       "    </tr>\n",
       "    <tr>\n",
       "      <th>45</th>\n",
       "      <td>0</td>\n",
       "      <td>Akio</td>\n",
       "      <td>7</td>\n",
       "      <td>4</td>\n",
       "      <td>5</td>\n",
       "      <td>5</td>\n",
       "      <td>8</td>\n",
       "      <td>3</td>\n",
       "      <td>3.0</td>\n",
       "    </tr>\n",
       "    <tr>\n",
       "      <th>46</th>\n",
       "      <td>0</td>\n",
       "      <td>Anant</td>\n",
       "      <td>9</td>\n",
       "      <td>10</td>\n",
       "      <td>5</td>\n",
       "      <td>5</td>\n",
       "      <td>2</td>\n",
       "      <td>6</td>\n",
       "      <td>2.0</td>\n",
       "    </tr>\n",
       "    <tr>\n",
       "      <th>47</th>\n",
       "      <td>1</td>\n",
       "      <td>Shanmeng</td>\n",
       "      <td>8</td>\n",
       "      <td>5</td>\n",
       "      <td>10</td>\n",
       "      <td>5</td>\n",
       "      <td>5</td>\n",
       "      <td>8</td>\n",
       "      <td>10.0</td>\n",
       "    </tr>\n",
       "    <tr>\n",
       "      <th>48</th>\n",
       "      <td>0</td>\n",
       "      <td>js</td>\n",
       "      <td>7</td>\n",
       "      <td>5</td>\n",
       "      <td>10</td>\n",
       "      <td>9</td>\n",
       "      <td>6</td>\n",
       "      <td>3</td>\n",
       "      <td>2.0</td>\n",
       "    </tr>\n",
       "    <tr>\n",
       "      <th>49</th>\n",
       "      <td>1</td>\n",
       "      <td>Chen</td>\n",
       "      <td>7</td>\n",
       "      <td>6</td>\n",
       "      <td>9</td>\n",
       "      <td>8</td>\n",
       "      <td>5</td>\n",
       "      <td>8</td>\n",
       "      <td>5.0</td>\n",
       "    </tr>\n",
       "    <tr>\n",
       "      <th>50</th>\n",
       "      <td>0</td>\n",
       "      <td>Ping</td>\n",
       "      <td>2</td>\n",
       "      <td>2</td>\n",
       "      <td>4</td>\n",
       "      <td>4</td>\n",
       "      <td>5</td>\n",
       "      <td>8</td>\n",
       "      <td>2.0</td>\n",
       "    </tr>\n",
       "    <tr>\n",
       "      <th>51</th>\n",
       "      <td>1</td>\n",
       "      <td>Mengying</td>\n",
       "      <td>2</td>\n",
       "      <td>9</td>\n",
       "      <td>7</td>\n",
       "      <td>4</td>\n",
       "      <td>4</td>\n",
       "      <td>9</td>\n",
       "      <td>6.0</td>\n",
       "    </tr>\n",
       "    <tr>\n",
       "      <th>52</th>\n",
       "      <td>0</td>\n",
       "      <td>Innocent</td>\n",
       "      <td>10</td>\n",
       "      <td>8</td>\n",
       "      <td>5</td>\n",
       "      <td>9</td>\n",
       "      <td>5</td>\n",
       "      <td>3</td>\n",
       "      <td>3.0</td>\n",
       "    </tr>\n",
       "    <tr>\n",
       "      <th>53</th>\n",
       "      <td>0</td>\n",
       "      <td>Dong</td>\n",
       "      <td>10</td>\n",
       "      <td>7</td>\n",
       "      <td>3</td>\n",
       "      <td>10</td>\n",
       "      <td>9</td>\n",
       "      <td>5</td>\n",
       "      <td>3.0</td>\n",
       "    </tr>\n",
       "    <tr>\n",
       "      <th>54</th>\n",
       "      <td>2</td>\n",
       "      <td>Ethan</td>\n",
       "      <td>6</td>\n",
       "      <td>7</td>\n",
       "      <td>7</td>\n",
       "      <td>9</td>\n",
       "      <td>3</td>\n",
       "      <td>3</td>\n",
       "      <td>10.0</td>\n",
       "    </tr>\n",
       "    <tr>\n",
       "      <th>55</th>\n",
       "      <td>1</td>\n",
       "      <td>PJC</td>\n",
       "      <td>5</td>\n",
       "      <td>7</td>\n",
       "      <td>9</td>\n",
       "      <td>6</td>\n",
       "      <td>4</td>\n",
       "      <td>6</td>\n",
       "      <td>6.0</td>\n",
       "    </tr>\n",
       "    <tr>\n",
       "      <th>56</th>\n",
       "      <td>1</td>\n",
       "      <td>Albert</td>\n",
       "      <td>9</td>\n",
       "      <td>8</td>\n",
       "      <td>10</td>\n",
       "      <td>10</td>\n",
       "      <td>5</td>\n",
       "      <td>10</td>\n",
       "      <td>10.0</td>\n",
       "    </tr>\n",
       "    <tr>\n",
       "      <th>57</th>\n",
       "      <td>1</td>\n",
       "      <td>Yen</td>\n",
       "      <td>9</td>\n",
       "      <td>6</td>\n",
       "      <td>9</td>\n",
       "      <td>9</td>\n",
       "      <td>5</td>\n",
       "      <td>7</td>\n",
       "      <td>8.0</td>\n",
       "    </tr>\n",
       "  </tbody>\n",
       "</table>\n",
       "</div>"
      ],
      "text/plain": [
       "    0        Name  Jazz  Soul  Pop  R&B  Opera  Country  Rock&Roll\n",
       "0   1         Kai     8     8   10   10      2        5        6.0\n",
       "1   1       Chris     4     6    2    7      8        9       10.0\n",
       "2   1     Michael     7     7    9    8      3        7        7.0\n",
       "3   1       Sonal     8     7    8    7      3        6        5.0\n",
       "4   1      Inayah     8     7    9    9      5        6        5.0\n",
       "5   2        Adam     8     7   10    8      1        2        9.0\n",
       "6   1        Huan     7     8    9    8      5        5        9.0\n",
       "7   2         Zoe     4     9    8   10      2        1        8.0\n",
       "8   0          Yi     6     3    7    2      6        3        5.0\n",
       "9   1          PJ     4    10    7    3      1        6        6.0\n",
       "10  2        Luke     5     3    4    2      2        1       10.0\n",
       "11  0          EJ     9     8    6    4      4        2        5.0\n",
       "12  1       Yifan     3     3    8    7      4        7       10.0\n",
       "13  2         Rap     8     5    7    6      2        2        8.0\n",
       "14  1       Arwen     7     8    8    5      2       10        8.0\n",
       "15  0        Shen     7     8    7    3      4       10        1.0\n",
       "16  2       Johan     4     6    7    9      1        2        7.0\n",
       "17  0        Phil     8     7    4    4      9        1        8.0\n",
       "18  2        Koki     7     5    3    9      1        1        8.0\n",
       "19  1     Jinghui     8     6    6    4      4        7        9.0\n",
       "20  0     Anthony     6     6    4    4      0        8        2.0\n",
       "21  0      Stella     6     4    9    7      2        1        1.0\n",
       "22  0       Aaron     8     3    2    5      8        1        9.0\n",
       "23  1        Anna     7     7   10    6      2        9        9.0\n",
       "24  2      ChrisB     7     3    8    9      2        1        7.0\n",
       "25  2      Weiran     8     5    8    7      2        2        9.0\n",
       "26  2      Haowen     7     5   10    8      4        1        8.0\n",
       "27  1        Luke     6     4    8    6      2        6        7.0\n",
       "28  0     Sunghun     8     8    7    5      3        4        5.0\n",
       "29  1          YL     9     8    9    8      3        7        5.0\n",
       "30  1      Rugved     6     7    5    9      2        7       10.0\n",
       "31  2        Paul     2     2    8    8      0        6        9.0\n",
       "32  1         Ang     6     4    8    6      6        5        8.0\n",
       "33  2   Christina     7     8    8   10      3        3        5.0\n",
       "34  1     Chengyi     7     3    9   10      8        8        7.0\n",
       "35  1        Liam     5     6   10    9      0        8        7.0\n",
       "36  1    Lauren S     5     3   10    1      2        8        6.0\n",
       "37  1     PinChia     5     5    8    7      3        7        8.0\n",
       "38  0         Lai     8     3    1    5      6        7        5.0\n",
       "39  1  Yuheng Cai     8     2    8    8      2        9        9.0\n",
       "40  1         Sec     3     7    7    3      5       10        9.0\n",
       "41  0      Chuyao     9     5    5    2      7        7        7.0\n",
       "42  1    Yuanting    10     5    8    8      2        9        7.0\n",
       "43  1   Jing Wang     8     7    9    7      4        5        6.0\n",
       "44  1    Eric Kim     3     8    9    9     10       10        4.0\n",
       "45  0        Akio     7     4    5    5      8        3        3.0\n",
       "46  0       Anant     9    10    5    5      2        6        2.0\n",
       "47  1    Shanmeng     8     5   10    5      5        8       10.0\n",
       "48  0          js     7     5   10    9      6        3        2.0\n",
       "49  1        Chen     7     6    9    8      5        8        5.0\n",
       "50  0        Ping     2     2    4    4      5        8        2.0\n",
       "51  1    Mengying     2     9    7    4      4        9        6.0\n",
       "52  0    Innocent    10     8    5    9      5        3        3.0\n",
       "53  0        Dong    10     7    3   10      9        5        3.0\n",
       "54  2       Ethan     6     7    7    9      3        3       10.0\n",
       "55  1         PJC     5     7    9    6      4        6        6.0\n",
       "56  1      Albert     9     8   10   10      5       10       10.0\n",
       "57  1         Yen     9     6    9    9      5        7        8.0"
      ]
     },
     "execution_count": 13,
     "metadata": {},
     "output_type": "execute_result"
    }
   ],
   "source": [
    "pd.concat([pd.DataFrame(kmeans.labels_).reset_index(),music.reset_index()],axis=1).drop('index',axis=1)"
   ]
  },
  {
   "cell_type": "markdown",
   "metadata": {
    "slideshow": {
     "slide_type": "subslide"
    }
   },
   "source": [
    "There are a number of different evaluation metrics available, but one of the most common is called the \"silhouette score\", which ranges between -1 and 1.  Higher values indicate a better model."
   ]
  },
  {
   "cell_type": "code",
   "execution_count": 14,
   "metadata": {
    "slideshow": {
     "slide_type": "subslide"
    }
   },
   "outputs": [],
   "source": [
    "from sklearn import metrics"
   ]
  },
  {
   "cell_type": "code",
   "execution_count": 15,
   "metadata": {},
   "outputs": [
    {
     "data": {
      "text/plain": [
       "0.16923750699186288"
      ]
     },
     "execution_count": 15,
     "metadata": {},
     "output_type": "execute_result"
    }
   ],
   "source": [
    "metrics.silhouette_score(music_nonames,kmeans.labels_)"
   ]
  },
  {
   "cell_type": "markdown",
   "metadata": {},
   "source": [
    "It's also possible to visualize the silhouette scores and the performance of the clusterer:"
   ]
  },
  {
   "cell_type": "code",
   "execution_count": 39,
   "metadata": {
    "slideshow": {
     "slide_type": "slide"
    }
   },
   "outputs": [
    {
     "name": "stdout",
     "output_type": "stream",
     "text": [
      "For n_clusters = 2 The average silhouette_score is : 0.1699221050070042\n",
      "For n_clusters = 3 The average silhouette_score is : 0.13783604325878024\n",
      "For n_clusters = 4 The average silhouette_score is : 0.13313749303664593\n",
      "For n_clusters = 5 The average silhouette_score is : 0.11777376814931459\n",
      "For n_clusters = 6 The average silhouette_score is : 0.11855903601230164\n"
     ]
    },
    {
     "data": {
      "image/png": "[encoded data removed]",
      "text/plain": [
       "<Figure size 1296x504 with 2 Axes>"
      ]
     },
     "metadata": {
      "needs_background": "light"
     },
     "output_type": "display_data"
    },
    {
     "data": {
      "image/png": "[encoded data removed]",
      "text/plain": [
       "<Figure size 1296x504 with 2 Axes>"
      ]
     },
     "metadata": {
      "needs_background": "light"
     },
     "output_type": "display_data"
    },
    {
     "data": {
      "image/png": "[encoded data removed]",
      "text/plain": [
       "<Figure size 1296x504 with 2 Axes>"
      ]
     },
     "metadata": {
      "needs_background": "light"
     },
     "output_type": "display_data"
    },
    {
     "data": {
      "image/png": "[encoded data removed]",
      "text/plain": [
       "<Figure size 1296x504 with 2 Axes>"
      ]
     },
     "metadata": {
      "needs_background": "light"
     },
     "output_type": "display_data"
    },
    {
     "data": {
      "image/png": "[encoded data removed]",
      "text/plain": [
       "<Figure size 1296x504 with 2 Axes>"
      ]
     },
     "metadata": {
      "needs_background": "light"
     },
     "output_type": "display_data"
    }
   ],
   "source": [
    "# based on https://scikit-learn.org/stable/auto_examples/cluster/plot_kmeans_silhouette_analysis.html\n",
    "\n",
    "from sklearn.cluster import KMeans\n",
    "from sklearn.metrics import silhouette_samples, silhouette_score\n",
    "\n",
    "import matplotlib.pyplot as plt\n",
    "import matplotlib.cm as cm # colormaps\n",
    "import numpy as np\n",
    "\n",
    "\n",
    "X = music_nonames.values\n",
    "y = music_names\n",
    "\n",
    "range_n_clusters = [2, 3, 4, 5, 6]\n",
    "\n",
    "for n_clusters in range_n_clusters:\n",
    "    # Create a subplot with 1 row and 2 columns\n",
    "    fig, (ax1, ax2) = plt.subplots(1, 2)\n",
    "    fig.set_size_inches(18, 7)\n",
    "\n",
    "    # The 1st subplot is the silhouette plot\n",
    "    # The silhouette coefficient can range from -1, 1 but in this example all\n",
    "    # lie within [-0.1, 1]\n",
    "    ax1.set_xlim([-0.1, 1])\n",
    "    # The (n_clusters+1)*10 is for inserting blank space between silhouette\n",
    "    # plots of individual clusters, to demarcate them clearly.\n",
    "    ax1.set_ylim([0, len(X) + (n_clusters + 1) * 10])\n",
    "\n",
    "    # Initialize the clusterer with n_clusters value and a random generator\n",
    "    # seed of 42 for reproducibility.\n",
    "    clusterer = KMeans(n_clusters=n_clusters, random_state=42)\n",
    "    cluster_labels = clusterer.fit_predict(X)\n",
    "\n",
    "    # The silhouette_score gives the average value for all the samples.\n",
    "    # This gives a perspective into the density and separation of the formed\n",
    "    # clusters\n",
    "    silhouette_avg = silhouette_score(X, cluster_labels)\n",
    "    print(\"For n_clusters =\", n_clusters,\n",
    "          \"The average silhouette_score is :\", silhouette_avg)\n",
    "\n",
    "    # Compute the silhouette scores for each sample\n",
    "    sample_silhouette_values = silhouette_samples(X, cluster_labels)\n",
    "\n",
    "    y_lower = 10\n",
    "    for i in range(n_clusters):\n",
    "        # Aggregate the silhouette scores for samples belonging to\n",
    "        # cluster i, and sort them\n",
    "        ith_cluster_silhouette_values = sample_silhouette_values[cluster_labels == i]\n",
    "\n",
    "        ith_cluster_silhouette_values.sort()\n",
    "\n",
    "        size_cluster_i = ith_cluster_silhouette_values.shape[0]\n",
    "        y_upper = y_lower + size_cluster_i\n",
    "\n",
    "        color = cm.nipy_spectral(float(i) / n_clusters)\n",
    "        ax1.fill_betweenx(np.arange(y_lower, y_upper),\n",
    "                          0, ith_cluster_silhouette_values,\n",
    "                          facecolor=color, edgecolor=color, alpha=0.7)\n",
    "\n",
    "        # Label the silhouette plots with their cluster numbers at the middle\n",
    "        ax1.text(-0.05, y_lower + 0.5 * size_cluster_i, str(i))\n",
    "\n",
    "        # Compute the new y_lower for next plot\n",
    "        y_lower = y_upper + 10  # 10 for the 0 samples\n",
    "\n",
    "    ax1.set_title(\"The silhouette plot for the various clusters.\")\n",
    "    ax1.set_xlabel(\"The silhouette coefficient values\")\n",
    "    ax1.set_ylabel(\"Cluster label\")\n",
    "\n",
    "    # The vertical line for average silhouette score of all the values\n",
    "    ax1.axvline(x=silhouette_avg, color=\"red\", linestyle=\"--\")\n",
    "\n",
    "    ax1.set_yticks([])  # Clear the yaxis labels / ticks\n",
    "    ax1.set_xticks([-0.1, 0, 0.2, 0.4, 0.6, 0.8, 1])\n",
    "\n",
    "    # 2nd Plot showing the actual clusters formed\n",
    "    colors = cm.nipy_spectral(cluster_labels.astype(float) / n_clusters)\n",
    "    ax2.scatter(X[:, 0], X[:, 1], marker='.', s=30, lw=0, alpha=0.7,\n",
    "                c=colors, edgecolor='k')\n",
    "\n",
    "    # Labeling the clusters\n",
    "    centers = clusterer.cluster_centers_\n",
    "    # Draw white circles at cluster centers\n",
    "    ax2.scatter(centers[:, 0], centers[:, 1], marker='o',\n",
    "                c=\"white\", alpha=1, s=200, edgecolor='k')\n",
    "\n",
    "    for i, c in enumerate(centers):\n",
    "        ax2.scatter(c[0], c[1], marker='$%d$' % i, alpha=1,\n",
    "                    s=50, edgecolor='k')\n",
    "\n",
    "    ax2.set_title(\"The visualization of the clustered data.\")\n",
    "    ax2.set_xlabel(\"Feature space for the 1st feature\")\n",
    "    ax2.set_ylabel(\"Feature space for the 2nd feature\")\n",
    "\n",
    "    plt.suptitle((\"Silhouette analysis for KMeans clustering on sample data \"\n",
    "                  \"with n_clusters = %d\" % n_clusters),\n",
    "                 fontsize=14, fontweight='bold')\n",
    "\n",
    "plt.show()"
   ]
  },
  {
   "cell_type": "code",
   "execution_count": null,
   "metadata": {
    "slideshow": {
     "slide_type": "slide"
    }
   },
   "outputs": [],
   "source": [
    " \n",
    "    "
   ]
  },
  {
   "cell_type": "code",
   "execution_count": null,
   "metadata": {},
   "outputs": [],
   "source": []
  }
 ],
 "metadata": {
  "celltoolbar": "Slideshow",
  "kernelspec": {
   "display_name": "Python 3 (ipykernel)",
   "language": "python",
   "name": "python3"
  },
  "language_info": {
   "codemirror_mode": {
    "name": "ipython",
    "version": 3
   },
   "file_extension": ".py",
   "mimetype": "text/x-python",
   "name": "python",
   "nbconvert_exporter": "python",
   "pygments_lexer": "ipython3",
   "version": "3.9.13"
  }
 },
 "nbformat": 4,
 "nbformat_minor": 4
}
